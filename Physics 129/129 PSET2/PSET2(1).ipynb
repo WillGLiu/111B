{
 "cells": [
  {
   "cell_type": "markdown",
   "metadata": {},
   "source": [
    "# Problem Set 2 problems"
   ]
  },
  {
   "cell_type": "markdown",
   "metadata": {},
   "source": [
    "## Question 1: Relativity and Particle Decays"
   ]
  },
  {
   "cell_type": "markdown",
   "metadata": {},
   "source": [
    "### Learning objectives\n",
    "In this question you will:\n",
    "\n",
    "- Review relativistic expressions relevant for determining the mass and lifetime of a particle from its decay products\n",
    "- gain experience in using python to analyze data provided in a text file\n"
   ]
  },
  {
   "cell_type": "markdown",
   "metadata": {},
   "source": [
    "### 1a. "
   ]
  },
  {
   "cell_type": "markdown",
   "metadata": {
    "flags": [
     "problems",
     "solutions"
    ]
   },
   "source": [
    "The decays of particles with lifetimes longer than $\\sim 0.5$ ps can be observed in high resolution particle detectors. By measuring many particle decays, properties such as the decaying particle's mass and lifetime can be determined."
   ]
  },
  {
   "cell_type": "markdown",
   "metadata": {
    "flags": [
     "problems",
     "solutions"
    ]
   },
   "source": [
    "The file decayData.dat contains a set of simulated observations of particle decays that come from one specific species of hadron, which we designate particle $X$. The $X$ is observed through its decay $ X \\rightarrow p \\pi^{-} $ where the $p$ is a proton.  All the  $X$ particles are produced at the origin $(x=0,y=0,z=0)$ but they have with a range of momenta.  The position of the decay and the momentum of the proton and $\\pi^-$ are measured.\n",
    "\n",
    "\n",
    "The following code reads this data file and puts the data into a form that can be easily used in python:"
   ]
  },
  {
   "cell_type": "code",
   "execution_count": 1,
   "metadata": {
    "flags": [
     "problems",
     "solutions"
    ]
   },
   "outputs": [],
   "source": [
    "import math\n",
    "import numpy as np\n",
    "import matplotlib.pyplot as plt\n",
    "from scipy.optimize import curve_fit\n",
    "\n",
    "# Parse the input file.\n",
    "file = \"decayData.dat\"\n",
    "\n",
    "#Each row corresponds to one event. The columns are:\n",
    "# x-position of the decay vertex in cm\n",
    "# y-position of the decay vertex in cm\n",
    "# z-position of the decay vertex in cm\n",
    "# species of first particle (always a proton)\n",
    "# p1x: x-momentum of the proton produced in the decay in GeV\n",
    "# p1y: y-momentum of the proton produced in the decay in GeV\n",
    "# p1z: z-momentum of the proton produced in the decay in GeV\n",
    "# species of second particle (always a pi^-)\n",
    "# p2x: x-momentum of the pi^- produced in the decay in GeV\n",
    "# p2x: y-momentum of the pi^- produced in the decay in GeV\n",
    "# p2x: z-momentum of the pi^- produced in the decay in GeV\n",
    "\n",
    "\n",
    "inMeta = False\n",
    "vx = []\n",
    "vy = []\n",
    "vz = []\n",
    "p1x = []\n",
    "p1y = []\n",
    "p1z = []\n",
    "p2x = []\n",
    "p2y = []\n",
    "p2z = []\n",
    "\n",
    "\n",
    "inMeta = True\n",
    "for line in open(file,\"r\"):\n",
    "    line = line.strip()\n",
    "    info = line.split(\",\")    \n",
    "    if inMeta and (\"<metadata>\" in info[0]):\n",
    "        inMeta = True\n",
    "    elif inMeta and (\"</metadata>\" in info[0]):\n",
    "        inMeta = False\n",
    "    elif not inMeta:\n",
    "        vx.append(float(info[0]))\n",
    "        vy.append(float(info[1]))\n",
    "        vz.append(float(info[2]))\n",
    "        p1x.append(float(info[4]))\n",
    "        p1y.append(float(info[5]))\n",
    "        p1z.append(float(info[6]))\n",
    "        p2x.append(float(info[8]))\n",
    "        p2y.append(float(info[9]))\n",
    "        p2z.append(float(info[10]))\n",
    "massPiInGeV = 0.13957\n",
    "massProtonInGeV = 0.93827"
   ]
  },
  {
   "cell_type": "markdown",
   "metadata": {
    "flags": [
     "problems",
     "solutions"
    ]
   },
   "source": [
    "Verify that all these events correspond to the decay of a particle of a specific species by making a histogram of the invariant mass of the decays."
   ]
  },
  {
   "cell_type": "code",
   "execution_count": 2,
   "metadata": {},
   "outputs": [],
   "source": [
    "# '1' = proton, '2' = pion"
   ]
  },
  {
   "cell_type": "code",
   "execution_count": 3,
   "metadata": {},
   "outputs": [],
   "source": [
    "# cm --> meters\n",
    "vx = np.array(vx)/100\n",
    "vy = np.array(vy)/100\n",
    "vz = np.array(vz)/100\n",
    "p1x = np.array(p1x)\n",
    "p1y = np.array(p1y)\n",
    "p1z = np.array(p1z)\n",
    "p2x = np.array(p2x)\n",
    "p2y = np.array(p2y)\n",
    "p2z = np.array(p2z)"
   ]
  },
  {
   "cell_type": "code",
   "execution_count": 4,
   "metadata": {},
   "outputs": [],
   "source": [
    "# invariant mass formula\n",
    "# E^2 - |pvec|^2 = m^2\n",
    "proton_energies = np.sqrt(massProtonInGeV**2 + p1x**2 + p1y**2 + p1z**2)\n",
    "pion_energies = np.sqrt(massPiInGeV**2 + p2x**2 + p2y**2 + p2z**2)\n",
    "\n",
    "X_energies = proton_energies + pion_energies\n",
    "Xpx = p1x + p2x\n",
    "Xpy = p1y + p2y\n",
    "Xpz = p1z + p2z\n",
    "Xpmag = np.sqrt(Xpx**2 + Xpy**2 + Xpz**2)\n",
    "\n",
    "X_invmass = np.sqrt(X_energies**2 - Xpmag**2)"
   ]
  },
  {
   "cell_type": "code",
   "execution_count": 5,
   "metadata": {},
   "outputs": [
    {
     "data": {
      "image/png": "[encoded data removed]",
      "text/plain": [
       "<Figure size 432x288 with 1 Axes>"
      ]
     },
     "metadata": {
      "needs_background": "light"
     },
     "output_type": "display_data"
    },
    {
     "name": "stdout",
     "output_type": "stream",
     "text": [
      "Mean invariant mass = 1.1156460781296815 GeV\n"
     ]
    }
   ],
   "source": [
    "plt.figure()\n",
    "plt.hist(X_invmass, bins = 100)\n",
    "plt.xlabel(\"Invariant Mass (GeV)\")\n",
    "plt.xlim(1.110, 1.12)\n",
    "plt.ylabel(\"Counts\")\n",
    "plt.show()\n",
    "print('Mean invariant mass =', np.mean(X_invmass), 'GeV')"
   ]
  },
  {
   "cell_type": "markdown",
   "metadata": {},
   "source": [
    "### 1b. "
   ]
  },
  {
   "cell_type": "markdown",
   "metadata": {
    "flags": [
     "problems",
     "solutions"
    ]
   },
   "source": [
    "Using these data, determine the lifetime of the $X$ particle.  What evidence do you have that the $X$ has a decay distribution consistent with a single species with one lifetime?  Note: your answer to this part does not have to be very detailed.  A simple graph and a sentence or two of explanation is sufficient"
   ]
  },
  {
   "cell_type": "code",
   "execution_count": 242,
   "metadata": {},
   "outputs": [],
   "source": [
    "from scipy.optimize import curve_fit"
   ]
  },
  {
   "cell_type": "code",
   "execution_count": 268,
   "metadata": {},
   "outputs": [],
   "source": [
    "hbar = 6.582*10**(-16) *10**(-9)  # GeV*s\n",
    "c = 3*(10**8) # m/s"
   ]
  },
  {
   "cell_type": "code",
   "execution_count": 278,
   "metadata": {
    "scrolled": true
   },
   "outputs": [
    {
     "data": {
      "image/png": "[encoded data removed]",
      "text/plain": [
       "<Figure size 432x288 with 1 Axes>"
      ]
     },
     "metadata": {
      "needs_background": "light"
     },
     "output_type": "display_data"
    },
    {
     "name": "stdout",
     "output_type": "stream",
     "text": [
      "Normalization factor =  25.30662647550137\n",
      "Mean Lifetime (tau) =  0.08700914342754491 m\n"
     ]
    }
   ],
   "source": [
    "# v = p/m\n",
    "# position magnitude/tau = v = p/m  <--- this works because all X's started at the origin of (0,0,0)\n",
    "# tau = lifetime = position (magnitude) * mass / momentum\n",
    "distances = np.sqrt(vx**2 + vy**2 + vz**2) # m\n",
    "#NUdistances = (distances * 10**9)/(hbar * c) # GeV^-1\n",
    "times = distances * X_invmass/ Xpmag # m\n",
    "\n",
    "# we expect the decay to fit to an exponential decay\n",
    "def decay(times, Norm, tau):\n",
    "    return (Norm/tau)*np.exp(-times/tau)\n",
    "\n",
    "num_bins = 20\n",
    "\n",
    "\n",
    "plt.figure()\n",
    "plt.title(\"Counts vs Time\")\n",
    "\n",
    "n, bins, patches = plt.hist(times,num_bins)#, density = True)\n",
    "bin_centers = 0.5*(bins[1:] + bins[:-1])\n",
    "\n",
    "#plt.hist(tau, bins = 20, density = True)\n",
    "plt.xlabel('Time [m]')\n",
    "plt.ylabel(\"Counts\")\n",
    "\n",
    "fittedparams, hessian = curve_fit(decay, bin_centers, n)\n",
    "param_err = np.sqrt(np.diag(hessian))\n",
    "\n",
    "t = np.linspace(0, np.max(times), 1000)\n",
    "plt.plot(t, decay(t, fittedparams[0], fittedparams[1]), label='Fitted Curve')\n",
    "plt.legend()\n",
    "plt.show()\n",
    "\n",
    "print(\"Normalization factor = \", fittedparams[0])\n",
    "print('Mean Lifetime (tau) = ', fittedparams[1], 'm')\n",
    "#print('in natural units: tau = ', fittedparams[1]/hbar, 'GeV^-1')"
   ]
  },
  {
   "cell_type": "markdown",
   "metadata": {},
   "source": [
    "Evidence: The data fits well to a single exponential decay curve; thus, it's highly likely that the decay rate of X corresponds to that of 1 species."
   ]
  },
  {
   "cell_type": "markdown",
   "metadata": {},
   "source": [
    "---"
   ]
  },
  {
   "cell_type": "markdown",
   "metadata": {},
   "source": [
    "## Question 2: $\\pi^0$ Decay"
   ]
  },
  {
   "cell_type": "markdown",
   "metadata": {},
   "source": [
    "### Learning objectives\n",
    "In this question you will:\n",
    "\n",
    "- Review basic concepts of Special Relativity and Lorentz Boosts\n",
    "- Apply these concepts to the case of $\\pi^0\\rightarrow \\gamma \\gamma$ decay\n",
    "- Learn techniques needed to simulate the decay of an ensemble of  $\\pi^0$s with non-zero momentum\n"
   ]
  },
  {
   "cell_type": "markdown",
   "metadata": {
    "flags": [
     "problems",
     "solutions"
    ]
   },
   "source": [
    "*Adapted from Perkins $4^{th}$ Edition Problem 1.4*\n",
    "\n",
    "In this problem you will derive an expression for the distribution of photon energies produced in the decays of $\\pi^0$s that are moving with fixed momentum.  Then, you will learn how to create a simulated sample of such $\\pi^0$ decays.   Note: In this problem, we will use natural units where $\\hbar=c=1$."
   ]
  },
  {
   "cell_type": "markdown",
   "metadata": {},
   "source": [
    "### 2a. "
   ]
  },
  {
   "cell_type": "markdown",
   "metadata": {
    "flags": [
     "problems",
     "solutions"
    ]
   },
   "source": [
    "A particle beam consists of $\\pi^0$'s all with energy $E_{lab}$ and all traveling in the $+z$ direction. Find an expression for the energy of the photons produced from the $\\pi^0$ decays as a function of $m_\\pi$, $E_{lab}$ and $\\theta^*$ (the angle of emission  of the  photon with respect to the $z$-axis in the pion rest frame).  Using this expression, show that the lab energy spectrum of the photons is flat, extending from $E_{lab}\\left (1+\\beta \\right )/2$ to $E_{lab}\\left (1-\\beta \\right )/2$, where $\\beta$ is the velocity of the $\\pi^0$ in the lab frame."
   ]
  },
  {
   "cell_type": "markdown",
   "metadata": {},
   "source": [
    "In the CM frame: $$ \\vec{k_1} = -\\vec{k_2} $$ This is because the resulting photons have zero mass, but the momentum must be conserved in the CM frame"
   ]
  },
  {
   "cell_type": "markdown",
   "metadata": {},
   "source": [
    "$$ m_{\\pi^0} = k_1^0 + k_2^0 = 2k_1^0$$ where $k_1 = (k_0^1;\\vec{k_1}$). Thus,\n",
    "$$ k_1^0 = \\frac{m_\\pi^0}{2} $$ \n",
    "$$\\therefore k_1 = \\frac{m_{\\pi^0}}{2}(1,\\vec{n})$$\n",
    "Here, $\\vec{n}$ the vector with direction $\\theta^*$ from the z-axis. $k_2$ has a similar expression but pointing in the opposite direction, as to (again) conserve momentum. "
   ]
  },
  {
   "cell_type": "markdown",
   "metadata": {},
   "source": [
    "Now, we have to boost into the lab frame to get the observed energy spectrum (for \"photon 1\"):\n",
    "$$ E_{{lab}_1} = \\gamma (k_1^0 + \\vec{\\beta}\\cdot \\vec{k_1}) $$\n",
    "Plugging in the four momentum $k_1$ from above, we have:\n",
    "$$ E_{{lab}_1} = \\frac{m_{\\pi^0} \\gamma}{2}(1 + \\beta cos(\\theta^*)) $$\n",
    "as the observed energy spectrum of $\\gamma_1$. From here, we recognize that if we Lorentz boost the original pion energy, we have \n",
    "$$ E_{{lab}_{\\pi}} = \\gamma m_{\\pi^0} $$\n",
    "Thus, we can plug it into the photon's energy equation\n",
    "$$ E_{{lab}_ 1} = \\frac{m_{\\pi^0} \\gamma}{2}(1 + \\beta cos(\\theta^*)) =  \\frac{E_{{lab}_{\\pi}}}{2}(1 + \\beta cos(\\theta^*))$$ which has the range we want. Applying the same transformation for $\\gamma_2$'s energy, we have almost the same expression (difference only by $-\\vec{n}$ instead of $\\vec{n}$):\n",
    "$$ E_{{lab}_ 2} = \\frac{m_{\\pi^0} \\gamma}{2}(1 - \\beta cos(\\theta^*)) =  \\frac{E_{{lab}_{\\pi}}}{2}(1 - \\beta cos(\\theta^*))$$"
   ]
  },
  {
   "cell_type": "markdown",
   "metadata": {},
   "source": [
    "### 2b. "
   ]
  },
  {
   "cell_type": "markdown",
   "metadata": {
    "flags": [
     "problems",
     "solutions"
    ]
   },
   "source": [
    "Find an expression for the disparity $D$ (the ratio of the energy of the higher energy photon to the energy of the lower energy) and show that in the relativistic limit $\\beta\\approx 1$, $D>3$ in half the decays and $D>7$ in one quarter"
   ]
  },
  {
   "cell_type": "markdown",
   "metadata": {},
   "source": [
    "The maximum photon energy possible should be $constant \\times (1 + \\beta)$ and the minimum $constant \\times (1 - \\beta)$ (where the constant is just the term out front from the above $E_{{lab}_1}$ expression. So the higher energy one, for the same $\\theta^*$ should be $\\gamma_1$. Thus, the disparity $D$ is: \n",
    "$$ D = \\frac{E_{higher}}{E_{lower}} = \\frac{1 + \\beta cos(\\theta^*)}{1 - \\beta cos(\\theta^*)} $$\n",
    "Assumming $\\beta \\approx 1$, then\n",
    "$$ D  = \\frac{1 + cos(\\theta^*)}{1 - cos(\\theta^*)} $$ "
   ]
  },
  {
   "cell_type": "markdown",
   "metadata": {},
   "source": [
    "To find disparity after a certain amount of decays, we need to know its distribution, which means we need to know $\\frac{dN}{dD}$. We can do this by figuring out the result of \n",
    "$$ \\frac{dN}{dD}= \\frac{dN}{dcos(\\theta^*)} \\frac{dcos(\\theta^*)}{dD} $$\n",
    "This can be simplified (visually) by setting a new variable $x = \\cos(\\theta^*) $\n",
    "So \n",
    "$$ D = \\frac{1 + x}{1 - x} $$\n",
    "$$ \\frac{dD}{dx} = \\frac{2}{(1-x)^2} $$ \n",
    "$$ \\frac{dN}{dD} = \\frac{dN}{dx} (\\frac{dD}{dx})^{-1} = \\frac{dN}{dx} \\frac{(1-x)^2}{2} $$\n",
    "Rewriting $x$ to be in terms of $D$\n",
    "$$ x = \\frac{D - 1}{D + 1} $$ so\n",
    "$$ \\frac{dN}{dD} = \\frac{dN}{dx} (\\frac{dD}{dx})^{-1} = \\frac{dN}{dx} \\frac{2}{(1+D)^2} $$\n",
    "Finally, we can integrate to get $N$ out:\n",
    "$$ N(D>D_0) = \\int{ \\frac{dN}{dx} \\frac{2}{(1+D)^2} dD} = \\frac{dN}{dx} \\frac{2}{1+D_0}$$\n",
    "We integrate it like this because we want to know the rest of the distribution ABOVE a certain D value, and also we're integrating to infinity. <br/>\n",
    "So, we're given $D > 3$ and $D > 7$, so:\n",
    "$$ N(D>3) = \\frac{dN}{dx} \\frac{2}{1+3} = \\frac{1}{2} \\frac{dN}{dx} $$\n",
    "$$ N(D>7) = \\frac{dN}{dx} \\frac{2}{1+7} = \\frac{1}{4} \\frac{dN}{dx} $$\n",
    "We see that the result checks out with the initial claim \"$D>3$ in half the decays and $D>7$ in one quarter\" "
   ]
  },
  {
   "cell_type": "markdown",
   "metadata": {},
   "source": [
    "### 2c. "
   ]
  },
  {
   "cell_type": "markdown",
   "metadata": {
    "flags": [
     "problems",
     "solutions"
    ]
   },
   "source": [
    "It is often useful for physicists to simulate experimental data.  Such simulations allow us generate an ensemble of events corresponding to a given physical process and to study them.  Generated events can be passed through a simulated detector that has imperfections (finite resolution, missing channels, incomplete angular coverage, etc) and the effect of such imperfections on our measurements can be assessed.  This problem is our first example of creating such simulated data.  Our simulation will be quite simple but the concepts developed here will be used through the semester."
   ]
  },
  {
   "cell_type": "markdown",
   "metadata": {
    "flags": [
     "problems",
     "solutions"
    ]
   },
   "source": [
    "Assume we have a beam of 10000 $\\pi^0$ all with energy 5 GeV.  Simulate the decay of these pions and plot (histogram) the following distributions:\n",
    "- The energies of the photons produced in the $\\pi^0$ decay\n",
    "- The disparity of the decays\n",
    "- The angles $\\theta$ between the momenta of the photons and that of the $\\pi^0$ in the lab frame.\n",
    "    \n",
    "Hints: \n",
    "- For each decay, first simulate the decay in the pion center of mass and then Lorentz boost to the lab frame \n",
    "- Since in the rest frame of the pion, the decay is isotropic, the distribution of $\\cos \\theta^*$ is uniformly distributed.  If for each event you pull a random number uniformly distributed between 0 and 1 and set $\\cos \\theta^* $ for that event equal to the random number, the decays will have the right distribution.\n",
    "- In principle, you could find the $\\phi^*$ angle for each decay by pulling a second uniformly distributed random number, but for this problem you will not need the $x$ and $y$ components of the photon momentum separately so you don't need to do this."
   ]
  },
  {
   "cell_type": "markdown",
   "metadata": {},
   "source": [
    "From 2a, we have \n",
    "$$ E_{{lab}_\\pi} = m_{\\pi} \\gamma \\rightarrow \\gamma = \\frac{ E_{{lab}_\\pi}}{m_\\pi} $$ \n",
    "Thus, we have"
   ]
  },
  {
   "cell_type": "code",
   "execution_count": 148,
   "metadata": {
    "scrolled": true
   },
   "outputs": [
    {
     "name": "stdout",
     "output_type": "stream",
     "text": [
      "Gamma = 37.03703703703704\n",
      "Beta = 0.9996354335456502\n"
     ]
    }
   ],
   "source": [
    "Elab = 5 #GeV\n",
    "m_pi = 0.135 #GeV\n",
    "gamma = Elab/m_pi # GeV/GeV, so unitless\n",
    "print('Gamma =', gamma)\n",
    "beta = np.sqrt(1 - (1/gamma**2))\n",
    "print('Beta =', beta)"
   ]
  },
  {
   "cell_type": "code",
   "execution_count": 154,
   "metadata": {},
   "outputs": [
    {
     "data": {
      "text/plain": [
       "0.9997901026780452"
      ]
     },
     "execution_count": 154,
     "metadata": {},
     "output_type": "execute_result"
    }
   ],
   "source": [
    "np.max(np.random.rand(N))"
   ]
  },
  {
   "cell_type": "code",
   "execution_count": 147,
   "metadata": {},
   "outputs": [
    {
     "data": {
      "text/plain": [
       "0.9996354335456502"
      ]
     },
     "execution_count": 147,
     "metadata": {},
     "output_type": "execute_result"
    }
   ],
   "source": [
    "beta"
   ]
  },
  {
   "cell_type": "code",
   "execution_count": 294,
   "metadata": {},
   "outputs": [],
   "source": [
    "# input N pions, output N photon1 energies and N photon2 energies\n",
    "def photon_energies(N, m, E):\n",
    "    gamma = E/m\n",
    "    beta = np.sqrt(1 - (1/gamma**2))\n",
    "    \n",
    "    # beta is very close to 1; the thing is, the function will break later on due to the angle transformation\n",
    "    # this is because it involves np.arccos(angle that is very very slightly larger than 1), and that function will\n",
    "    # throw an exception and break. Thus, the distribution is still uniform but will disclude a very small portion of\n",
    "    # the top end towards 1 (< 10^-4 off the top)\n",
    "    costheta_star = np.random.uniform(0, beta, N)\n",
    "    \n",
    "    E1 = (m*gamma/2)*(1 + beta*costheta_star)\n",
    "    E2 = (m*gamma/2)*(1 - beta*costheta_star)\n",
    "    D = E1/E2\n",
    "    # angle in lab frame, which needs another Lorentz boost\n",
    "    \n",
    "    angles = np.arccos((beta + costheta_star)/(2*beta))\n",
    "    open_angle = np.arccos((beta + costheta_star)/(1+costheta_star))\n",
    "#     for i in range(len(costheta_star)):\n",
    "#         if (beta + costheta_star[i])/(2*beta) > 1:\n",
    "#             print((beta + costheta_star[i])/(2*beta))\n",
    "#             print('warning')\n",
    "#         angles.append(np.arccos((beta + costheta_star[i])/(2*beta)))\n",
    "    \n",
    "#     angles = np.array(angles)\n",
    "    \n",
    "    return E1, E2, D, angles, open_angle"
   ]
  },
  {
   "cell_type": "code",
   "execution_count": 1,
   "metadata": {},
   "outputs": [
    {
     "ename": "NameError",
     "evalue": "name 'photon_energies' is not defined",
     "output_type": "error",
     "traceback": [
      "\u001b[1;31m---------------------------------------------------------------------------\u001b[0m",
      "\u001b[1;31mNameError\u001b[0m                                 Traceback (most recent call last)",
      "\u001b[1;32m<ipython-input-1-95351326a084>\u001b[0m in \u001b[0;36m<module>\u001b[1;34m\u001b[0m\n\u001b[0;32m      1\u001b[0m \u001b[0mN\u001b[0m \u001b[1;33m=\u001b[0m \u001b[1;36m10000\u001b[0m\u001b[1;33m\u001b[0m\u001b[1;33m\u001b[0m\u001b[0m\n\u001b[1;32m----> 2\u001b[1;33m \u001b[0mp1energies\u001b[0m\u001b[1;33m,\u001b[0m \u001b[0mp2energies\u001b[0m\u001b[1;33m,\u001b[0m \u001b[0mdisp\u001b[0m\u001b[1;33m,\u001b[0m \u001b[0mangles\u001b[0m\u001b[1;33m,\u001b[0m \u001b[0mopen_lol\u001b[0m \u001b[1;33m=\u001b[0m \u001b[0mphoton_energies\u001b[0m\u001b[1;33m(\u001b[0m\u001b[0mN\u001b[0m \u001b[1;33m=\u001b[0m \u001b[0mN\u001b[0m\u001b[1;33m,\u001b[0m \u001b[0mm\u001b[0m \u001b[1;33m=\u001b[0m \u001b[0mm_pi\u001b[0m\u001b[1;33m,\u001b[0m \u001b[0mE\u001b[0m \u001b[1;33m=\u001b[0m \u001b[0mElab\u001b[0m\u001b[1;33m)\u001b[0m\u001b[1;33m\u001b[0m\u001b[1;33m\u001b[0m\u001b[0m\n\u001b[0m",
      "\u001b[1;31mNameError\u001b[0m: name 'photon_energies' is not defined"
     ]
    }
   ],
   "source": [
    "N = 10000\n",
    "p1energies, p2energies, disp, angles, open_lol = photon_energies(N = N, m = m_pi, E = Elab)"
   ]
  },
  {
   "cell_type": "code",
   "execution_count": 296,
   "metadata": {},
   "outputs": [
    {
     "data": {
      "text/plain": [
       "2591.6791358147"
      ]
     },
     "execution_count": 296,
     "metadata": {},
     "output_type": "execute_result"
    }
   ],
   "source": [
    "np.max(disp)"
   ]
  },
  {
   "cell_type": "code",
   "execution_count": 297,
   "metadata": {},
   "outputs": [
    {
     "data": {
      "image/png": "[encoded data removed]",
      "text/plain": [
       "<Figure size 432x288 with 1 Axes>"
      ]
     },
     "metadata": {
      "needs_background": "light"
     },
     "output_type": "display_data"
    },
    {
     "data": {
      "image/png": "[encoded data removed]",
      "text/plain": [
       "<Figure size 432x288 with 1 Axes>"
      ]
     },
     "metadata": {
      "needs_background": "light"
     },
     "output_type": "display_data"
    },
    {
     "data": {
      "image/png": "[encoded data removed]",
      "text/plain": [
       "<Figure size 432x288 with 1 Axes>"
      ]
     },
     "metadata": {
      "needs_background": "light"
     },
     "output_type": "display_data"
    },
    {
     "data": {
      "image/png": "[encoded data removed]",
      "text/plain": [
       "<Figure size 432x288 with 1 Axes>"
      ]
     },
     "metadata": {
      "needs_background": "light"
     },
     "output_type": "display_data"
    }
   ],
   "source": [
    "bins = int(N/100)\n",
    "\n",
    "plt.figure()\n",
    "plt.title('Photon1 Energies')\n",
    "plt.hist(p1energies, bins)\n",
    "plt.xlabel('GeV')\n",
    "plt.ylabel('Counts')\n",
    "\n",
    "plt.figure()\n",
    "plt.title('Photon2 Energies')\n",
    "plt.hist(p2energies, bins)\n",
    "plt.xlabel('GeV')\n",
    "plt.ylabel('Counts')\n",
    "\n",
    "plt.figure()\n",
    "plt.title('Disparities')\n",
    "plt.hist(disp, bins*10)\n",
    "plt.xlabel('Ratio')\n",
    "plt.xlim(0,200)\n",
    "plt.ylabel('Counts')\n",
    "\n",
    "plt.figure()\n",
    "plt.title('Angles')\n",
    "plt.hist(angles, bins)\n",
    "plt.xlabel('Rad')\n",
    "plt.ylabel('Counts')\n",
    "\n",
    "\n",
    "plt.show()"
   ]
  },
  {
   "cell_type": "markdown",
   "metadata": {},
   "source": [
    "## Note: For the Disparities, the maximum value is"
   ]
  },
  {
   "cell_type": "code",
   "execution_count": 298,
   "metadata": {},
   "outputs": [
    {
     "name": "stdout",
     "output_type": "stream",
     "text": [
      "2591.6791358147\n"
     ]
    }
   ],
   "source": [
    "dispmax = np.max(disp)\n",
    "print(dispmax)"
   ]
  },
  {
   "cell_type": "markdown",
   "metadata": {},
   "source": [
    "Which is much larger than 200, but if xlim is set to dispmax, then the histogram doesn't look like anything other than a single bar at 1."
   ]
  },
  {
   "cell_type": "markdown",
   "metadata": {},
   "source": [
    "### 2d. "
   ]
  },
  {
   "cell_type": "markdown",
   "metadata": {
    "flags": [
     "problems",
     "solutions"
    ]
   },
   "source": [
    "Modify your simulation so that instead of having a fixed energy beam, the $\\pi^0$ energy is uniformly distributed between 1 and 20 GeV.  Make a 2D histogram of the opening angle between the two photons (measured in milli-radians) as a function of the $\\pi^0$ energy."
   ]
  },
  {
   "cell_type": "code",
   "execution_count": 299,
   "metadata": {},
   "outputs": [],
   "source": [
    "energydist = np.random.uniform(1,20,N) #GeV"
   ]
  },
  {
   "cell_type": "code",
   "execution_count": 300,
   "metadata": {
    "scrolled": false
   },
   "outputs": [
    {
     "data": {
      "image/png": "[encoded data removed]",
      "text/plain": [
       "<Figure size 432x288 with 2 Axes>"
      ]
     },
     "metadata": {
      "needs_background": "light"
     },
     "output_type": "display_data"
    }
   ],
   "source": [
    "# 2D histogram\n",
    "distp1, distp2, distdisp, distangles, open_angles = photon_energies(N = N, m = m_pi, E = energydist)\n",
    "distangles *= 1000 #rad to millirad\n",
    "open_angles *= 1000 #rad to millirad\n",
    "\n",
    "plt.figure()\n",
    "plt.hist2d(energydist, open_angles, bins = 100)\n",
    "plt.xlabel(\"Pion Energies (GeV)\")\n",
    "plt.ylabel('Opening Angle (mRad)')\n",
    "plt.title(\"Opening Angle vs. Pion Energy Histogram\")\n",
    "plt.colorbar()\n",
    "plt.show()"
   ]
  },
  {
   "cell_type": "markdown",
   "metadata": {},
   "source": [
    "### 2e. "
   ]
  },
  {
   "cell_type": "markdown",
   "metadata": {
    "flags": [
     "problems",
     "solutions"
    ]
   },
   "source": [
    "In the ATLAS detector, photons are identifed in the electromagnetic calorimeter by looking for a narrow energy cluster. Assume that two photons will be *merged* into a single cluster if their opening angles differ by less than 75 milli-radians.  Using your scatter plot above, estimate the maximum energy $\\pi^0$ for which the decay photons can be cleanly separated. (Note: the ATLAS detector is more complicated than the description presented in this problem, having different granularities in $\\theta$ and $\\phi$ directions.  Moreover, the experiment can *identify* $\\pi^0$ at higher energies than suggested here by looking at the width of the merged energy deposit from the two clusters.)"
   ]
  },
  {
   "cell_type": "markdown",
   "metadata": {},
   "source": [
    "Given that we weren't asked to make a scatter plot from above, here is one below:"
   ]
  },
  {
   "cell_type": "code",
   "execution_count": 302,
   "metadata": {},
   "outputs": [
    {
     "data": {
      "image/png": "[encoded data removed]",
      "text/plain": [
       "<Figure size 432x288 with 1 Axes>"
      ]
     },
     "metadata": {
      "needs_background": "light"
     },
     "output_type": "display_data"
    }
   ],
   "source": [
    "plt.figure()\n",
    "plt.scatter(energydist, open_angles)\n",
    "plt.title(\"Opening Angle vs. Pion energy\")\n",
    "plt.xlabel(\"GeV\")\n",
    "plt.ylabel(\"milliRad\")\n",
    "plt.show()"
   ]
  },
  {
   "cell_type": "code",
   "execution_count": 314,
   "metadata": {},
   "outputs": [],
   "source": [
    "from scipy.interpolate import interp1d"
   ]
  },
  {
   "cell_type": "code",
   "execution_count": 303,
   "metadata": {
    "scrolled": true
   },
   "outputs": [
    {
     "data": {
      "text/plain": [
       "13.5509648884437"
      ]
     },
     "execution_count": 303,
     "metadata": {},
     "output_type": "execute_result"
    }
   ],
   "source": [
    "# just showing that minimum, which should be less than 75mRad; i.e. at least 1 \"merge\" occurs\n",
    "np.min(distangles)"
   ]
  },
  {
   "cell_type": "code",
   "execution_count": 316,
   "metadata": {},
   "outputs": [
    {
     "name": "stdout",
     "output_type": "stream",
     "text": [
      "16.551317559573146\n",
      "1.4655111176788576\n",
      "Minimum energy:  1.4655111176788576 GeV\n"
     ]
    }
   ],
   "source": [
    "for i in range(len(open_angles)):\n",
    "    if i == 75:\n",
    "        print(energydist[i])\n",
    "\n",
    "print(interp1d(open_angles, energydist)(75))\n",
    "print('Minimum energy: ', interp1d(open_angles, energydist)(75), 'GeV')"
   ]
  },
  {
   "cell_type": "markdown",
   "metadata": {},
   "source": [
    "## Question 3: Mandelstam Variables"
   ]
  },
  {
   "cell_type": "markdown",
   "metadata": {},
   "source": [
    "## Learning objectives\n",
    "In this question you will:\n",
    "\n",
    "- Review the definitions of the Mandelstam Variables\n",
    "- Apply relativistic formulae to derive and important relationship between these variables"
   ]
  },
  {
   "cell_type": "markdown",
   "metadata": {},
   "source": [
    "In the two-to-tow process $1+2\\rightarrow 3+4$ the Mandelstan variable are define:\n",
    "\\begin{eqnarray*}\n",
    "s & = & \\left (p_1+p_2\\right )^2 \\\\\n",
    "t & = & \\left (p_1-p_3\\right )^2 \\\\\n",
    "u & = & \\left (p_1-p_4\\right )^2 \\\\\n",
    "\\end{eqnarray*}"
   ]
  },
  {
   "cell_type": "markdown",
   "metadata": {},
   "source": [
    "### 3a. "
   ]
  },
  {
   "cell_type": "markdown",
   "metadata": {},
   "source": [
    "Show that $s$ is the square of the center-or-mass energy of the system $1+2$"
   ]
  },
  {
   "cell_type": "markdown",
   "metadata": {},
   "source": [
    "Center of mass frame dictates that $\\vec{p_1} = - \\vec{p_2}$ (i.e. 3 momenta cancel out) <br/>\n",
    "Regular vector addition first, then split into the scalar portion and the 3-vector portion. <br/>\n",
    "Apply squaring last. Result:\n",
    "$$ s = (p_1 + p_2)^2 = (E_1 + E_2)^2 + (\\vec{p_1} + \\vec{p_2})^2 $$\n",
    "Plug in CM frame constraint:\n",
    "$$ s = (p_1 + p_2)^2 = (E_1 + E_2)^2 + (\\vec{p_1} - \\vec{p_1})^2 $$\n",
    "$$ \\therefore s = (E_1 + E_2)^2 $$\n"
   ]
  },
  {
   "cell_type": "markdown",
   "metadata": {},
   "source": [
    "### 3b. "
   ]
  },
  {
   "cell_type": "markdown",
   "metadata": {},
   "source": [
    "Show that $$s+t+u = m_1^2+m_2^2+m_3^2+m_4^2$$"
   ]
  },
  {
   "cell_type": "markdown",
   "metadata": {},
   "source": [
    "$$ s + t + u = (p_1+p_2)^2 + (p_1-p_3)^2 + (p_1-p_4)^2 $$\n",
    "$$ s + t + u = p_1^2 + p_2^2 + 2p_1\\cdot p_2 + p_1^2 + p_3^2 -2p_1\\cdot p_3 + p_1^2 + p_4^2 - 2 p_1 \\cdot p_2 $$\n",
    "Square of the four momenta = square of the mass:\n",
    "$$ p_i^2 = m_i^2 $$\n",
    "And 4 momentum conservation:\n",
    "$$ p_1 + p_2 = p_3 + p_4 $$ Thus,\n",
    "$$ s + t + u = 3m_1^2 + m_2^2 + m_3^2 + m_4^2 + 2p_1 \\cdot p_2 - 2p_1 \\cdot p_3 - 2p_1 \\cdot p_4 $$\n",
    "$$ s + t + u = 3m_1^2 + m_2^2 + m_3^2 + m_4^2 + 2p_1 \\cdot (p_2 - p_3 - p_4) $$\n",
    "$$ s + t + u = 3m_1^2 + m_2^2 + m_3^2 + m_4^2 + 2p_1 \\cdot (-p_1) $$\n",
    "$$ s + t + u = 3m_1^2 + m_2^2 + m_3^2 + m_4^2 - 2m_1^2 $$\n",
    "$$ \\therefore s + t + u = m_1^2 + m_2^2 + m_3^2 + m_4^2 $$"
   ]
  },
  {
   "cell_type": "markdown",
   "metadata": {},
   "source": [
    "## Question 4: $\\beta$-decay and the uncertainty principle"
   ]
  },
  {
   "cell_type": "markdown",
   "metadata": {},
   "source": [
    "## Learning objectives\n",
    "In this question you will:\n",
    "\n",
    "- Apply the uncertainty principle to the  $\\beta$-decay process to make an important conclusion"
   ]
  },
  {
   "cell_type": "markdown",
   "metadata": {},
   "source": [
    "In the period before the discover of the neutron, many people thought that the nucleus consisted of protons and {\\it electrons}, with the atomic number equal to the excess number of protons over electrons.  This view seemed to be supported by the observation that in nuclear $\\beta$-decay electrons are emitted and the charge of the nucleus changes so that overall\n",
    "charge is conserved.  Use the position-momentum uncertainty principle, $\\Delta x \\Delta p \\ge \\hbar$, to estimate the minimum momentum of an electron confined to a nucleus (radius $10^{-13}$ cm). From the energy-momentum relation (in natural units) $E^2 = p^2 + m^2$ determine the corresponding energy and compare it with that emitted in, say, the $\\beta$-decay of tritium.  This result convinced some people (correctly) that the beta-decay electron could {\\it not} have been rattling around inside the nucleus, but must be produced in the disintegration itself. Note:  You can find a plot of the $\\beta$-decay spectrum of tritium in Figure 1 of https://cerncourier.com/a/a-voyage-to-the-heart-of-the-neutrino/\n",
    "That article also provides a nice introduction to the KATRIN experiment.  KATRIN is designed to measure or set stringent limits on the mass of the $\\nu_e$"
   ]
  },
  {
   "cell_type": "markdown",
   "metadata": {},
   "source": [
    "$$ \\Delta p \\geq \\frac{\\hbar}{\\Delta x}$$\n",
    "Max $ \\Delta x $ minimizes $ \\Delta p$. The maximum allowed $ \\Delta x $ in that radius is\n",
    "$$ \\Delta x = 2 \\cdot 10^{-13} cm = 2 \\cdot 10^{-15} m $$"
   ]
  },
  {
   "cell_type": "code",
   "execution_count": 258,
   "metadata": {},
   "outputs": [
    {
     "data": {
      "text/plain": [
       "0.000511"
      ]
     },
     "execution_count": 258,
     "metadata": {},
     "output_type": "execute_result"
    }
   ],
   "source": [
    "m_e"
   ]
  },
  {
   "cell_type": "code",
   "execution_count": 276,
   "metadata": {},
   "outputs": [
    {
     "name": "stdout",
     "output_type": "stream",
     "text": [
      "minimum momentum change: 0.32909999999999995 eV m/s\n",
      "Energy of electron: 0.09872999999999998 GeV\n"
     ]
    }
   ],
   "source": [
    "hbar = 6.582*10**-16 # eV *s\n",
    "x = 2*10**-15 # m\n",
    "c = 3*10**8 #m/s\n",
    "p = hbar/x # eV*s/m\n",
    "print('minimum momentum change:', p, 'eV m/s')\n",
    "pc = p*c # eV\n",
    "m_e = 511*10**-6 # eV/c^2\n",
    "m_ecc = m_e*(1**2) # eV/c^2 times two \"units of c\" = eV\n",
    "\n",
    "E = np.sqrt(pc**2 + m_ecc**2) #eV\n",
    "print('Energy of electron:', E*10**-9, 'GeV')"
   ]
  },
  {
   "cell_type": "markdown",
   "metadata": {},
   "source": [
    "$\\beta$-decay of tritium is on the order of KeV. The energy of an electron trapped in that nucleic radius is ~0.1GeV, which is many orders of magnitude larger than the $\\beta$-decay of tritium. Therefore, the $\\beta$-decay electron could not have been in the nucleus, or else we would've observed a decay on the order of GeV"
   ]
  },
  {
   "cell_type": "markdown",
   "metadata": {},
   "source": [
    "## Question 5: Kinematics in 2-body particle decays"
   ]
  },
  {
   "cell_type": "markdown",
   "metadata": {},
   "source": [
    "## Learning objectives\n",
    "In this question you will:\n",
    "\n",
    "- Derive a relativistic expression that we will use often during the semester"
   ]
  },
  {
   "cell_type": "markdown",
   "metadata": {},
   "source": [
    "For the decay $a\\rightarrow 1+2$, show that the mass of particle $a$can be written:\n",
    "    $$\n",
    "    m_a^2 = m_1^2 + m_2^2 + 2 E_1E_2 \\left ( 1-\\beta_1\\beta_2 \\cos\\theta \\right )\n",
    "    $$\n",
    "    where $\\beta_1$ and $\\beta_2$ are the velocities of the particles and $\\theta$ is the angle between them"
   ]
  },
  {
   "cell_type": "markdown",
   "metadata": {},
   "source": [
    "Energy-momentum relation:\n",
    "$$ m_a^2 = E_a^2 - \\vec{p_a}^2 $$\n",
    "Conservations of energy and momentum\n",
    "$$ E_a = E_1 + E_2, \\vec{p_a} = \\vec{p_1} + \\vec{p_2} $$\n",
    "plug into E-m relation:\n",
    "$$ m_a^2 = (E_1 + E_2)^2 - (\\vec{p_1} + \\vec{p_2})^2 $$ \n",
    "$$ m_a^2 = E_1^2 + E_2^2 + 2 E_1 E_2 - \\vec{p_1}^2 - \\vec{p_2}^2 - 2 \\vec{p_1} \\cdot \\vec{p_2} $$\n",
    "$$ m_a^2 = (E_1^2 - \\vec{p_1}^2) + (E_2^2 - \\vec{p_2}^2) + 2 E_1 E_2 - 2 \\vec{p_1} \\cdot \\vec{p_2} $$\n",
    "By E-M relation again,\n",
    "$$ m_a^2 = m_1^2 + m_2^2 + 2 E_1 E_2 (1 - \\frac{\\vec{p_1} \\cdot \\vec{p_2}}{2 E_1 E_2} )$$\n",
    "Because\n",
    "$$ E = \\gamma m, \\vec{p} = \\gamma m \\beta$$\n",
    "$$ \\therefore m_a^2 = m_1^2 + m_2^2 + 2 E_1E_2 \\left ( 1-\\beta_1\\beta_2 \\cos\\theta \\right ) $$"
   ]
  },
  {
   "cell_type": "code",
   "execution_count": null,
   "metadata": {},
   "outputs": [],
   "source": []
  },
  {
   "cell_type": "code",
   "execution_count": null,
   "metadata": {},
   "outputs": [],
   "source": []
  }
 ],
 "metadata": {
  "kernelspec": {
   "display_name": "Python 3",
   "language": "python",
   "name": "python3"
  },
  "language_info": {
   "codemirror_mode": {
    "name": "ipython",
    "version": 3
   },
   "file_extension": ".py",
   "mimetype": "text/x-python",
   "name": "python",
   "nbconvert_exporter": "python",
   "pygments_lexer": "ipython3",
   "version": "3.7.1"
  }
 },
 "nbformat": 4,
 "nbformat_minor": 4
}
