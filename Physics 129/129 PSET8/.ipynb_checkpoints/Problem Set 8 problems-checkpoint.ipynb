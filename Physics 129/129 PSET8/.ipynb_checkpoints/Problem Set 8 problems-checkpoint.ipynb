{
 "cells": [
  {
   "cell_type": "markdown",
   "metadata": {},
   "source": [
    "# Problem Set 8 problems: Only Coding Part Filled out; written portion on other pdf"
   ]
  },
  {
   "cell_type": "markdown",
   "metadata": {},
   "source": [
    "## Question 1: Drawing Feynmand Diagrams (40 points)"
   ]
  },
  {
   "cell_type": "markdown",
   "metadata": {},
   "source": [
    "### Learning objectives\n",
    "In this question you will:\n",
    "\n",
    "- Review the rules for drawing Feynman diagrams for QED processes\n",
    "- Apply these rules to several processes of interest"
   ]
  },
  {
   "cell_type": "markdown",
   "metadata": {},
   "source": [
    "The goal of this problem is to make you more comfortable with the language of Feynman diagrams.  Although we won'd calculate the matrix elements explictly, we can learn a lot about the cross section by examing these diagrams.  In each case below, draw the relevant Feynman diagrams.  Label each incoming and outgoing leg with the particle species and momentum (call incoming particle momenta $p_1$ and $p_2$ and outgoing particle momenta $p_3$ and $p_4$. Using the rules shown on page 124 of Thomson or on page 13 of the notes for Lecture 15, mark each external line, internal propagator and vertex with the appropriate factor.  make sure your external lines have arrows indicating  whether the line represents a particle or an antiparticle. Thomson Figure 5.7 is an example of what your drawings should look like."
   ]
  },
  {
   "cell_type": "markdown",
   "metadata": {},
   "source": [
    "### 1a."
   ]
  },
  {
   "cell_type": "markdown",
   "metadata": {},
   "source": [
    "Draw the lowest order diagram for the elastic scattering process $e^+\\mu^+\\rightarrow e^+\\mu^+$"
   ]
  },
  {
   "cell_type": "markdown",
   "metadata": {},
   "source": [
    "Write your answer here"
   ]
  },
  {
   "cell_type": "markdown",
   "metadata": {},
   "source": [
    "### 1b. "
   ]
  },
  {
   "cell_type": "markdown",
   "metadata": {},
   "source": [
    "Draw the two lowest order diagrams for the Compton scattering process $\\gamma e^- \\rightarrow \\gamma e^-$ (Hint:  both $t$-channel and $s$-channel propagators are possible)"
   ]
  },
  {
   "cell_type": "markdown",
   "metadata": {},
   "source": [
    "Write your answer here"
   ]
  },
  {
   "cell_type": "markdown",
   "metadata": {},
   "source": [
    "### 1c."
   ]
  },
  {
   "cell_type": "markdown",
   "metadata": {},
   "source": [
    "Draw the two lowest order diagrams for the process $e^+e^- \\rightarrow \\gamma \\gamma$ (Hint: both $t$-channel and $u$-channel diagrams are possible)"
   ]
  },
  {
   "cell_type": "markdown",
   "metadata": {},
   "source": [
    "Write your answer here"
   ]
  },
  {
   "cell_type": "markdown",
   "metadata": {},
   "source": [
    "### 1d."
   ]
  },
  {
   "cell_type": "markdown",
   "metadata": {},
   "source": [
    "Draw the lowest order diagram for the process $e^+e^-\\rightarrow u\\overline u$ where $u$ is an up quark. (We'll see at the end of the month that the quarks must turn into hadrons before we observe them in our detector.  Never the less, quarks are Dirac particles so this is a perfectly reasonable process to calculate)"
   ]
  },
  {
   "cell_type": "markdown",
   "metadata": {},
   "source": [
    "Write your answer here"
   ]
  },
  {
   "cell_type": "markdown",
   "metadata": {},
   "source": [
    "## Question 2: Invariant Form for Cross Sections (20 points) "
   ]
  },
  {
   "cell_type": "markdown",
   "metadata": {},
   "source": [
    "### Learning objectives\n",
    "In this question you will:\n",
    "\n",
    "- Review the results presented in class for the $e^+e^-$ annihilation cross section \n",
    "- Re-express the matrix element squared in a Lorentz invariant form"
   ]
  },
  {
   "cell_type": "markdown",
   "metadata": {},
   "source": [
    "In class we discussed how to calculate the Feynman Diagrams and cross section for the process $$ e^+e^-\\rightarrow \\mu^+\\mu^-$$ in the center of mass frame.  In the frame the cross section for unpolarized scatttering can be written:\n",
    "   $$                                                                         \n",
    "   \\frac{d\\sigma}{d\\Omega} = \\frac{\\alpha^2}{4s} \\left (1+\\cos^2\\theta \\right )                                                                        \n",
    "   $$\n",
    "\n",
    "where $\\alpha $ is the fine structure constant ($\\frac{1}{137}$). \n",
    "\n",
    "\n",
    "This expression came from multiplying the matrix element squared by a LIPS factor.  The matrix element squared was:\n",
    "\n",
    "   $$                                                                         \n",
    "   \\left < \\left | {\\cal M}\\right |^2\\right > = e^4 \\left (1+\\cos^2\\theta \\right )                                                                     \n",
    "   $$\n",
    "   \n",
    "where the $< >$ is short hand for averaging over initial spin states and summing over final spin states.  Since the phase space is  Lorentz invariant, $\\left < \\left | {\\cal M}\\right |^2\\right >$ must be as well to ensure that our final answer is invariant.\n",
    "\n",
    "Show that we can rewrite the expression above in Lorentz invariant form\n",
    "$$                                                                     \n",
    "\\left < \\left | {\\cal M}\\right |^2\\right > = 2e^4 \\left ( \\frac{t^+u^2}{s^2}\\right )                                                               \n",
    "$$\n",
    "\n",
    "where $s$, $t$ amd $u$ are the Mandelstam variables. Assume tha the masses of all  particles can be neglected..\n"
   ]
  },
  {
   "cell_type": "markdown",
   "metadata": {},
   "source": [
    "## Question 3: Angular Distributions in e+e- --> mu+mu- (40 points)"
   ]
  },
  {
   "cell_type": "markdown",
   "metadata": {},
   "source": [
    "### Learning objectives\n",
    "In this question you will:\n",
    "\n",
    "- Study the angular distribution of muons produced in e+e- annihilation\n",
    "- Demonstrate using data collected by the Babar experiment that the two muons are produced back-to-back in both theta and phi\n",
    "- Assess quantitatively the accuracy of the calculation of the angular distribution by performing a chisquare calculation\n"
   ]
  },
  {
   "cell_type": "markdown",
   "metadata": {},
   "source": [
    "### 3a. "
   ]
  },
  {
   "cell_type": "markdown",
   "metadata": {
    "flags": [
     "problems",
     "solutions"
    ]
   },
   "source": [
    "Consider the process \n",
    "$$\n",
    "e^+ e^- \\rightarrow \\mu^+ \\mu^-\n",
    "$$\n",
    "In QED, this occurs through the s-channel production of a virtual photon.  If the energy is high enough so that the electron and muon masses are negligible, the matrix element squared can be written as:\n",
    "$$\n",
    "|{\\cal M}| = 2 e^4 \\left ( \\frac{t^2+u^2}{s^2} \\right )\n",
    "$$\n",
    "where $e$ is the electron charge and $s$, $t$ and $u$ are the Mandelstam variables.\n",
    "\n",
    "Find the differential cross section $d\\sigma/d\\Omega$ in the center-of-mass frame (where $\\Omega$ is $d^2/d\\cos\\theta d\\phi$ for the outgoing $\\mu^-$). Express it in terms of the fine structure constant $\\alpha$, the Mandelstam variables and $\\theta$, where $\\theta $ is the angle between the incoming $e^-$ and the outgoing $\\mu^-$."
   ]
  },
  {
   "cell_type": "markdown",
   "metadata": {},
   "source": [
    "Write your answer here"
   ]
  },
  {
   "cell_type": "markdown",
   "metadata": {},
   "source": [
    "### 3b. "
   ]
  },
  {
   "cell_type": "markdown",
   "metadata": {
    "flags": [
     "problems",
     "solutions"
    ]
   },
   "source": [
    "If the electron beams are unpolarised, the matrix element cannot depend on $\\phi$, since the problem is azymuthally symmetric.   Therefore $d\\sigma/d\\Omega$ depends only on $\\cos\\theta$.   Integrate your cross section above over $\\phi$ and then make a plot of the predicted angular distribution $d\\sigma /d\\cos\\theta$."
   ]
  },
  {
   "cell_type": "markdown",
   "metadata": {},
   "source": [
    "Write your answer here"
   ]
  },
  {
   "cell_type": "markdown",
   "metadata": {},
   "source": [
    "### 3c. "
   ]
  },
  {
   "cell_type": "markdown",
   "metadata": {
    "flags": [
     "problems",
     "solutions"
    ]
   },
   "source": [
    "Now integrate over $\\cos\\theta$ to find the total cross section as function of $s$ in units of nb"
   ]
  },
  {
   "cell_type": "markdown",
   "metadata": {},
   "source": [
    "Write your answer here"
   ]
  },
  {
   "cell_type": "markdown",
   "metadata": {},
   "source": [
    "### 3d. "
   ]
  },
  {
   "cell_type": "markdown",
   "metadata": {
    "flags": [
     "problems",
     "solutions"
    ]
   },
   "source": [
    "The file mumu.dat contains data corresponding to an integrated luminosity of 74.674 pb$^{-1}$ collected by the BaBar experiment at the SLAC B-factory.  The file contains events from the process $e^+e^-\\rightarrow \\mu^+\\mu^-(\\gamma)$.  (where ($\\gamma$) means that the event selection may allow a low-energy photon). The photon emission can be treated as a small radiative correction, which does not modify the gross properties of the $e^+e^-\\rightarrow \\mu^+\\mu^-$ process.  The data were collected at a center-of-mass energy of10.539 GeV. Note, that this is below the B B̄ production threshold.\n",
    "\n",
    "The following code reads these data file and puts the data into a form that can be easily used in python. (For people who prefer to use root, a mumu.root file is available in this directory)"
   ]
  },
  {
   "cell_type": "code",
   "execution_count": 213,
   "metadata": {
    "flags": [
     "problems",
     "solutions"
    ]
   },
   "outputs": [],
   "source": [
    "import math\n",
    "import numpy as np\n",
    "import matplotlib.pyplot as plt\n",
    "from scipy.optimize import curve_fit\n",
    "\n",
    "# Parse the input file.\n",
    "file = \"mumu.dat\"\n",
    "\n",
    "# Inforamtion to offset needed to nterpret the info\n",
    "# The order of variables is explained in the metadata at the top of the file\n",
    "# The inital e- direction is the +z direction\n",
    "#\n",
    "#  isBCMuMu -- a boolean bit which provides a tighter (but cleaner) selection of di-muons.  You should require this bit to be 1\n",
    "#  p1Mag -- Magnitude of the momentum of the mu- (in GeV)\n",
    "#  p1CosTheta -- Cosine of thepolar angle of the mu-track  \n",
    "#  p1Phi -- Azimuthal angle of the mu- track\n",
    "#  p1EmcCandEnergy -- Electromagnetic Calorimeter energy associated with the highest-momentum track. For muons, this is expected to be non-zero, but small (<1 GeV)\n",
    "#  p2Mag -- Magnitude of the momentum of the mu+ track (in GeV)\n",
    "#  p2CosTheta -- Cosine of thepolar angle of the mu+ track\n",
    "#  p2Phi -- Azimuthal angle of the mu+ track\n",
    "#  p2EmcCandEnergy -- Electromagnetic Calorimeter energy associated with the second highest-momentum track. For muons, this is expected to be non-zero, but small (<1 GeV)\n",
    "#\n",
    "inMeta = False\n",
    "isBCMuMu = []\n",
    "p1Mag = []\n",
    "p1CosTheta = []\n",
    "p1Phi = []\n",
    "p1EmcCandEnergy = []\n",
    "p2Mag = []\n",
    "p2CosTheta = []\n",
    "p2Phi = []\n",
    "p2EmcCandEnergy = []\n",
    "\n",
    "inMeta = True\n",
    "for line in open(file,\"r\"):\n",
    "    line = line.strip()\n",
    "    info = line.split(\",\")    \n",
    "    if inMeta and (\"<metadata>\" in info[0]):\n",
    "        inMeta = True\n",
    "    elif inMeta and (\"</metadata>\" in info[0]):\n",
    "        inMeta = False\n",
    "    elif not inMeta:\n",
    "        isBCMuMu.append(int(info[0]))\n",
    "        p1Mag.append(float(info[1]))\n",
    "        p1CosTheta.append(float(info[2]))\n",
    "        p1Phi.append(float(info[3]))\n",
    "        p1EmcCandEnergy.append(float(info[4]))\n",
    "        p2Mag.append(float(info[5]))\n",
    "        p2CosTheta.append(float(info[6]))\n",
    "        p2Phi.append(float(info[7]))\n",
    "        p2EmcCandEnergy.append(float(info[8]))\n"
   ]
  },
  {
   "cell_type": "markdown",
   "metadata": {
    "flags": [
     "problems",
     "solutions"
    ]
   },
   "source": [
    "First, let's verify our statement that presence of the photon does not grossly effect the kinematics of these events.  Make a scatter plot comparing the values of $\\cos(\\theta)$ for the two muon candidates in each event.  Make a second scatter plot comparing the values of $\\phi$.  Explain in words what these plots tell you.  Make sure you require that the isBCMuMu bit is set to 1.  In addition, to insure that both muons are in a part of the detector where they are well-measured, require $|\\cos\\theta|< 0.7485$ for each muon."
   ]
  },
  {
   "cell_type": "code",
   "execution_count": 214,
   "metadata": {},
   "outputs": [],
   "source": [
    "# typo change: particle 1 = negative muon, particle 2 = positive muon (antimuon)"
   ]
  },
  {
   "cell_type": "code",
   "execution_count": 215,
   "metadata": {},
   "outputs": [],
   "source": [
    "# require isBCMuMu == 1:\n",
    "\n",
    "mumu_arr = np.array(isBCMuMu)\n",
    "\n",
    "ones = np.argwhere(mumu_arr == 1)\n",
    "\n",
    "filteredp1cos = np.array(p1CosTheta)[ones]\n",
    "filteredp2cos = np.array(p2CosTheta)[ones]\n",
    "filteredp1phi = np.array(p1Phi)[ones]\n",
    "filteredp2phi = np.array(p2Phi)[ones]\n",
    "\n",
    "# require |cos(theta)| < 0.7485\n",
    "\n",
    "reqval = 0.7485\n",
    "\n",
    "# f2 = 2nd filter\n",
    "p1req = np.where(np.abs(filteredp1cos) < reqval)[0]\n",
    "f2p1cos = filteredp1cos[p1req]\n",
    "\n",
    "p2req = np.where(np.abs(filteredp2cos) < reqval)[0]\n",
    "f2p2cos = filteredp2cos[p2req]"
   ]
  },
  {
   "cell_type": "code",
   "execution_count": 216,
   "metadata": {},
   "outputs": [
    {
     "data": {
      "image/png": "[encoded data removed]",
      "text/plain": [
       "<Figure size 432x288 with 1 Axes>"
      ]
     },
     "metadata": {
      "needs_background": "light"
     },
     "output_type": "display_data"
    },
    {
     "data": {
      "image/png": "[encoded data removed]",
      "text/plain": [
       "<Figure size 432x288 with 1 Axes>"
      ]
     },
     "metadata": {
      "needs_background": "light"
     },
     "output_type": "display_data"
    }
   ],
   "source": [
    "plt.figure()\n",
    "plt.title(\"Cos(Theta) Comparison (Filtered)\")\n",
    "plt.scatter(f2p1cos, f2p2cos)\n",
    "plt.xlabel(\"Cos(Theta) of Muon Events\")\n",
    "plt.ylabel(\"Cos(Theta) of AntiMuon Events\")\n",
    "plt.show()\n",
    "\n",
    "plt.figure()\n",
    "plt.title(\"Phi Comparison (Filtered)\")\n",
    "plt.scatter(filteredp1phi, filteredp2phi)\n",
    "plt.xlabel(\"Phi of Muon Events\")\n",
    "plt.ylabel(\"Phi of Antimuon Events\")\n",
    "plt.show()"
   ]
  },
  {
   "cell_type": "markdown",
   "metadata": {},
   "source": [
    "The $\\cos(\\theta)$ comparison plot shows that the $\\cos(\\theta)$'s of the muon and antimuon are negatively correlated. In other words, $\\cos(\\theta)$ of the antimuon becomes less positive as $\\cos(\\theta)$ of the muon becomes more positive. The $\\phi$ comparison plot shows that there is positive correlation between the $\\phi$ of the antimuon and muon but in seperate ranges. As $\\phi_\\mu$ increases from $-\\pi$ to $0$, $\\phi_\\bar{\\mu}$ increases from $0$ to $\\pi$. As $\\phi_\\mu$ increases from $0$ to $\\pi$, $\\phi_\\bar{\\mu}$ increases from $-\\pi$ to $0$. <br/>\n",
    "These linear correlation plots tell us that the photon does not really affect the kinetmatics of the event because the resulting scattering angles and momenta are equal and opposite. Thus, we can safely assume treat the photon as a small radiative correction as we did."
   ]
  },
  {
   "cell_type": "markdown",
   "metadata": {},
   "source": [
    "### 3e. "
   ]
  },
  {
   "cell_type": "markdown",
   "metadata": {
    "flags": [
     "problems",
     "solutions"
    ]
   },
   "source": [
    "Because the electromagnetic interaction conserves parity, the angular distribution cannot contain any terms that are odd under parity inversion.  Weak interactions, however, do not conserve parity.  Since the $Z$ boson has the same quantum numbers as the photon, diagrams involving the $Z$ and the photon both contribute to the $e^+e^-\\rightarrow \\mu^+\\mu^-$ cross section.  The interference between these two diagrams introduces a term that violates parity.  Plot the angular distribution for the $\\mu^+$ and for the $\\mu^-$.  Is there evidence of parity violation in these plots?"
   ]
  },
  {
   "cell_type": "code",
   "execution_count": 217,
   "metadata": {},
   "outputs": [],
   "source": [
    "f1p1Mag = np.array(p1Mag)[ones]\n",
    "f1p1Mag = f1p1Mag.reshape(len(f1p1Mag))\n",
    "f1p2Mag = np.array(p2Mag)[ones]\n",
    "f1p2Mag = f1p2Mag.reshape(len(f1p2Mag))"
   ]
  },
  {
   "cell_type": "code",
   "execution_count": 218,
   "metadata": {},
   "outputs": [],
   "source": [
    "f2p1cos = f2p1cos.reshape(len(f2p1cos))\n",
    "f2p2cos = f2p2cos.reshape(len(f2p2cos))"
   ]
  },
  {
   "cell_type": "code",
   "execution_count": 219,
   "metadata": {},
   "outputs": [],
   "source": [
    "# Without the constant in front, but still considering s =  2*p1*p2\n",
    "# low mass approx\n",
    "s = 2*f1p1Mag*f1p2Mag\n",
    "alpha = 1/137\n",
    "\n",
    "factor = 2*np.pi*(alpha**2)/(4*s)\n",
    "\n",
    "no_factor = False\n",
    "\n",
    "if no_Denom:\n",
    "    denom = 1\n",
    "\n",
    "p1cross = (1 + (f2p1cos)**2)/denom\n",
    "p2cross = (1 + (f2p2cos)**2)/denom"
   ]
  },
  {
   "cell_type": "code",
   "execution_count": 220,
   "metadata": {
    "flags": [
     "problems",
     "solutions"
    ]
   },
   "outputs": [
    {
     "data": {
      "image/png": "[encoded data removed]",
      "text/plain": [
       "<Figure size 432x288 with 1 Axes>"
      ]
     },
     "metadata": {
      "needs_background": "light"
     },
     "output_type": "display_data"
    },
    {
     "data": {
      "image/png": "[encoded data removed]",
      "text/plain": [
       "<Figure size 432x288 with 1 Axes>"
      ]
     },
     "metadata": {
      "needs_background": "light"
     },
     "output_type": "display_data"
    },
    {
     "data": {
      "image/png": "[encoded data removed]",
      "text/plain": [
       "<Figure size 432x288 with 1 Axes>"
      ]
     },
     "metadata": {
      "needs_background": "light"
     },
     "output_type": "display_data"
    }
   ],
   "source": [
    "\n",
    "plt.figure()\n",
    "plt.title(\"Cross Section Distriubtion of Muon\")\n",
    "plt.xlabel(\"Cos Theta\")\n",
    "plt.ylabel(\"Cross section\")\n",
    "plt.scatter(f2p1cos, p1cross)\n",
    "\n",
    "plt.figure()\n",
    "plt.title(\"Cross Section Distriubtion of Antimuon\")\n",
    "plt.xlabel(\"Cos Theta\")\n",
    "plt.ylabel(\"Cross section\")\n",
    "plt.scatter(f2p2cos, p2cross)\n",
    "\n",
    "plt.figure()\n",
    "plt.title(\"Cross Section Comparison\")\n",
    "plt.scatter(f2p1cos, p1cross, label = 'muon')\n",
    "plt.scatter(f2p2cos, p2cross, label = 'antimuon')\n",
    "plt.xlabel(\"Cos Theta\")\n",
    "plt.ylabel(\"Cross section\")\n",
    "plt.legend()\n",
    "plt.show()"
   ]
  },
  {
   "cell_type": "markdown",
   "metadata": {},
   "source": [
    "Based on these plots above, it appears that the cross section distribution of the muon is well aligned to the antimuon. There does not seem to be evidence for the parity violation from the cross section plots."
   ]
  },
  {
   "cell_type": "markdown",
   "metadata": {
    "flags": [
     "problems",
     "solutions"
    ]
   },
   "source": [
    "Physicists often characterize such parity violating effects in terms of a \"forward-backward asymmetry\":\n",
    "$$\n",
    "A_{FB} = \\left (\n",
    "\\frac{N^{\\mu-}_{\\cos\\theta >0} - N^{\\mu-}_{\\cos\\theta <0}}{N^{\\mu-}_{\\cos\\theta >0} + N^{\\mu-}_{\\cos\\theta <0}}\n",
    "\\right )\n",
    "$$\n",
    "calculate $A_{FB}$ and its uncertainty for the BaBar data (note:  Because the data falls into one of two possible categories, the uncertainty follows a binomial distribution)"
   ]
  },
  {
   "cell_type": "markdown",
   "metadata": {
    "flags": [
     "problems",
     "solutions"
    ]
   },
   "source": [
    "Fit the $\\mu^- \\; \\cos\\theta $ distribution to the form\n",
    "$$\n",
    "N = N_0 \\left (1+A\\cos\\theta+B\\cos^2\\theta \\right )\n",
    "$$\n",
    "(make sure you only for for the range $|\\cos\\theta|<0.7485$\n",
    "Do your fitted values provide a value of $A_{FB}$ that is consistent with the data?"
   ]
  },
  {
   "cell_type": "code",
   "execution_count": 221,
   "metadata": {
    "scrolled": true
   },
   "outputs": [
    {
     "name": "stdout",
     "output_type": "stream",
     "text": [
      "Afb =  -0.036204257687491304 +/- 0.005271768895359541\n"
     ]
    }
   ],
   "source": [
    "pos = np.where(f2p1cos > 0)[0]\n",
    "neg = np.where(f2p1cos < 0)[0]\n",
    "\n",
    "pos_cos = f2p1cos[pos]\n",
    "neg_cos = f2p1cos[neg]\n",
    "\n",
    "N_pos = len(pos_cos)\n",
    "N_neg = len(neg_cos)\n",
    "\n",
    "analyticAfb = (N_pos - N_neg)/(N_pos + N_neg)\n",
    "err_A = np.sqrt((((2*N_neg)/((N_pos+N_neg)**2))**2)*(N_pos) + (((2*N_pos)/((N_pos + N_neg)**2))**2)*(N_neg))\n",
    "\n",
    "print(\"Afb = \", analyticAfb, \"+/-\", err_A)"
   ]
  },
  {
   "cell_type": "code",
   "execution_count": 222,
   "metadata": {},
   "outputs": [],
   "source": [
    "#Makes a histogram filled with the random numbers we generate\n",
    "def plot_histogram(samples,xtitle,ytitle, title, nbins, limits):\n",
    "   \n",
    "    #Plot the histogram of the sampled data with nbins and a nice color\n",
    "    n, bins, patches =plt.hist(samples, bins=nbins, range=limits, color=(0,0.7,0.9))  #Set the color using (r,g,b) values or\n",
    "                                                                  #  use a built-in matplotlib color\"\"\" \n",
    "    bincenters = 0.5*(bins[1:]+bins[:-1])\n",
    "    errs = np.sqrt(n)\n",
    "\n",
    "    plt.errorbar(bincenters, n, yerr=errs, fmt='none')\n",
    "    #Add some axis labels and a descriptive title\n",
    "    plt.xlabel(xtitle)\n",
    "    plt.ylabel(ytitle)\n",
    "    plt.title(title)\n",
    "\n",
    "    #Get rid of the extra white space on the left/right edges (you can delete these two lines without a problem)\n",
    "    xmin, xmax, ymin, ymax = plt.axis()\n",
    "    plt.axis([limits[0],limits[1],ymin,ymax])\n",
    "\n",
    "    #Not necessarily needed in a Jupyter notebook, but it doesn't hurt\n",
    "    plt.show()\n",
    "    return n, bincenters, patches, errs"
   ]
  },
  {
   "cell_type": "code",
   "execution_count": 223,
   "metadata": {},
   "outputs": [
    {
     "data": {
      "image/png": "[encoded data removed]",
      "text/plain": [
       "<Figure size 432x288 with 1 Axes>"
      ]
     },
     "metadata": {
      "needs_background": "light"
     },
     "output_type": "display_data"
    }
   ],
   "source": [
    "n, bincenters, patches, errs = plot_histogram(f2p1cos, \"Cos Theta\", \"Counts\", \"Angular Distribution\", \n",
    "                                        nbins = 100, \n",
    "                                        limits = [-reqval, reqval])"
   ]
  },
  {
   "cell_type": "code",
   "execution_count": 224,
   "metadata": {},
   "outputs": [],
   "source": [
    "def polynomial(costheta, N_0, A, B):\n",
    "    return N_0*(1 + A * costheta + B * (costheta **2))"
   ]
  },
  {
   "cell_type": "code",
   "execution_count": 225,
   "metadata": {},
   "outputs": [
    {
     "name": "stdout",
     "output_type": "stream",
     "text": [
      "Fitted N_0 =  296.25715798851445 +,- 3.421748403691694\n",
      "Fitted A =  -0.12886021559621386 +,- 0.017879370772758776\n",
      "Fitted B =  1.1404921896809936 +,- 0.05660963862871983\n"
     ]
    }
   ],
   "source": [
    "fitparams, pcov = curve_fit(polynomial, bincenters, n)\n",
    "errors = np.sqrt(np.diag(pcov))\n",
    "\n",
    "N_0 = fitparams[0]\n",
    "fitA = fitparams[1]\n",
    "fitB = fitparams[2]\n",
    "\n",
    "N_0err = errors[0]\n",
    "fitA_err = errors[1]\n",
    "fitB_err = errors[2]\n",
    "\n",
    "print('Fitted N_0 = ', N_0, \"+,-\", N_0err)\n",
    "print('Fitted A = ', fitA, \"+,-\", fitA_err)\n",
    "print('Fitted B = ', fitB, \"+,-\", fitB_err)"
   ]
  },
  {
   "cell_type": "code",
   "execution_count": 226,
   "metadata": {},
   "outputs": [
    {
     "data": {
      "image/png": "[encoded data removed]",
      "text/plain": [
       "<Figure size 432x288 with 1 Axes>"
      ]
     },
     "metadata": {
      "needs_background": "light"
     },
     "output_type": "display_data"
    }
   ],
   "source": [
    "x = np.linspace(-1, 1, 1000)\n",
    "\n",
    "plt.figure()\n",
    "plt.plot(x, polynomial(x, N_0, fitA, fitB), 'r', label = 'fit')\n",
    "plt.scatter(bincenters, n, label = 'Data (from Histogram)')\n",
    "plt.legend()\n",
    "plt.show()"
   ]
  },
  {
   "cell_type": "markdown",
   "metadata": {},
   "source": [
    "A reduced $\\chi^2$ value near $1$ indicates a good fit. Here, $\\chi^2 > 1$, which suggests that the error might have be somewhat underestimated, but is still an overall good fit for the data."
   ]
  },
  {
   "cell_type": "markdown",
   "metadata": {},
   "source": [
    "To find $A_{fb}$ we need to redefine it in terms of the fitted parameters $A$ and $B$, as well as the bound \"reqval\" from the code ($r$ in the equation below).\n",
    "\n",
    "$$ A_{fb} = \\frac{ \\int_{-r}^{0} f(\\cos(\\theta)) d \\cos(\\theta) - \\int_{0}^{r} f(\\cos(\\theta)) d \\cos(\\theta)} {\\int_{-r}^{r} f(\\cos(\\theta)) d \\cos(\\theta)}$$\n",
    "where\n",
    "$$ \\int_{a}^{b} f(\\cos(theta)) = \\int_{a}^{b} N_0[1 + A \\cos(\\theta) + B \\cos^2 (\\theta)] d \\cos(\\theta)$$\n",
    "$$ \\int_{a}^{b} f(\\cos(theta)) = N_0 [(b - a) + \\frac{A}{2} (b^2 - a^2) + \\frac{B}{3} (b^3 - a^3)] $$\n",
    "Plugging in the above formula into $A_{fb}$ and evaluating at the corresponding bounds given by $r$ = 'reqval', we have:\n",
    "$$A_{fb} = \\frac{r^2 A}{2 r + 2 B r^3}$$\n",
    "Finally having $A_{fb}$ in terms of the fitted parameters."
   ]
  },
  {
   "cell_type": "code",
   "execution_count": 228,
   "metadata": {},
   "outputs": [
    {
     "name": "stdout",
     "output_type": "stream",
     "text": [
      "A_fb from fit =  -0.029424658401102397\n"
     ]
    }
   ],
   "source": [
    "# Finding A_fb:\n",
    "\n",
    "Afb = (fitA * reqval**2)/(2*reqval + fitB*2*(reqval**3))\n",
    "print(\"A_fb from fit = \", Afb)"
   ]
  },
  {
   "cell_type": "code",
   "execution_count": 229,
   "metadata": {},
   "outputs": [
    {
     "name": "stdout",
     "output_type": "stream",
     "text": [
      "Upper Bound Afb from analytic formula =  -0.030932488792131764\n",
      "Lower Bound Afb from analytic formula =  -0.04147602658285084\n"
     ]
    }
   ],
   "source": [
    "print(\"Upper Bound Afb from analytic formula = \", analyticAfb + err_A)\n",
    "print(\"Lower Bound Afb from analytic formula = \", analyticAfb - err_A)"
   ]
  },
  {
   "cell_type": "markdown",
   "metadata": {},
   "source": [
    "$A_{fb}$ from the fit doesn't quite fit into the errorbar of the analytic $A_{fb}$, but it gets very close."
   ]
  },
  {
   "cell_type": "markdown",
   "metadata": {},
   "source": [
    "### 1f. "
   ]
  },
  {
   "cell_type": "markdown",
   "metadata": {
    "flags": [
     "problems",
     "solutions"
    ]
   },
   "source": [
    "We can remove this parity violating term by taking the average of the angular distributions for the $\\mu^+$ and the $\\mu^-$:\n",
    "$$\n",
    "\\frac{d<N>}{d\\cos \\theta} = 0.5 \\left ( \\frac{dN^{\\mu+}}{d\\cos\\theta} + \\frac{dN^{\\mu-}}{\\cos\\theta} \\right )\n",
    "$$\n",
    "where $N^\\pm$ are the number of $\\mu^+$ and $\\mu^-$ respectively.  Make a histogram of this distribution and fit the angular distribution to the form \n",
    "$$\n",
    "N = N_0 \\left  ( 1+B \\cos^2 \\theta\\right )\n",
    "$$\n",
    "Is the fitted coefficient $A$ consistent with your prediction? "
   ]
  },
  {
   "cell_type": "markdown",
   "metadata": {
    "flags": [
     "problems",
     "solutions"
    ]
   },
   "source": [
    "Calculate the $\\chi^2$ between your histogram and your prediction.  Turn the resulting $\\chi^2$ into a fit probability."
   ]
  },
  {
   "cell_type": "code",
   "execution_count": 254,
   "metadata": {},
   "outputs": [
    {
     "data": {
      "image/png": "[encoded data removed]",
      "text/plain": [
       "<Figure size 432x288 with 1 Axes>"
      ]
     },
     "metadata": {
      "needs_background": "light"
     },
     "output_type": "display_data"
    },
    {
     "data": {
      "image/png": "[encoded data removed]",
      "text/plain": [
       "<Figure size 432x288 with 1 Axes>"
      ]
     },
     "metadata": {
      "needs_background": "light"
     },
     "output_type": "display_data"
    }
   ],
   "source": [
    "factor = 2 * np.pi * (alpha**2)/(4*s)\n",
    "# muoncross = factor * (1 + f2p1cos**2)\n",
    "# antimuoncross = factor * (1 + f2p2cos**2)\n",
    "\n",
    "# overall = 0.5 * (muoncross + antimuoncross)\n",
    "\n",
    "antiN, antiBins, apatches, anti_errs = plot_histogram(f2p2cos, \"Cos Theta\", \"Counts\", \"Angular Distribution: Antimuons\",\n",
    "                                   nbins = 100,\n",
    "                                   limits = [-reqval, reqval])\n",
    "\n",
    "muonN, muonBins, mpatches, muon_errs = plot_histogram(f2p1cos, \"Cos Theta\", \"Counts\", \"Angular Distribution: Muons\",\n",
    "                                   nbins = 100,\n",
    "                                   limits = [-reqval, reqval])"
   ]
  },
  {
   "cell_type": "code",
   "execution_count": 255,
   "metadata": {},
   "outputs": [],
   "source": [
    "# averaging out the distributions then:\n",
    "average_dist = 0.5*(antiN + muonN)\n",
    "#propagated error\n",
    "err_avg_dist = np.sqrt(anti_errs**2 + muon_errs**2)"
   ]
  },
  {
   "cell_type": "code",
   "execution_count": 256,
   "metadata": {},
   "outputs": [
    {
     "name": "stdout",
     "output_type": "stream",
     "text": [
      "[ True  True  True  True  True  True  True  True  True  True  True  True\n",
      "  True  True  True  True  True  True  True  True  True  True  True  True\n",
      "  True  True  True  True  True  True  True  True  True  True  True  True\n",
      "  True  True  True  True  True  True  True  True  True  True  True  True\n",
      "  True  True  True  True  True  True  True  True  True  True  True  True\n",
      "  True  True  True  True  True  True  True  True  True  True  True  True\n",
      "  True  True  True  True  True  True  True  True  True  True  True  True\n",
      "  True  True  True  True  True  True  True  True  True  True  True  True\n",
      "  True  True  True  True]\n"
     ]
    }
   ],
   "source": [
    "# same bins\n",
    "print(muonBins == antiBins)"
   ]
  },
  {
   "cell_type": "code",
   "execution_count": 257,
   "metadata": {},
   "outputs": [],
   "source": [
    "def justcos2(costheta, N_0, B):\n",
    "    return N_0 * (1 + B * (costheta**2))"
   ]
  },
  {
   "cell_type": "code",
   "execution_count": 258,
   "metadata": {},
   "outputs": [],
   "source": [
    "fp, matrix = curve_fit(justcos2, muonBins, average_dist)"
   ]
  },
  {
   "cell_type": "code",
   "execution_count": 259,
   "metadata": {
    "scrolled": true
   },
   "outputs": [
    {
     "name": "stdout",
     "output_type": "stream",
     "text": [
      "From fit: \n",
      "N_0 =  303.4207381207034 +/- 2.7320658008302954\n",
      "B =  0.9871312575763619 +/- 0.04297923540171837\n"
     ]
    }
   ],
   "source": [
    "errorsforavg = np.sqrt(np.diag(matrix))\n",
    "\n",
    "avgN0 = fp[0]\n",
    "avgB = fp[1]\n",
    "errN0 = errorsforavg[0]\n",
    "errB = errorsforavg[1]\n",
    "\n",
    "print('From fit: ')\n",
    "print('N_0 = ', avgN0, \"+/-\", errN0)\n",
    "print('B = ', avgB, \"+/-\", errB)"
   ]
  },
  {
   "cell_type": "code",
   "execution_count": 277,
   "metadata": {},
   "outputs": [
    {
     "data": {
      "image/png": "[encoded data removed]",
      "text/plain": [
       "<Figure size 432x288 with 1 Axes>"
      ]
     },
     "metadata": {
      "needs_background": "light"
     },
     "output_type": "display_data"
    }
   ],
   "source": [
    "plt.figure()\n",
    "plt.title(\"Fitted curve vs. Average Distribution\")\n",
    "plt.scatter(muonBins, average_dist, label = 'Data')\n",
    "plt.plot(muonBins, justcos2(muonBins, avgN0, avgB), 'r', label = 'Fitted Curve')\n",
    "plt.legend()\n",
    "plt.show()\n"
   ]
  },
  {
   "cell_type": "code",
   "execution_count": 276,
   "metadata": {},
   "outputs": [
    {
     "data": {
      "text/plain": [
       "array([412. , 454. , 470. , 456.5, 473.5, 459.5, 423.5, 409. , 424. ,\n",
       "       404. , 407. , 416. , 396.5, 409.5, 414. , 377.5, 416. , 370.5,\n",
       "       368. , 353. , 352.5, 338. , 341. , 327.5, 365. , 373.5, 344.5,\n",
       "       333.5, 304. , 326.5, 341. , 299. , 345.5, 317.5, 305.5, 309.5,\n",
       "       328. , 330. , 316. , 320. , 303. , 300. , 307. , 327. , 303. ,\n",
       "       322.5, 306.5, 300. , 281.5, 303.5, 304. , 288.5, 281.5, 309. ,\n",
       "       327.5, 304.5, 316.5, 297. , 302. , 304. , 314.5, 330.5, 314.5,\n",
       "       333.5, 305. , 303.5, 326.5, 351. , 312.5, 312.5, 323.5, 320. ,\n",
       "       306.5, 355. , 371.5, 350. , 349.5, 341. , 332. , 369.5, 358.5,\n",
       "       345.5, 390. , 397.5, 363. , 417.5, 413.5, 399. , 417.5, 400. ,\n",
       "       416. , 422.5, 416.5, 426. , 452.5, 464.5, 457.5, 479. , 463.5,\n",
       "       392. ])"
      ]
     },
     "execution_count": 276,
     "metadata": {},
     "output_type": "execute_result"
    }
   ],
   "source": [
    "average_dist"
   ]
  },
  {
   "cell_type": "code",
   "execution_count": 280,
   "metadata": {
    "scrolled": true
   },
   "outputs": [
    {
     "name": "stdout",
     "output_type": "stream",
     "text": [
      "Chisquare =  85.40481727680621\n",
      "P-value =  0.8330650505771748\n"
     ]
    }
   ],
   "source": [
    "#computing chisquare\n",
    "from scipy.stats import chisquare\n",
    "\n",
    "chisq, pval = chisquare(f_obs = average_dist, f_exp = fittedvals)\n",
    "\n",
    "print(\"Chisquare = \", chisq)\n",
    "print(\"P-value = \", pval)"
   ]
  },
  {
   "cell_type": "code",
   "execution_count": 281,
   "metadata": {},
   "outputs": [],
   "source": [
    "### not sure if you can use reduced-chi square with non-linear fit\n",
    "\n",
    "# counting_err = err_avg_dist\n",
    "# fittedvals = justcos2(muonBins, avgN0, avgB)\n",
    "\n",
    "# chi2 = 0\n",
    "# for i in range(len(average_dist)):\n",
    "#     chi2 += ((average_dist[i] - fittedvals[i])**2)/(counting_err[i]**2)\n",
    "\n",
    "# df = len(fittedvals) - len(fp)\n",
    "# reduced_chi2 = chi2/df\n",
    "# print('Reduced Chi_2: ', reduced_chi2)"
   ]
  },
  {
   "cell_type": "code",
   "execution_count": 282,
   "metadata": {},
   "outputs": [],
   "source": [
    "#analytic Afb (I tried to do with the same method in the previous problem)\n",
    "p = np.where(muonBins > 0)[0]\n",
    "n = np.where(muonBins < 0)[0]\n",
    "avgNpos = len(average_dist[p])\n",
    "avgNneg = len(average_dist[n])\n",
    "\n",
    "analyticAfbavg = (avgNpos - avgNneg)/(avgNpos + avgNneg)\n",
    "errAavg = np.sqrt((((2*avgNneg)/((avgNpos+avgNneg)**2))**2)*(avgNpos) + (((2*avgNpos)/((avgNpos + avgNneg)**2))**2)*(avgNneg))\n"
   ]
  },
  {
   "cell_type": "code",
   "execution_count": 283,
   "metadata": {},
   "outputs": [
    {
     "name": "stdout",
     "output_type": "stream",
     "text": [
      "0.0\n",
      "0.1\n",
      "Can't use the same logic here, because 'average_dist' is a histogram, not an actual dataset\n"
     ]
    }
   ],
   "source": [
    "print(analyticAfbavg)\n",
    "print(errAavg)\n",
    "print(\"Can't use the same logic here, because 'average_dist' is a histogram, not an actual dataset\")"
   ]
  },
  {
   "cell_type": "code",
   "execution_count": 271,
   "metadata": {},
   "outputs": [
    {
     "name": "stdout",
     "output_type": "stream",
     "text": [
      "-5.424537817704346\n"
     ]
    }
   ],
   "source": [
    "# I can construct an A from the fitted parameter definition though. Not that useful since I don't have a corresponding\n",
    "# A from a dataset. I use the same integral definition for A_fb from before, but use f(x) = N0(1 + B*x^2) instead\n",
    "# same boundaries on the integrals. That resolves into the below formula for A\n",
    "fittedAavg = -3/(avgB*(reqval**2))\n",
    "print(fittedAavg)"
   ]
  }
 ],
 "metadata": {
  "kernelspec": {
   "display_name": "Python 3",
   "language": "python",
   "name": "python3"
  },
  "language_info": {
   "codemirror_mode": {
    "name": "ipython",
    "version": 3
   },
   "file_extension": ".py",
   "mimetype": "text/x-python",
   "name": "python",
   "nbconvert_exporter": "python",
   "pygments_lexer": "ipython3",
   "version": "3.7.1"
  }
 },
 "nbformat": 4,
 "nbformat_minor": 4
}
