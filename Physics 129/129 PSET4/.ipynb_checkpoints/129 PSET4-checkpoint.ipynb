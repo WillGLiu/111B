{
 "cells": [
  {
   "cell_type": "markdown",
   "metadata": {},
   "source": [
    "# Problem Set #4 problems"
   ]
  },
  {
   "cell_type": "markdown",
   "metadata": {},
   "source": [
    "## Question 1: Likelihood Fits, Statistical Methods (40 points)"
   ]
  },
  {
   "cell_type": "markdown",
   "metadata": {},
   "source": [
    "### Learning objectives\n",
    "In this question you will:\n",
    "\n",
    "- Construct a likelihood function for a probability distribution with one free parameter\n",
    "- Determine the best fit value of the parameter and estimate its uncertainty both by graphing the likelihood function and using a standard minimization package\n"
   ]
  },
  {
   "cell_type": "markdown",
   "metadata": {
    "flags": [
     "problems",
     "solutions"
    ]
   },
   "source": [
    "Consider the problem of determining the lifetime of a species of particle that we can stop in our detector by observing its decays. Assume each time a particle stops, we set the stopping time to be $t=0$ and that we only observe decays that occur up to a time $T_{max}$ after the particle stops.  The distribution of measured times therefore follows the form:\n",
    "\n",
    "\\begin{eqnarray*}\n",
    "R(t) & =  R_0 e^{-\\Gamma t} & \\qquad \\qquad 0 \\le t \\le T_{max} \\\\\n",
    "     & =  0 &\\qquad \\qquad {\\rm otherwise}\n",
    "\\end{eqnarray*}\n",
    "\n",
    "For this problem, we'll take as the true decay parameter $\\Gamma=2\\ \\mathrm{sec}^{-1}$ and maximum time that we wait for a decay to be $T_{max}=3$ sec. We can imagine doing the experiment over many times (each experiment takes three seconds) to accumulate a lot of data."
   ]
  },
  {
   "cell_type": "markdown",
   "metadata": {},
   "source": [
    "### 1a. "
   ]
  },
  {
   "cell_type": "markdown",
   "metadata": {
    "flags": [
     "problems",
     "solutions"
    ]
   },
   "source": [
    "First, let's generate some fake data. Generate 1000 decay times that follow the formula above.  (Hint:  use numpy.random.exponential and reject events with decay times larger than $T_{max}$.  Verify that your event generation looks reasonable by making a histogram of the decay times."
   ]
  },
  {
   "cell_type": "code",
   "execution_count": 113,
   "metadata": {},
   "outputs": [],
   "source": [
    "import math\n",
    "import numpy as np\n",
    "import random\n",
    "import matplotlib.pyplot as plt\n",
    "from scipy.optimize import minimize\n",
    "import scipy.misc"
   ]
  },
  {
   "cell_type": "code",
   "execution_count": 114,
   "metadata": {
    "flags": [
     "problems",
     "solutions"
    ]
   },
   "outputs": [],
   "source": [
    "def makeData( Gamma, Tmax, nDecays ):\n",
    "    \"\"\"Generates a dataset of decay times.  The distribution of events follows an exponential with \n",
    "    decay parameter Gamma, but where the decays are cut-off after time Tmax\n",
    "    \n",
    "    Parameters\n",
    "    ==========\n",
    "    Gamma : float\n",
    "      decay parameter of the exponential distribution\n",
    "      \n",
    "    Tmax : float\n",
    "      maximum decay time that can be generated in the dataset\n",
    "      \n",
    "    nDecays : int\n",
    "      number of decay times to generate\n",
    "      \n",
    "    Returns\n",
    "    =======\n",
    "    decayTimes : array\n",
    "      nDecays number of decay times generated according to the exponential distribution with decay\n",
    "      parameter gamma and maximum decay time Tmax\n",
    "    \"\"\"\n",
    "    \n",
    "    # Make an array to hold the decay times\n",
    "#     decayTimes = np.zeros(nDecays)\n",
    "    first_array = np.random.exponential(scale = (1/Gamma), size = nDecays)\n",
    "    decayTimes = first_array[np.where(first_array <= Tmax)]\n",
    "    \n",
    "    \n",
    "    \n",
    "    return decayTimes"
   ]
  },
  {
   "cell_type": "code",
   "execution_count": 115,
   "metadata": {},
   "outputs": [],
   "source": [
    "gamma = 2 # s^-1\n",
    "Tmax = 3 #s\n",
    "nDecays = 1000\n",
    "decaytimes = makeData(gamma, Tmax, nDecays)"
   ]
  },
  {
   "cell_type": "code",
   "execution_count": 116,
   "metadata": {
    "scrolled": true
   },
   "outputs": [
    {
     "data": {
      "image/png": "[encoded data removed]",
      "text/plain": [
       "<Figure size 432x288 with 1 Axes>"
      ]
     },
     "metadata": {
      "needs_background": "light"
     },
     "output_type": "display_data"
    }
   ],
   "source": [
    "n, bins, patches = plt.hist(test_data, 100, density = True)\n",
    "plt.title(\"Test data\")\n",
    "plt.xlabel(\"Decay Time\")\n",
    "plt.ylabel(\"Counts\")\n",
    "plt.show()"
   ]
  },
  {
   "cell_type": "markdown",
   "metadata": {},
   "source": [
    "### 1b. "
   ]
  },
  {
   "cell_type": "markdown",
   "metadata": {
    "flags": [
     "problems",
     "solutions"
    ]
   },
   "source": [
    "Calculate the negative log-likelihood function, $-\\ln {\\cal L}$, for your data.  Express your likelihood in terms of the free parameters, $\\Gamma$.\n",
    "\n",
    "Hint: your pdf for the expected distribution of decay times $f(t) $ is an exponental that only extends to $t_{max}$ so:\n",
    "$$\n",
    "\\int_0^{t_{max}}f(t)dt = \\int_0^{t_{max}} R_0 e^{-\\Gamma t} dt = 1\n",
    "$$"
   ]
  },
  {
   "cell_type": "markdown",
   "metadata": {},
   "source": [
    "Because of the above property, we can treat the dataset as a PDF, so we can take the negative log of it directly:"
   ]
  },
  {
   "cell_type": "markdown",
   "metadata": {},
   "source": [
    "Also, doing the integral directly to solve for the normalization factor:\n",
    "$$ R_0 = \\frac{-\\Gamma}{\\exp(-\\Gamma t_{max}) - 1} $$"
   ]
  },
  {
   "cell_type": "code",
   "execution_count": 117,
   "metadata": {},
   "outputs": [
    {
     "data": {
      "text/plain": [
       "2.0049698233136892"
      ]
     },
     "execution_count": 117,
     "metadata": {},
     "output_type": "execute_result"
    }
   ],
   "source": [
    "R_0 = -gamma/(np.exp(-gamma*Tmax) - 1)\n",
    "R_0"
   ]
  },
  {
   "cell_type": "code",
   "execution_count": 118,
   "metadata": {},
   "outputs": [],
   "source": [
    "def exp(norm, gamma, times):\n",
    "    return norm*np.exp(-1*gamma*times)"
   ]
  },
  {
   "cell_type": "code",
   "execution_count": 119,
   "metadata": {},
   "outputs": [
    {
     "data": {
      "text/plain": [
       "285.4354611285834"
      ]
     },
     "execution_count": 119,
     "metadata": {},
     "output_type": "execute_result"
    }
   ],
   "source": [
    "function = exp(R_0, gamma, decaytimes)\n",
    "negloglikelihood = -1*np.sum(np.log(function))\n",
    "negloglikelihood"
   ]
  },
  {
   "cell_type": "markdown",
   "metadata": {},
   "source": [
    "### 1c. "
   ]
  },
  {
   "cell_type": "markdown",
   "metadata": {
    "flags": [
     "problems",
     "solutions"
    ]
   },
   "source": [
    "We will study the simulated data, pretending that we dont know what value of $\\Gamma$ was used to generate it.  We want to find the best estimate of $\\Gamma$ from the data. \n",
    "\n",
    "We saw in class that for high statistics $-2\\ln {\\cal L}$ is  distributed like a $\\chi^2$ distribution and the uncertainty on the estimate of a parameter of the function can be obtained by finding how much the you can change the parameter to increase $-2\\ln {\\cal L}$ by 1. \n",
    "Write code to calculate the negative log-likelihood:\n",
    "$$\n",
    "- 2 \\ln {\\cal L} = -2 \\sum_i \\ln f(\\Gamma, t_i)\n",
    "$$\n",
    "where the $t_i$ are the time values you generated.  Using this code, find the value of $-2\\ln {\\cal L}$ for $\\Gamma - \\Gamma_{true}$."
   ]
  },
  {
   "cell_type": "code",
   "execution_count": 120,
   "metadata": {
    "flags": [
     "problems",
     "solutions"
    ]
   },
   "outputs": [],
   "source": [
    "def minusloglikelihoodFn(Gamma, maxT, decayTimes):\n",
    "    \"\"\"calculates the -ln(Likelihood) for the decayTimes for specified values of maxT and Gamma\n",
    "    \n",
    "    Parameters\n",
    "    ==========\n",
    "    Gamma : float\n",
    "      hypothesis for lifetime\n",
    "      \n",
    "    Tmax : float\n",
    "      maximum time for observation\n",
    "      \n",
    "    nDecays : array\n",
    "      a dataset of decay times generated according to the distribution described above\n",
    "      \n",
    "    Returns\n",
    "    =======\n",
    "    minusLogLikelihood : float\n",
    "      -ln(Likelihood) given the hypothesized Gamma and maxT for the input data\n",
    "    \"\"\"  \n",
    "    # decaytimes = result from 'makeData'\n",
    "    #decayTimes = makeData(Gamma, maxT, nDecays)\n",
    "    R_0 = -Gamma/(np.exp(-Gamma*maxT) - 1)\n",
    "    function = exp(R_0, Gamma, decayTimes)\n",
    "    \n",
    "    minusLogLikelihood = -1*np.sum(np.log(function))\n",
    "    # print(mean_time)\n",
    "    \n",
    "    # Factor of 2 Apply it outside?\n",
    "    \n",
    "    return minusLogLikelihood"
   ]
  },
  {
   "cell_type": "code",
   "execution_count": 121,
   "metadata": {},
   "outputs": [
    {
     "data": {
      "text/plain": [
       "570.8709222571669"
      ]
     },
     "execution_count": 121,
     "metadata": {},
     "output_type": "execute_result"
    }
   ],
   "source": [
    "tLikelihood = 2*minusloglikelihoodFn(Gamma = gamma, maxT = Tmax,decayTimes = decaytimes)\n",
    "tLikelihood"
   ]
  },
  {
   "cell_type": "markdown",
   "metadata": {},
   "source": [
    "### 1d. "
   ]
  },
  {
   "cell_type": "markdown",
   "metadata": {
    "flags": [
     "problems",
     "solutions"
    ]
   },
   "source": [
    "There are lots of algorithms for finding the  minimum of a non-linear function such as our negative log-likelihood,  but we won't bother to use any of these algorithms for yet.  Instead, we will explore the minimum by inspecting the behavour of the function. Plot the value of $-\\ln {\\cal L}$ you obtain from your simulated data as you vary $\\Gamma$ in the region  of the true answer ($\\Gamma=2$).  How close is the $\\Gamma $ that gives minimum negative log-likelihood  to the true value of $\\Gamma$?  Estimate the uncertainty on your estimate of $\\Gamma$ by finding the values corresponding to an increase of ${\\cal L}$ of 1.0"
   ]
  },
  {
   "cell_type": "code",
   "execution_count": 122,
   "metadata": {
    "flags": [
     "problems",
     "solutions"
    ]
   },
   "outputs": [
    {
     "data": {
      "image/png": "[encoded data removed]",
      "text/plain": [
       "<Figure size 432x288 with 1 Axes>"
      ]
     },
     "metadata": {
      "needs_background": "light"
     },
     "output_type": "display_data"
    }
   ],
   "source": [
    "ngrid=1000 # How many points to scan\n",
    "G = np.arange(1.75,2.25,0.5/ngrid)  #The gamma values to scan\n",
    "LLG = np.zeros(ngrid)               #The likelihood for these values\n",
    "\n",
    "for i in range(len(LLG)):\n",
    "    LLG[i] = minusloglikelihoodFn(Gamma = G[i], maxT = Tmax, decayTimes = decaytimes)\n",
    "\n",
    "\n",
    "plt.figure()\n",
    "plt.xlabel('Gamma Values')\n",
    "plt.ylabel('-ln(L)')\n",
    "plt.plot(G,LLG)\n",
    "plt.show()"
   ]
  },
  {
   "cell_type": "markdown",
   "metadata": {},
   "source": [
    "### 1e. "
   ]
  },
  {
   "cell_type": "markdown",
   "metadata": {
    "flags": [
     "problems",
     "solutions"
    ]
   },
   "source": [
    "While this graphical method of finding the minimum works well for simple cases, we often will use a minimization package instead.  Using the data you have already created, pick your favorite minimization package and see if it finds the right minimum and whether the uncertainty it returns agrees with your estimate above. \n",
    "\n",
    "Hint:  The uncertainty on the fitted minumum can be estimated by taking the square root of the inverse Hessian of the likelihood function ${\\cal L(x|{\\bf \\alpha}}$ where $x$ are the observed values of the measurements and ${\\bf \\alpha} = (\\alpha_0, \\alpha_1, ...)$ are the parameters to be fit.  The Hessian is defined as\n",
    "$$\n",
    "H({\\bf \\alpha}) = \\frac{\\partial^2}{\\partial \\alpha_i\\partial \\alpha_j}\n",
    "$$\n",
    "One example of a minimization package that returns the inverse Hessian is [*scipy.optimize.minimize*](https://docs.scipy.org/doc/scipy/reference/generated/scipy.optimize.minimize.html) using the 'BFGS' method."
   ]
  },
  {
   "cell_type": "code",
   "execution_count": 123,
   "metadata": {
    "flags": [
     "problems",
     "solutions"
    ]
   },
   "outputs": [],
   "source": [
    "from scipy.optimize import minimize\n",
    "\n",
    "min_g = scipy.optimize.minimize(minusloglikelihoodFn, 2, args = (Tmax, decaytimes), method = 'BFGS')"
   ]
  },
  {
   "cell_type": "code",
   "execution_count": 124,
   "metadata": {},
   "outputs": [],
   "source": [
    "val = min_g.x[0]"
   ]
  },
  {
   "cell_type": "code",
   "execution_count": 125,
   "metadata": {},
   "outputs": [],
   "source": [
    "err = min_g.hess_inv[0][0]"
   ]
  },
  {
   "cell_type": "code",
   "execution_count": 126,
   "metadata": {},
   "outputs": [
    {
     "name": "stdout",
     "output_type": "stream",
     "text": [
      "Minimized Gamma value =  2.005070263062478 +/- 0.004971522530540824\n"
     ]
    }
   ],
   "source": [
    "# Final result:\n",
    "print(\"Minimized Gamma value = \", val, \"+/-\", err)"
   ]
  },
  {
   "cell_type": "markdown",
   "metadata": {},
   "source": [
    "### 1f. "
   ]
  },
  {
   "cell_type": "markdown",
   "metadata": {
    "flags": [
     "problems",
     "solutions"
    ]
   },
   "source": [
    "To verify your estimate of the uncertainty on the measured value of $\\Gamma$, generate 100 samples each with 1000 events.  Histogram the estimated $\\Gamma$ for these samples and find the rms of the \"measurements.\"  How does this rms compare to your answers above?"
   ]
  },
  {
   "cell_type": "code",
   "execution_count": 127,
   "metadata": {},
   "outputs": [
    {
     "data": {
      "image/png": "[encoded data removed]",
      "text/plain": [
       "<Figure size 432x288 with 1 Axes>"
      ]
     },
     "metadata": {
      "needs_background": "light"
     },
     "output_type": "display_data"
    },
    {
     "data": {
      "text/plain": [
       "0.0649312305322798"
      ]
     },
     "execution_count": 127,
     "metadata": {},
     "output_type": "execute_result"
    }
   ],
   "source": [
    "vals = []\n",
    "errs = []\n",
    "for i in range(100):\n",
    "    decaytimes = makeData(gamma, Tmax, 1000)\n",
    "    MLL = minusloglikelihoodFn(gamma, Tmax, decaytimes)\n",
    "    min_gamma = scipy.optimize.minimize(minusloglikelihoodFn, 2, args = (Tmax, decaytimes), method = 'BFGS')\n",
    "    val = min_gamma.x[0]\n",
    "    err = min_gamma.hess_inv[0][0]\n",
    "    vals.append(val)\n",
    "    errs.append(err)\n",
    "    \n",
    "plt.figure()\n",
    "n, bins, patches = plt.hist(vals, 20)\n",
    "plt.show()\n",
    "\n",
    "# interpreting RMS to be equivalent as STDEV, then\n",
    "stdev = np.std(vals)\n",
    "stdev"
   ]
  },
  {
   "cell_type": "markdown",
   "metadata": {},
   "source": [
    "Standard deviation is larger than the resulting error from scipy.optimize.minimize, but it should generally decrease as the number of samples increase."
   ]
  },
  {
   "cell_type": "markdown",
   "metadata": {},
   "source": [
    "## Question 2: Noether's Theorem (20 points)"
   ]
  },
  {
   "cell_type": "markdown",
   "metadata": {},
   "source": [
    "### Learning objectives\n",
    "In this question you will:\n",
    "\n",
    "- Review the meaning of Noether's theorem\n",
    "- Apply Noether's theorm to a non-relativistic quantum mechanical example "
   ]
  },
  {
   "cell_type": "markdown",
   "metadata": {},
   "source": [
    "In non-relativistic quantum mechanics, we learned that if an operator commutes with the Hamiltonian, the expectation value of that operator is a conserved quantity.  The same concept holds in relativistic quantum mechanics but is expressed using Lagrangian language.  The Lagrangian can be expressed as $$ L = T - V$$ where $T$ is the kinetic energy of the system and $V$ is the potential energy of the system. The action, S, of a trajectory is defined as the integral of the Lagrangian with respect to time during the trajectory, i.e. $$ S = \\int L \\hspace{0.05in} dt $$.\n",
    "\n",
    "Noether's theorem tells us that for every symmetry of the action there is a conserved quantum number.\n",
    "\n",
    "Consider the following example for the case of non-relativisitic quantum mechanics.  A particle with spin-$\\frac{1}{2}$ and magnetic moment $\\vec \\mu = g\\frac{q}{2m} \\vec S$ where $q$ is the charge of the particle and $\\vec S$ is the spin is placed in a constant magnetic field in the $z$-direction $\\vec B = B_0 \\hat z$.  The Lagrangian is therefore\n",
    "$$\n",
    "L = \\frac{\\left ( \\vec p \\right ) ^2}{2m}  + \\vec \\mu \\cdot B\n",
    "$$\n",
    "Which of the following are conserved quantities:\n",
    "- (a) $p_x$, the $x$-component of the momentum\n",
    "- (b) $p_z$, the $z$-component of the momentum\n",
    "- (c) $S_x$, the $x$-component of the spin\n",
    "- (d) $S_z$, the $z$-component of the spin\n",
    "- (e) $\\vec S^2$ the magnitude of the spin-squared operator"
   ]
  },
  {
   "cell_type": "markdown",
   "metadata": {},
   "source": [
    "According to Noether's theorem, there's a 1:1 relation between symmetries and conservation laws. In QM, this means that $$ [\\hat{H},\\hat{O}] = 0 \\rightarrow <\\hat{O}> conserved $$"
   ]
  },
  {
   "cell_type": "markdown",
   "metadata": {},
   "source": [
    "a) $[\\vec{p_x}, \\vec{p}^2] = 0, [\\vec{p_x}, \\hat{S_z}] = 0$ <br/>\n",
    "$\\therefore p_x$ conserved <br/>\n",
    "b) $[\\vec{p_z}, \\vec{p}^2] = 0, [\\vec{p_z}, \\hat{S_z}] = 0$ <br/>\n",
    "$\\therefore p_z$ conserved <br/>\n",
    "c) $[\\vec{S_x}, \\vec{p}^2] = 0, [\\vec{S_x}, \\hat{S_z}] \\neq 0$ <br/>\n",
    "$\\therefore S_x$ NOT conserved <br/>\n",
    "d) $[\\vec{S_z}, \\vec{p}^2] = 0, [\\vec{S_z}, \\hat{S_z}] = 0$ <br/>\n",
    "$\\therefore S_x$ NOT conserved <br/>\n",
    "e) $[\\vec{S^2}, \\vec{p}^2] = 0, [\\vec{S^2}, \\hat{S_z}] = 0$ <br/>\n",
    "$\\therefore S^2$ conserved <br/>"
   ]
  },
  {
   "cell_type": "markdown",
   "metadata": {},
   "source": [
    "Note that $\\hat{S}$ and $\\vec{p}$ occupy different eigenspaces, so they'll always commute. The reason we check for $\\vec{p}^2$ and $\\hat{S_z}$ (comes from $\\vec{S} \\cdot \\hat{z})$ is because $\\hat{H}$ is composed of both of these operators "
   ]
  },
  {
   "cell_type": "markdown",
   "metadata": {},
   "source": [
    "## Question 3: Parity Properties of Various Operators (10 points)"
   ]
  },
  {
   "cell_type": "markdown",
   "metadata": {},
   "source": [
    "### Learning objectives\n",
    "In this question you will:\n",
    "\n",
    "- Review the meaning of the terms vector, axial vector, scalar and pseudoscalar and determine the parity property of several operators"
   ]
  },
  {
   "cell_type": "markdown",
   "metadata": {},
   "source": [
    "We saw in class that operators could be classified according to their properties under the parity operator.  Vector operators change sign under parity\n",
    "\n",
    "$$\n",
    "{\\bf P}\\; \\vec r \\; {\\bf P}^\\dagger \\rightarrow - \\vec r\n",
    "$$\n",
    "\n",
    "while axial vectors do not:\n",
    "\n",
    "$$\n",
    "{\\bf P }\\;\\vec L \\; {\\bf P } ^\\dagger \\rightarrow + \\vec L\n",
    "$$\n",
    "\n",
    "similarly, scalar operators do not change sign under parity \n",
    "\n",
    "$$\n",
    "{\\bf P}\\; \\left (\\vec r \\cdot \\vec p \\right ) \\; {\\bf P}^\\dagger \\rightarrow + \\vec r \\cdot \\vec p\n",
    "$$\n",
    "\n",
    "while pseudoscalar operators do change sign:\n",
    "\n",
    "$$\n",
    "{\\bf P}\\; \\left (\\vec p \\cdot \\vec L \\right ) \\; {\\bf P}^\\dagger \\rightarrow - \\vec p \\cdot \\vec L \n",
    "$$\n",
    "\n",
    "For each of the operators below, state whether they are scalar, pseudoscalar. vector or pseudovector:\n",
    "- (a) $\\vec p_1 \\cdot \\left (\\vec p_2 \\times \\vec p_3 \\right )$ where 1. 2 and 3 are three different particles\n",
    "- (b)  $\\vec p_1 \\times \\left (\\vec p_2 \\times \\vec p_3 \\right )$ where 1. 2 and 3 are three different particles\n",
    "- (c) The magnetic moment $\\vec \\mu$ of a particle\n",
    "- (d) The magnetic field $\\vec B$\\;\\; (Hint: look at the Biot-Savart law)\n",
    "- (e) $\\left (\\vec p_1 \\times \\vec p_2 \\right) \\cdot \\left (\\vec S_1+\\vec S_2 \\right)$ where 1 and 2 are two different particles\n"
   ]
  },
  {
   "cell_type": "markdown",
   "metadata": {},
   "source": [
    "Some rules: <br/>\n",
    "- vector $\\times$ vector = pseudovector\n",
    "- pseudovec $\\times$ pseudovec = pseudovec\n",
    "- vector $\\times$ pseudovec = vector\n",
    "- pseudovec $\\times$ vector = vector"
   ]
  },
  {
   "cell_type": "markdown",
   "metadata": {},
   "source": [
    "Based on the above, then: <br/>\n",
    "a) $\\vec{p_1} \\cdot (\\vec{p_2}\\times\\vec{p_3}) = $ vector $\\cdot$ pseudovec = pseudoscalar <br/>\n",
    "b) $\\vec{p_1} \\times (\\vec{p_2}\\times\\vec{p_3}) = $ vector $\\times$ pseudovec = vector <br/>\n",
    "c) Magnetic moment is invariant under a coordinate axes inversion, and therefore $\\vec{\\mu} = $ pseudovector <br/>\n",
    "d) A different argument than using Biot-Savart: we know that torque is a psuedovector as well. We also know\n",
    "$$ \\tau = \\vec{\\mu} \\times \\vec{B} $$\n",
    "Thus, this above relation + 2nd bullet point from previous segment means that $\\vec{B}$ must also be a pseudovector <br/>\n",
    "e) $\\vec{S} = k \\vec{\\mu}$, so $\\vec{S}$ must also be a pseudovector, so <br/>\n",
    "pseudovec $\\cdot$ pseudovec = scalar, $\\therefore$ scalar"
   ]
  },
  {
   "cell_type": "markdown",
   "metadata": {},
   "source": [
    "## Question 4: Parity in Particle Decays (10 points)"
   ]
  },
  {
   "cell_type": "markdown",
   "metadata": {},
   "source": [
    "### Learning objectives\n",
    "In this question you will:\n",
    "\n",
    "- Explore how conservation laws can be used to exclude specific decay channels"
   ]
  },
  {
   "cell_type": "markdown",
   "metadata": {},
   "source": [
    "Show that a scalar meson (a meson with spin 0 and parity +1) cannot decay to three pseudoscalar mesons (mesons with spin 0 and parity -1) in a parity-conserving process such as the strong interaction."
   ]
  },
  {
   "cell_type": "markdown",
   "metadata": {},
   "source": [
    "Parity must be conserved in a strong interaction. Total parity is calculated by multiplying the parities of each of the constituents at each stage. Thus, \n",
    "$$ U_P m_s U_P^{-1} = +m_s \\rightarrow \\therefore \\pi_{m_s} = +1 $$\n",
    "$$ \\pi_{final} = \\pi_{f_1} \\pi_{f_2} \\pi_{f_3} = (-1)(-1)(-1) = -1 $$\n",
    "$\\therefore$ This decay cannot be the result of a strong interaction because the starting parity is not conserved."
   ]
  },
  {
   "cell_type": "markdown",
   "metadata": {},
   "source": [
    "## Question 5: $\\Lambda^{0} $ polarization in the strong interactions (20 points) "
   ]
  },
  {
   "cell_type": "markdown",
   "metadata": {},
   "source": [
    "### Learning objectives\n",
    "In this question you will:\n",
    "\n",
    "- Apply the concept of parity conservation in the strong interactions to determine what functional forms are allowed for a specific observable (the polarization)"
   ]
  },
  {
   "cell_type": "markdown",
   "metadata": {},
   "source": [
    "Consider the production of $\\Lambda$ particles via a strong interaction:\n",
    "\n",
    "$$\n",
    "p + p \\rightarrow \\Lambda^{0} + X\n",
    "$$\n",
    "\n",
    "where $X$ represents one of more additional final state particles that are not necessarily observed. Assume that the $\\Lambda^{0}$ and  $X$ each have the same parity as the proton. Also assume that the initial protons are unpolarized.   In the center-of-mass frame, the momentum vectors of the two protons and the $\\Lambda^{0}$ all lie in a plane, called the production plane:"
   ]
  },
  {
   "cell_type": "markdown",
   "metadata": {},
   "source": [
    "<img src=\"productionPlane.png\" alt=\"Drawing\" style=\"width: 600px;\"/>"
   ]
  },
  {
   "cell_type": "markdown",
   "metadata": {},
   "source": [
    "It has been observed that $\\Lambda^{0}$ (which are spin 1/2 particles) are polarized.  This means that the expectation value  $\\left < \\vec S_{\\Lambda} \\cdot \\hat n\\right > \\ne 0$ for certain unit vectors $\\hat n$.  Here $\\vec S_{\\Lambda}$ is the spin vector of the $\\Lambda^{0}$.  \n",
    "\n",
    "In this problem, you will determine what possible directions $\\hat n$ can have."
   ]
  },
  {
   "cell_type": "markdown",
   "metadata": {},
   "source": [
    "(a) Show that if $\\hat n$ lies in the production plane, then $\\left < \\vec S_{\\Lambda} \\cdot \\hat n\\right > = 0$ if parity is conserved "
   ]
  },
  {
   "cell_type": "markdown",
   "metadata": {},
   "source": [
    "If $\\hat{n}$ is in the same plane as the momenta of the protons, it can be said that $\\hat{n}$ shares the same plane as\n",
    "$$ a \\vec{p_1} + b \\vec{p_2} $$\n",
    "which is a linear combination of vectors. This result means that $\\hat{n}$, in this case, must be a vector (as opposed to a pseudovector). We know also, from question 4, that $\\hat{S}$ is a pseudovector, which has even parity. In addition, we also know that pseudovector $\\cdot$ vector $=$ pseudoscalar, a quantity that does change sign under parity inversion. So if we were to find the expectation value of a function of odd parity over finite range (like integrating over 1D wavefunctions in a box), we would find that integral to come out to zero. Therefore, due to parity considerations we have to conclude that $$\\left <\\vec{S_{\\Lambda}} \\cdot \\hat{n}\\right> = 0$$"
   ]
  },
  {
   "cell_type": "markdown",
   "metadata": {},
   "source": [
    "(b) Show that a non-zero value of $\\left < \\vec S_{\\Lambda} \\cdot \\hat n\\right > $ is possible if $\\hat n$ is perpendicular to the production plane"
   ]
  },
  {
   "cell_type": "markdown",
   "metadata": {},
   "source": [
    "Hints:\n",
    "1) In the center of mass frame of two unpolarized colliding particles of the same species, the scattering rate must be be a symmetric function of $\\cos \\theta^*$ (the polar angle with respect to the $pp$ direction) since there is no distinction between the forward and backward directions.  \n",
    "2) Work in the center-of-mass frame since this is where the production plane is defined.  In each case, express $\\hat n$ as a function of the 3-momenta of the specified particles."
   ]
  },
  {
   "cell_type": "markdown",
   "metadata": {},
   "source": [
    "In this case, $$\\hat{n} = \\vec{p_1} \\times \\vec{p_2}$$ This makes $\\hat{n}$ a pseudovector. From question 4, we know that $\\hat{S}$ is also a pseudovector. Also from Q4, we know that pseudovector $\\cdot$ pseudovector $=$ scalar. Because pseudovectors each have even parity, the resulting scalar is also of even parity (i.e. doesn't flip signs upon inversion). Therefore, $<\\vec{S}\\cdot \\hat{n}>$ can be a non-zero value (still can be, but doesn't have to be)."
   ]
  },
  {
   "cell_type": "code",
   "execution_count": null,
   "metadata": {},
   "outputs": [],
   "source": []
  }
 ],
 "metadata": {
  "kernelspec": {
   "display_name": "Python 3",
   "language": "python",
   "name": "python3"
  },
  "language_info": {
   "codemirror_mode": {
    "name": "ipython",
    "version": 3
   },
   "file_extension": ".py",
   "mimetype": "text/x-python",
   "name": "python",
   "nbconvert_exporter": "python",
   "pygments_lexer": "ipython3",
   "version": "3.7.1"
  }
 },
 "nbformat": 4,
 "nbformat_minor": 4
}
