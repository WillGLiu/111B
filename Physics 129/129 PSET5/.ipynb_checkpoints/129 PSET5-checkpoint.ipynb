{
 "cells": [
  {
   "cell_type": "markdown",
   "metadata": {},
   "source": [
    "# Problem Set 5 problems"
   ]
  },
  {
   "cell_type": "markdown",
   "metadata": {},
   "source": [
    "## Question 1: Clebsch Gordon Tables (15 Points)"
   ]
  },
  {
   "cell_type": "markdown",
   "metadata": {},
   "source": [
    "### Learning objectives\n",
    "In this question you will:\n",
    "- Review how to read Clebsch Gordon tables and use these tables to translate between the coupled and uncoupled bases in angular momentum or isospin"
   ]
  },
  {
   "cell_type": "markdown",
   "metadata": {},
   "source": [
    "While it is informative to calculate Clebsch-Gordon coefficients once to see how it is done, it is tediuous to have to do this for every case.  Tables of Clebsch Gordon coefficients have been calculated.  A good compilation can be found at\n",
    "\n",
    "https://pdg.lbl.gov/2020/reviews/rpp2020-rev-clebsch-gordan-coefs.pdf.\n",
    "\n",
    "The compilation contains a number of blocks, one for each combination of angular momenta to be added together. For example, adding the spin for a spin-3/2 particle to the spin of a spin-1/2 particle (labeled$ \\frac{3}{2} \\times \\frac{1}{2}$ in the tables) gives the following block:"
   ]
  },
  {
   "cell_type": "markdown",
   "metadata": {},
   "source": [
    "<img src=\"clebschExample.png\" alt=\"Drawing\" style=\"width: 600px;\"/>"
   ]
  },
  {
   "cell_type": "markdown",
   "metadata": {},
   "source": [
    "This block contains five sub-tables. The two left-most columns in each sub-table give the two values $m_1$ and $m_2$. The two top-most rows in each sub-table give the two values $s$ and $m$ . Note that the value of $m$ is the same for all columns in a given subtable and also note that $m_1 + m_2$ always equals this value of $m$ for each row. This is a reflection of the fact that the Clebsch-Gordan coefficients are all zero unless $m_1+m_2=m$ . The other entries give numbers which are related to the values of the coefficients. You need to put a square-root over each entry but if there is minus sign, then\n",
    "that sign goes outside the square root.  You can use this table to either decompose a state of given $m_1$ and $m_2$ into a sum of states of different $s$ (by reading a row) or to decompose a state of given $s$ amd $m$ into a sum of states of different $m_1$ amd $m_2$ (by reading a column).  Our notation is to write the coefficent as $C_{m1 m_2}^{J m_j}$.  In other words, the subscript give the $m_z$ components in the uncoupled basis and the numerator gives the total $J$ and $m_j$ in the coupled basis"
   ]
  },
  {
   "cell_type": "markdown",
   "metadata": {},
   "source": [
    "### 1a. "
   ]
  },
  {
   "cell_type": "markdown",
   "metadata": {},
   "source": [
    "Use the tables to find the coefficients:\n",
    "-  $ C_{\\frac{1}{2} -\\frac{1}{2}}^{10}$ when we start with two spin $\\frac{1}{2}$ particles\n",
    "\n",
    "-  $ C_{00}^{20}$ when we start with a particle with orbital angular momentum 2 and spin 1\n",
    "\n",
    "- $ C_{11}^{32}$ when we start with a particle with orbital angular momentum 2 and spin 1"
   ]
  },
  {
   "cell_type": "markdown",
   "metadata": {},
   "source": [
    "- $C_{\\frac{1}{2} -\\frac{1}{2}}^{10} = \\sqrt{1} = 1$\n",
    "- $C_{00}^{20} = \\sqrt{0} = 0$\n",
    "- $C_{11}^{32} = \\sqrt{\\frac{2}{3}}$"
   ]
  },
  {
   "cell_type": "markdown",
   "metadata": {},
   "source": [
    "### 1b. "
   ]
  },
  {
   "cell_type": "markdown",
   "metadata": {},
   "source": [
    "For the state $\\left |\\ell=\\frac{3}{2}, s=1, j=\\frac{3}{2}, m_j=\\frac{1}{2} \\right >$, what are the possible combinations of $m_\\ell$ and $m_s$ that can appear in the decomposition? Use the table of Clebsch-Gordan coefficients to expand this state in terms of the $\\left |\\ell s m_\\ell m_s \\right >$  basis states and show that this expansion is properly normalized."
   ]
  },
  {
   "cell_type": "markdown",
   "metadata": {},
   "source": [
    "Using the table, we can construct:\n",
    "$$\\left |\\ell=\\frac{3}{2}, s=1, j=\\frac{3}{2}, m_j=\\frac{1}{2} \\right > = \\sqrt{\\frac{2}{5}} \\left |\\ell=\\frac{3}{2}, s=1, m_{\\ell} = \\frac{3}{2}, m_s = -1 \\right > + \\sqrt{\\frac{1}{15}} \\left |\\frac{3}{2}, 1,\\frac{1}{2},0 \\right > - \\sqrt{\\frac{8}{15}} \\left |\\frac{3}{2}, 1, -\\frac{1}{2}, 1 \\right >$$"
   ]
  },
  {
   "cell_type": "markdown",
   "metadata": {},
   "source": [
    "Checking for normalization:\n",
    "$$\\left (\\sqrt{\\frac{2}{5}} \\right)^2 + \\left(\\sqrt{\\frac{1}{15}} \\right)^2 + \\left(-\\sqrt{\\frac{8}{15}} \\right)^2 = \\frac{2}{5} + \\frac{1}{15} + \\frac{8}{15} = \\frac{15}{15} = 1$$\n",
    "The expansion is normalized."
   ]
  },
  {
   "cell_type": "markdown",
   "metadata": {},
   "source": [
    "## Question 2: Isospin: $\\pi N$ scattering (20 Points)"
   ]
  },
  {
   "cell_type": "markdown",
   "metadata": {},
   "source": [
    "### Learning objectives\n",
    "In this question you will:\n",
    "- Review how conservation of isospin in the strong interactions can be used to related scattering rates for different processes related by isospin\n",
    "- Apply this concept to pion nucleon scattering"
   ]
  },
  {
   "cell_type": "markdown",
   "metadata": {},
   "source": [
    "Consider the scattering of a pion with a nucleon.  Since the pion has $I=1$ and the nucleon has $I=\\frac{1}{2}$, there are two possible values of total isospin for this scattering:  $I=\\frac{3}{2}$ and $I=\\frac{1}{2}$.  Isospin conservation in the strong interactions means that the matrix element $H_{if} = \\left < f \\right | H_{int} \\left  | i \\right >$ (where $i$ and $f$ are the initial and final states) depends only on $I$ and not on $I_z$.  \n",
    "\n",
    "There are six possible *elastic scattering* processes:\n",
    "\n",
    "\\begin{eqnarray*}\n",
    "\\pi^{+} p  & \\rightarrow & \\pi^{+} p \\\\\n",
    "\\pi^{0} p  & \\rightarrow & \\pi^{0} p \\\\\n",
    "\\pi^{-} p  & \\rightarrow & \\pi^{-} p \\\\\n",
    "\\pi^{+} n  & \\rightarrow & \\pi^{+} n \\\\\n",
    "\\pi^{0} n  & \\rightarrow & \\pi^{0} n \\\\\n",
    "\\pi^{-} n  & \\rightarrow & \\pi^{-} n \\\\\n",
    "\\end{eqnarray*}\n",
    "\n",
    "And four possible *charge exchange* processes:\n",
    "\n",
    "\\begin{eqnarray*}\n",
    "\\pi^{+} n & \\rightarrow & \\pi^{-} p \\\\\n",
    "\\pi^{0} p & \\rightarrow & \\pi^{+} n \\\\\n",
    "\\pi^{-} p & \\rightarrow & \\pi^{0} n \\\\\n",
    "\\pi^{0} n & \\rightarrow & \\pi^{-} p \\\\\n",
    "\\end{eqnarray*}\n",
    "\n",
    "\n",
    "Since all 10 of these processes have the same phase space terms, the relative rates for the processes can be calculated in terms of only two independent terms: $M_{\\frac{1}{2}} = \\left < I=\\frac{1}{2}\\right | H_{int} \\left | I= \\frac{1}{2}\\right >$ and $M_{\\frac{3}{2}} = \\left < I=\\frac{3}{2}\\right | H_{int} \\left | I= \\frac{3}{2}\\right >$"
   ]
  },
  {
   "cell_type": "markdown",
   "metadata": {},
   "source": [
    "### 2a."
   ]
  },
  {
   "cell_type": "markdown",
   "metadata": {},
   "source": [
    "For the state $\\pi^+ p$ we can describe the isospin of the state in the uncoupled and coupled bases:\n",
    "$$\n",
    "\\left |m_1=+1, m_2=\\frac{1}{2} \\right > = \\left |I=\\frac{3}{2}, m=\\frac{3}{2} \\right >\n",
    "$$\n",
    "\n",
    "For the other five possible $\\pi N$ charge combinations (corresponding to the left hand side of the elastic scattering interactions listed above), write the description of the isospin state using the same nomenclature.  You may look up the Clebsch-Gordon coefficients in a Clebsch-Gordon table."
   ]
  },
  {
   "cell_type": "markdown",
   "metadata": {},
   "source": [
    "Expressing each indepdenent basis in coupled basis ($I$'s):\n",
    "$$\\pi^+ n: \\left |m = 1, m = -1/2 \\right > = \\sqrt{\\frac{1}{3}}\\left |I = 3/2, m = 1/2 \\right > + \\sqrt{\\frac{2}{3}} \\left |I = 1/2, m = 1/2 \\right >$$\n",
    "$$\\pi^0 p:\\left |0, 1/2 \\right > = \\sqrt{\\frac{2}{3}} \\left |3/2, 1/2 \\right > - \\sqrt{\\frac{1}{3}} \\left |1/2, 1/2 \\right >$$\n",
    "$$\\pi^0 n:\\left |0, -1/2 \\right > = \\sqrt{\\frac{2}{3}} \\left |3/2, -1/2 \\right > + \\sqrt{\\frac{1}{3}} \\left |1/2, -1/2 \\right >$$\n",
    "$$\\pi^- p:\\left |-1, 1/2 \\right > = \\sqrt{\\frac{1}{3}} \\left |3/2, -1/2 \\right > - \\sqrt{\\frac{2}{3}} \\left |1/2, -1/2 \\right >$$\n",
    "$$\\pi^{-} n:\\left |-1, -1/2 \\right > = \\left |3/2, -3/2 \\right >$$"
   ]
  },
  {
   "cell_type": "markdown",
   "metadata": {},
   "source": [
    "### 2b."
   ]
  },
  {
   "cell_type": "markdown",
   "metadata": {},
   "source": [
    "Using the results from 2a. and the fact that the scatttering cross sections are proportional to $\\left |H_{if} \\right |^2$ calculate the ratios of the cross sections for the following processes:\n",
    "\n",
    "\\begin{eqnarray*}\n",
    "(a) & & \\frac{\\sigma(\\pi^{-} p\\rightarrow \\pi^{-} p)}{\\sigma(\\pi^{+} p\\rightarrow \\pi^{+} p)} \\\\\n",
    "(b) & & \\frac{\\sigma(\\pi^{-} p\\rightarrow \\pi^{0} n)}{\\sigma(\\pi^{-} p\\rightarrow \\pi^{-} p)}\\\\\n",
    "(c) & & \\frac{\\sigma(\\pi^{0} n\\rightarrow \\pi^{-} p)}{\\sigma(\\pi^{0} n\\rightarrow \\pi^{0} n)}\n",
    "\\end{eqnarray*}\n",
    "\n",
    "Express your answers in terms of $M_{\\frac{1}{2}}$ and $M_{\\frac{3}{2}}$"
   ]
  },
  {
   "cell_type": "markdown",
   "metadata": {},
   "source": [
    "Based on results from 2a, the above definitions of $M_{\\frac{1}{2}}$, $M_{\\frac{3}{2}}$, and that $\\left < I = 1/2| H | I =  3/2 \\right > = 0$ and $\\left < 3/2| H | 1/2 \\right > = 0$, <br/>\n",
    "i) \n",
    "$$| \\left < \\pi^- p|H_{int}|\\pi^- p \\right > |^2 = \\left | \\left (\\sqrt{\\frac{1}{3}} \\right)^2 M_{\\frac{3}{2}} + \\left (-\\sqrt{\\frac{2}{3}} \\right)^2 M_{\\frac{1}{2}} \\right|^2 = |\\frac{1}{3} M_{\\frac{3}{2}} + \\frac{2}{3} M_{\\frac{1}{2}}|^2$$ <br/>\n",
    "$$| \\left < \\pi^+ p|H_{int}|\\pi^+ p \\right > |^2 = |M_{\\frac{3}{2}}|^2$$ <br/>\n",
    "$$\\therefore \\frac{\\sigma(\\pi^{-} p\\rightarrow \\pi^{-} p)}{\\sigma(\\pi^{+} p\\rightarrow \\pi^{+} p)} = \\left |\\frac{ \\frac{1}{3} M_{\\frac{3}{2}} + \\frac{2}{3} M_{\\frac{1}{2}}}{M_{\\frac{3}{2}}} \\right |^2 = \\left |\\frac{1}{3} + \\frac{2}{3} \\frac{M_{\\frac{1}{2}}}{M_{\\frac{3}{2}}} \\right |^2$$ <br/>\n",
    "ii) Convention is that final state is the bra:\n",
    "$$|\\left < \\pi^0 n |H_{int}|  \\pi^- p\\right > |^2 = \\left|\\frac{\\sqrt{2}}{3} M_{\\frac{3}{2}} - \\frac{\\sqrt{2}}{3} M_{\\frac{1}{2}} \\right|^2$$ <br/>\n",
    "$$| \\left < \\pi^- p|H_{int}|\\pi^- p \\right > |^2 = |\\frac{1}{3} M_{\\frac{3}{2}} + \\frac{2}{3} M_{\\frac{1}{2}}|^2$$ <br/>\n",
    "$$\\therefore \\frac{\\sigma(\\pi^{-} p\\rightarrow \\pi^{0} n)}{\\sigma(\\pi^{-} p\\rightarrow \\pi^{-} p)} = \\left |\\frac{\\frac{\\sqrt{2}}{3} M_{\\frac{3}{2}} - \\frac{\\sqrt{2}}{3} M_{\\frac{1}{2}}}{\\frac{1}{3} M_{\\frac{3}{2}} + \\frac{2}{3} M_{\\frac{1}{2}}} \\right|^2$$ <br/>\n",
    "iii)\n",
    "$$ |\\left <  \\pi^- p |H_{int}| \\pi^0 n \\right > |^2 = |\\left < \\pi^0 n |H_{int}|  \\pi^- p\\right > |^2 = \\left|\\frac{\\sqrt{2}}{3} M_{\\frac{3}{2}} - \\frac{\\sqrt{2}}{3} M_{\\frac{1}{2}} \\right|^2$$ <br/>\n",
    "$$ |\\left < \\pi^0 n|H_{int}| \\pi^0 n \\right >|^2 = \\left | \\frac{2}{3} M_{\\frac{3}{2}} + \\frac{1}{3} M_{\\frac{1}{2}} \\right |^2$$ <br/>\n",
    "$$\\therefore \\frac{\\sigma(\\pi^{0} n\\rightarrow \\pi^{-} p)}{\\sigma(\\pi^{0} n\\rightarrow \\pi^{0} n)} = \\left | \\frac{\\frac{\\sqrt{2}}{3} M_{\\frac{3}{2}} - \\frac{\\sqrt{2}}{3} M_{\\frac{1}{2}}}{\\frac{2}{3} M_{\\frac{3}{2}} + \\frac{1}{3} M_{\\frac{1}{2}}} \\right |^2$$"
   ]
  },
  {
   "cell_type": "markdown",
   "metadata": {},
   "source": [
    "## Question 3: Isospin:  The $\\Delta$ resonance (Thomson 9.3) (15 points)"
   ]
  },
  {
   "cell_type": "markdown",
   "metadata": {},
   "source": [
    "### Learning objectives\n",
    "In this question you will:\n",
    "- Review the fact that isospin conservation in the strong interaction can also be used to relate decay rates\n",
    "- Apply this concept to the case od $\\Delta$ decays"
   ]
  },
  {
   "cell_type": "markdown",
   "metadata": {},
   "source": [
    "By considering the isospin states show that the rates for the following strong interaction decays occur in the ratios:\n",
    "$$\n",
    "\\begin{array}{cccc}\n",
    "\\Gamma(\\Delta^{-} \\rightarrow \\pi^{-} n) : &\n",
    "\\Gamma(\\Delta^{0} \\rightarrow \\pi^{-} p) : & \n",
    "\\Gamma(\\Delta^{0} \\rightarrow \\pi^{0} n) : & \n",
    "\\Gamma(\\Delta^{+} \\rightarrow \\pi^{+} n) : \\\\\n",
    " \\Gamma(\\Delta^{+} \\rightarrow \\pi^{0} p) : & \n",
    "\\Gamma(\\Delta^{++} \\rightarrow \\pi^{+} p)  & \n",
    "= &   3:1:2:1:2:3 &  \\\\\n",
    "\\end{array}\n",
    "$$\n",
    "\n",
    "Note:  Because the $\\Delta$ can be created in $\\pi^+ p$ scattering, we know that it has isospin $I=\\frac{3}{2}$"
   ]
  },
  {
   "cell_type": "markdown",
   "metadata": {},
   "source": [
    "Because we know $\\Delta$ has $I = 3/2$, we can just compute the norm square inner products of the initial and final states directly. Since we're comparing their ratios, the constant of proportionality is irrelevant.\n",
    "Thus:\n",
    "$$\\Gamma(\\Delta^- \\rightarrow \\pi^- n) \\propto \\left | \\left < I = 3/2, m = -3/2| I = 3/2, m = -3/2 \\right > \\right|^2 = 1$$ <br/>\n",
    "$$\\Gamma(\\Delta^0 \\rightarrow \\pi^- p) \\propto \\left | \\left < I = 3/2, m = -1/2| \\sqrt{\\frac{1}{3}}| I = 3/2, m = -1/2 \\right > \\right|^2 = 1/3$$ <br/>\n",
    "$$\\Gamma(\\Delta^0 \\rightarrow \\pi^0 n) \\propto \\left | \\left < I = 3/2, m = -1/2| \\sqrt{\\frac{2}{3}}| I = 3/2, m = -1/2 \\right > \\right|^2 = 2/3$$ <br/> \n",
    "$$\\Gamma(\\Delta^+ \\rightarrow \\pi^+ n) \\propto \\left | \\left < I = 3/2, m = 1/2| \\sqrt{\\frac{1}{3}}| I = 3/2, m = 1/2 \\right > \\right|^2 = 1/3$$ <br/>\n",
    "$$\\Gamma(\\Delta^+ \\rightarrow \\pi^0 p) \\propto \\left | \\left < I = 3/2, m = 1/2| \\sqrt{\\frac{2}{3}}| I = 3/2, m = 1/2 \\right > \\right|^2 = 2/3$$ <br/>\n",
    "$$\\Gamma(\\Delta^{++} \\rightarrow \\pi^+ p) \\propto \\left | \\left < I = 3/2, m = 3/2| I = 3/2, m = 3/2 \\right > \\right|^2 = 1$$ <br/>\n",
    "Thus, comparing their ratios in that exact order, we get\n",
    "$$3:1:2:1:2:3$$\n",
    "i.e. the same ratios were looking for."
   ]
  },
  {
   "cell_type": "markdown",
   "metadata": {},
   "source": [
    "## Question 4 SU(3) $\\lambda $ matrices (20 points)"
   ]
  },
  {
   "cell_type": "markdown",
   "metadata": {},
   "source": [
    "### Learning objectives\n",
    "In this question you will:\n",
    "- Review the definition of the $\\lambda$ matrices (the generators of SU(3) symmetry)\n",
    "- Show that the SU(3) group contains three SU(2) subgroups and construct the raising and lowering operators for these subgroups"
   ]
  },
  {
   "cell_type": "markdown",
   "metadata": {},
   "source": [
    "We learned in Quantum Mechanics that the smallest representation of angular momentum has dimension 2 (spin-$\\frac{1}{2}$) and that the generators of infinitesmal rotations in this fundamental representation can be written as the three $2\\times 2$ Pauli matrices $\\sigma_x$, $\\sigma_y$ and $\\sigma_z$ that satisfy the SU(2) commutation relations \n",
    "$$\\left [\\frac{1}{2}\\sigma_i, \\frac{1}{2}\\sigma_j \\right ] = i \\epsilon_{ijk} \\frac{1}{2} \\sigma_k$$\n",
    "\n",
    "Similarly, the fundamental representation of SU3) can be written as a set of eight $3\\times 3$ matrices called the $\\lambda$-martices:\n",
    "\n",
    "\\begin{eqnarray*}\n",
    "\\lambda_1 = \\left( \n",
    "\\begin{array}{ccc} 0 & 1 & 0 \\\\ 1 & 0 & 0 \\\\ 0 & 0 & 0 \\\\\n",
    "\\end{array} \\right)\n",
    "& \n",
    "\\lambda_2 = \\left( \n",
    "\\begin{array}{ccc} 0 & -i & 0 \\\\ i & 0 & 0 \\\\ 0 & 0 & 0 \\\\\n",
    "\\end{array} \\right)\n",
    "&\n",
    "\\lambda_3 = \\left( \n",
    "\\begin{array}{ccc} 1 & 0 & 0 \\\\ 0 & -1 & 0 \\\\ 0 & 0 & 0 \\\\\n",
    "\\end{array} \\right)\n",
    "\\\\\n",
    "\\lambda_4 = \\left( \n",
    "\\begin{array}{ccc} 0 & 0 & 1 \\\\ 0 & 0 & 0 \\\\ 1 & 0 & 0 \\\\ \n",
    "\\end{array} \\right)\n",
    "& \n",
    "\\lambda_5 = \\left( \n",
    "\\begin{array}{ccc} 0 & 0 & -i \\\\ 0 & 0 & 0 \\\\ i & 0 & 0 \\\\\n",
    "\\end{array} \\right)\n",
    "&\n",
    "\\lambda_6 = \\left( \n",
    "\\begin{array}{ccc} 0 & 0 & 0 \\\\ 0 & 0 & 1 \\\\ 0 & 1 & 0 \\\\\n",
    "\\end{array} \\right)\n",
    "\\\\\n",
    "\\lambda_7 = \\left( \n",
    "\\begin{array}{ccc} 0 & 0 & 0 \\\\ 0 & 0 & -i \\\\ 0 & i & 0 \\\\\n",
    "\\end{array} \\right)\n",
    "& &\n",
    "\\lambda_8 = \\frac{1}{\\sqrt{3}}\\left( \n",
    "\\begin{array}{ccc} 1 & 0 & 0 \\\\ 0 & 1 & 0 \\\\ 0 & 0 & -2 \\\\\n",
    "\\end{array} \\right)\n",
    " \\\\\n",
    "\\end{eqnarray*}"
   ]
  },
  {
   "cell_type": "markdown",
   "metadata": {},
   "source": [
    "### 4a."
   ]
  },
  {
   "cell_type": "markdown",
   "metadata": {},
   "source": [
    "Examining the first three $\\lambda$ shows that they are just the Pauli matrices with zeros added in the third row and column.  Thus, these three matrices form a subgroup of SU(2) within the SU(3) group and obey the commutation relations we know from angular momentum.  This is one of three SU(2) subgroups within the SU(2) group.  We call them:\n",
    "$$\n",
    "\\begin{array}{lccc}\n",
    "{\\rm Isospin} & \\lambda_1 & \\lambda_2 & \\lambda_3 \\\\\n",
    "{\\rm U-spin:} &  \\lambda_4 & \\lambda_5& \\frac{1}{2} \\left (\\sqrt{3}\\lambda_8+\\lambda_3\\right )\\\\\n",
    "{\\rm V-spin:} &  \\lambda_6 & \\lambda_7& \\frac{1}{2} \\left (\\sqrt{3}\\lambda_8 -\\lambda_3 \\right )\\\\\n",
    "\\end{array}\n",
    "$$\n",
    "Using explicity matrix multiplication.  Show that the generator of U-spin and V-spin satisfy the commutation relations that define the SU(2) algebra."
   ]
  },
  {
   "cell_type": "markdown",
   "metadata": {},
   "source": [
    "Done on paper."
   ]
  },
  {
   "cell_type": "markdown",
   "metadata": {},
   "source": [
    "### 4b."
   ]
  },
  {
   "cell_type": "markdown",
   "metadata": {},
   "source": [
    "The fundamental representation of SU(3) can be written as the three column matrices which in we call in the quark model:\n",
    "$$\n",
    "\\begin{array}{ccc}\n",
    "u \\equiv \\left (\n",
    "\\begin{array}{c} \n",
    "1\\\\ 0 \\\\ 0 \n",
    "\\end{array}\n",
    "\\right )\n",
    "&\n",
    "d \\equiv \\left (\n",
    "\\begin{array}{c} \n",
    "0\\\\ 1 \\\\ 0 \n",
    "\\end{array}\n",
    "\\right )\n",
    "& \n",
    "s \\equiv \\left (\n",
    "\\begin{array}{c} \n",
    "0\\\\ 0 \\\\ 1 \n",
    "\\end{array}\n",
    "\\right )\n",
    "\\\\\n",
    "\\end{array}\n",
    "$$\n",
    "Show that the raising (lowering) operators\n",
    "$$\n",
    "\\begin{array}{ccc}\n",
    "I_{\\pm} = \\frac{1}{2} \\left (\\lambda_1 \\pm i \\lambda_2 \\right ) &\n",
    "U_{\\pm} = \\frac{1}{2} \\left (\\lambda_4 \\pm i \\lambda_5 \\right )\n",
    "& \n",
    "V_{\\pm} = \\frac{1}{2} \\left (\\lambda_6 \\pm i \\lambda_7 \\right )\n",
    "\\end{array}\n",
    "$$\n",
    "turn $u$ into $d$ (and visa versa), $u$ into $s$ (and visa versa) and $d$ into $s$ (and visa veras)"
   ]
  },
  {
   "cell_type": "markdown",
   "metadata": {},
   "source": [
    "Done on paper."
   ]
  },
  {
   "cell_type": "markdown",
   "metadata": {},
   "source": [
    "## Question 5: Fitting a Signal in the Presence of Background (30 points)"
   ]
  },
  {
   "cell_type": "markdown",
   "metadata": {},
   "source": [
    "### Learning objectives\n",
    "In this question you will:\n",
    "\n",
    "- Gain experience in performing $\\chi^2$ fits to histogrammed data; explore how the statistical significance of a signal depends on the number of signal events and the signal-to-background ratio\n"
   ]
  },
  {
   "cell_type": "markdown",
   "metadata": {},
   "source": [
    "### 5a. "
   ]
  },
  {
   "cell_type": "markdown",
   "metadata": {
    "flags": [
     "problems",
     "solutions"
    ]
   },
   "source": [
    "Physicists often fit for signals in the presence of background.  In such cases, the significance of the fitted signal depends not only on the number of signal events but also on the amount of background and our ability to statistically separate the two.  In this problem, we will explore fitting signal and background for a very simple case:  The signal is a Gaussian peak centered at $x=10$ with a width $\\sigma=1$ and the background is uniformly distributed between $x=0$ and $x=20$.  The code below generates fake data, allowing you to change both the number of events in the signal and the ratio of signal-to-background.  To make sure that our definition of background does not depend on the fit range, the code below defines the signal-to-background ratio as the ratio number of signal events to the number of background events in a $\\pm 2 \\sigma$ window around the signal peak.  Here is the code you will use to generate the fake data:"
   ]
  },
  {
   "cell_type": "code",
   "execution_count": 131,
   "metadata": {
    "flags": [
     "problems",
     "solutions"
    ]
   },
   "outputs": [],
   "source": [
    "# Write import math\n",
    "import numpy as np\n",
    "import random\n",
    "import matplotlib.pyplot as plt\n",
    "from scipy.optimize import minimize\n",
    "\n",
    "def makeData( SignalToBackground, nSigEvents, seed=12345):\n",
    "    \"\"\"Generates a dataset consisting of nEvents some of which are signal (a Gaussian with a width of 1 centered\n",
    "    at x=5) and the rest of which is background\n",
    "    Definition of SignalToBackground:  The ratio of the number of signal events within 2 sigma of the peak to the number\n",
    "    of background events in that same x-range  (this definition is just a choice)\n",
    "    \n",
    "    Parameters\n",
    "    ==========\n",
    "     SignalToBackground : float\n",
    "     Ratio of the number of signal events within 2 sigma of the peak to the number\n",
    "    of background events in that same x-range  (this definition is just a choice) \n",
    "      \n",
    "    nSigEvents : int\n",
    "      total number of signal events generated (NOT the number in +- 2 sigma)\n",
    "      \n",
    "    seed : int\n",
    "      seed for the random number generator\n",
    "      \n",
    "    Returns\n",
    "    =======\n",
    "    data : array\n",
    "      the measurements of x\n",
    "    \"\"\"\n",
    "    fracOutsideTwoSigma = 4.55e-2\n",
    "    # 1-fracOutsideTwoSigma is the fraction of the Signal Events within +-2 sigma\n",
    "    # To get the total number of background events, find the number in +-2 sigma\n",
    "    # which is 4 units of x and then since the background is flat from 0 to 20\n",
    "    # multiply by 20/4=5\n",
    "    \n",
    "    nBackground = 5*nSigEvents*(1-fracOutsideTwoSigma)/SignalToBackground\n",
    "    nEvents = nSigEvents+nBackground\n",
    "    fSig = nSigEvents/nEvents\n",
    "    \n",
    "    # Make an array to hold the data (ie the x measurements)\n",
    "    data = []\n",
    "    \n",
    "    # set the random seed.  This will allow us to reproduce the results if we run again\n",
    "    np.random.seed(seed)\n",
    " \n",
    "    # Retrieve nEvents random numbers that will be used to pick which events are signal\n",
    "    # and which are background\n",
    "    n = int(nEvents)\n",
    "    tests = np.random.uniform(0,1,n)\n",
    "    bck = np.random.uniform(0,20,n)\n",
    "    sig = np.random.normal(10,1,n)\n",
    "    \n",
    "    count = 0\n",
    "    for test in tests:\n",
    "        if(test<fSig):\n",
    "            data.append(sig[count])\n",
    "        else:\n",
    "            data.append(bck[count])\n",
    "        count+=1\n",
    "    \n",
    "    # Loop over the events and pick either signal or background and draw from the appropriate \n",
    "    # pdf in each case\n",
    "    \n",
    "    # return the data to the user\n",
    "    return data, nSigEvents/np.sqrt(nEvents)\n",
    "    "
   ]
  },
  {
   "cell_type": "markdown",
   "metadata": {
    "flags": [
     "problems",
     "solutions"
    ]
   },
   "source": [
    "Below is a simple test to show you how to use this code.  Remember if you run this code multiple times you should change the seed each time (for example, you could increment the seed each time you call the function)"
   ]
  },
  {
   "cell_type": "code",
   "execution_count": 268,
   "metadata": {
    "flags": [
     "problems",
     "solutions"
    ]
   },
   "outputs": [
    {
     "name": "stdout",
     "output_type": "stream",
     "text": [
      "number of total data events:  115\n",
      "data:  [11.047401505881462, 11.57102936217666, 10.430661187946646, 0.05376129148641384, 19.7669083856564, 18.106831513232198, 4.15271722392649, 5.849788255848496, 10.40020306144967, 18.038227453213413, 19.672617698234465, 5.150841283081662, 11.287180858495633, 10.579689779144333, 7.887401079055496, 14.621460716891141, 3.221380288584297, 12.013971356671798, 17.317289166065294, 19.67043218407111, 1.5873158075603144, 8.566945494018984, 4.0908571909285545, 9.012729810374696, 10.95527145257708, 1.8665342073964153, 5.937215509613589, 18.55168480304295, 11.380074628603907, 9.148239950472238, 8.762646787312146, 14.837243036840746, 0.9715806568853758, 14.17394790885492, 16.784866956101673, 3.3187576841390776, 15.619958759999147, 5.730732334582038, 6.129395066591146, 13.30522930699366, 2.227843432154315, 9.800887617242747, 17.757135853524453, 13.926225364708127, 8.806557533308181, 8.764287687544494, 15.30192190478613, 11.312840024517657, 1.6980832638363519, 11.653421757228093, 8.53488377794505, 6.7413276689521995, 18.55153159150779, 15.014340006863359, 11.48127650299929, 15.032879775858367, 1.5829792147641042, 17.18778151361223, 16.43008226401116, 18.197433192204176, 2.5726239501876003, 1.6356017418797042, 2.7683114556317956, 7.9875742020560025, 8.486137221619838, 9.416463283292343, 2.444870992650101, 4.027990027627418, 16.232886965680432, 9.359751481134989, 11.218985862132426, 0.14852757089226065, 11.03185451964811, 18.638642961533563, 11.408369146076902, 4.121914548905483, 14.355151245591152, 9.330381400130241, 11.264625286968007, 0.5863944578754254, 12.718007187027123, 0.64395869875848, 14.89561310283532, 9.458260044769101, 2.4350871094610738, 10.85271851577012, 1.335488864500094, 9.317461845796695, 19.92172654735651, 15.387946741479245, 11.475482273176489, 2.052705184215917, 13.996681495458294, 13.223357346558622, 0.9819426124555264, 15.845986036891812, 8.076284270302875, 8.517353883998382, 15.76374347202931, 8.231384464176744, 9.620525510103072, 3.6325768534764924, 10.765054845997017, 9.17101116623899, 3.738074978534307, 8.345821218066883, 19.78069014790599, 4.731996234110387, 18.33664665877658, 18.36794935611266, 1.8259268440640364, 9.27305449771032, 11.175910771834607, 6.273379001042549, 0.9467907447547397]\n"
     ]
    }
   ],
   "source": [
    "mydata = []\n",
    "#  make 10 signal events with a signalToBackground of 1 using random seed 123\n",
    "mydata, fSig =makeData(1,20,123)\n",
    "print(\"number of total data events: \",len(mydata))\n",
    "print(\"data: \",mydata)"
   ]
  },
  {
   "cell_type": "markdown",
   "metadata": {
    "flags": [
     "problems",
     "solutions"
    ]
   },
   "source": [
    "Generate a sample of 1000 signal events with signalToBackground=0.5 and make a histogram of your results. Make sure that the number of bins in your histogram is small enough that you have at least 10 entries per bin (so that it is reasonable to do a binned fit to the histogram). To make life a bit easier, here is function you can use to make your histograms.  You are of course free to write your own function and not use this code."
   ]
  },
  {
   "cell_type": "code",
   "execution_count": 386,
   "metadata": {
    "flags": [
     "problems",
     "solutions"
    ]
   },
   "outputs": [],
   "source": [
    "#Import the pyplot module of matplotlib as \"plt\"\n",
    "import matplotlib.pyplot as plt\n",
    "\n",
    "\n",
    "#Makes a histogram filled with the random numbers we generate\n",
    "def plot_histogram(samples,xtitle,ytitle, title, nbins, limits):\n",
    "   \n",
    "    #Plot the histogram of the sampled data with nbins and a nice color\n",
    "    n, bins, patches =plt.hist(samples, bins=nbins, range=limits, color=(0,0.7,0.9))  #Set the color using (r,g,b) values or\n",
    "                                                                  #  use a built-in matplotlib color\"\"\" \n",
    "    bincenters = 0.5*(bins[1:]+bins[:-1])\n",
    "    errs = np.sqrt(n)\n",
    "\n",
    "    plt.errorbar(bincenters, n, yerr=errs, fmt='none')\n",
    "    #Add some axis labels and a descriptive title\n",
    "    plt.xlabel(xtitle)\n",
    "    plt.ylabel(ytitle)\n",
    "    plt.title(title)\n",
    "\n",
    "    #Get rid of the extra white space on the left/right edges (you can delete these two lines without a problem)\n",
    "    xmin, xmax, ymin, ymax = plt.axis()\n",
    "    plt.axis([limits[0],limits[1],ymin,ymax])\n",
    "\n",
    "    #Not necessarily needed in a Jupyter notebook, but it doesn't hurt\n",
    "    plt.show()\n",
    "    return n, bins, patches"
   ]
  },
  {
   "cell_type": "code",
   "execution_count": 387,
   "metadata": {
    "scrolled": true
   },
   "outputs": [
    {
     "data": {
      "image/png": "[encoded data removed]",
      "text/plain": [
       "<Figure size 432x288 with 1 Axes>"
      ]
     },
     "metadata": {
      "needs_background": "light"
     },
     "output_type": "display_data"
    }
   ],
   "source": [
    "# Using given function\n",
    "\n",
    "sig2back = 0.5\n",
    "nSigEvents = 1000\n",
    "nbins = 200\n",
    "data, Sig = makeData(sig2back, nSigEvents, seed = 124)\n",
    "lims = [np.min(data), np.max(data)]\n",
    "title = \"Counts vs Values for SignalToBackground = \" + str(sig2back)\n",
    "n, bins, patches = plot_histogram(data,'Values','Counts',title = title, nbins = nbins, limits = lims)\n"
   ]
  },
  {
   "cell_type": "code",
   "execution_count": 388,
   "metadata": {
    "scrolled": true
   },
   "outputs": [
    {
     "data": {
      "image/png": "[encoded data removed]",
      "text/plain": [
       "<Figure size 432x288 with 1 Axes>"
      ]
     },
     "metadata": {
      "needs_background": "light"
     },
     "output_type": "display_data"
    }
   ],
   "source": [
    "# My own method: gets the \"bincenters\" value, which is more helpful for fitting step later\n",
    "# not as streamlined labelling system though\n",
    "data, fSig = makeData(sig2back, nSigEvents, seed = 124)\n",
    "lims = [np.min(data), np.max(data)]\n",
    "\n",
    "counts, binEdges = np.histogram(data, nbins)\n",
    "bincenters = 0.5*(binEdges[1:] + binEdges[:-1])\n",
    "err = np.sqrt(counts)\n",
    "\n",
    "plt.figure()\n",
    "plt.title(\"Counts vs Values for SignalToBackground = \" + str(sig2back))\n",
    "plt.xlabel(\"Values\")\n",
    "plt.ylabel(\"Counts\")\n",
    "plt.xlim(lims)\n",
    "plt.hist(data, bins)\n",
    "plt.errorbar(bincenters, counts, yerr = err)\n",
    "plt.show()"
   ]
  },
  {
   "cell_type": "code",
   "execution_count": null,
   "metadata": {},
   "outputs": [],
   "source": []
  },
  {
   "cell_type": "markdown",
   "metadata": {},
   "source": [
    "### 5b. "
   ]
  },
  {
   "cell_type": "markdown",
   "metadata": {
    "flags": [
     "problems",
     "solutions"
    ]
   },
   "source": [
    "Pretend this is real data.  Your goal is to find the best estimate of how many events are in a Gaussian peak with unknown mean and sigma and what the uncertainty on this estimate is.  In your fit, you can make the assumption that the background is flat (a zeroth order polynomial) but that you don't have a prediction for the background rate.  Use your favorite minimization package to fit the data.  Deterimine the best estimate of the number of events in signal and the uncertainty on that estimate.  (remember, that you must let the position and width of the Gaussian and the size of the background vary in your fit).\n",
    "\n",
    "Hint: For examples of how to perform a least squared fit of a function to data see:\n",
    "- https://github.com/berkeley-physics/Python-Tutorials/blob/master/3%20-%20Specific%20topics/Fitting.ipynb\n",
    "- https://docs.scipy.org/doc/scipy/reference/generated/scipy.optimize.curve_fit.html"
   ]
  },
  {
   "cell_type": "code",
   "execution_count": 389,
   "metadata": {},
   "outputs": [],
   "source": [
    "from scipy.optimize import curve_fit"
   ]
  },
  {
   "cell_type": "code",
   "execution_count": 390,
   "metadata": {},
   "outputs": [],
   "source": [
    "# With the assumption that the background is flat, we can have the model as:\n",
    "\n",
    "def gaussian(x, norm, mu, sigma, Background):\n",
    "    other_factor = (1/(sigma*np.sqrt(2*np.pi)))\n",
    "    return other_factor* norm * np.exp( - (x - mu)**2 / (2 * sigma**2)) + Background"
   ]
  },
  {
   "cell_type": "code",
   "execution_count": 391,
   "metadata": {},
   "outputs": [
    {
     "data": {
      "text/plain": [
       "200"
      ]
     },
     "execution_count": 391,
     "metadata": {},
     "output_type": "execute_result"
    }
   ],
   "source": [
    "len(counts)"
   ]
  },
  {
   "cell_type": "code",
   "execution_count": 392,
   "metadata": {},
   "outputs": [
    {
     "data": {
      "image/png": "[encoded data removed]",
      "text/plain": [
       "<Figure size 432x288 with 1 Axes>"
      ]
     },
     "metadata": {
      "needs_background": "light"
     },
     "output_type": "display_data"
    }
   ],
   "source": [
    "# binned fit\n",
    "fittedparam, m = curve_fit(gaussian, bincenters, counts, p0 = [100, 10, 1, 50])\n",
    "paramserror = np.sqrt(np.diag(m))\n",
    "\n",
    "norm = np.abs(fittedparam[0])\n",
    "mu = fittedparam[1]\n",
    "sigma = np.abs(fittedparam[2])\n",
    "background = fittedparam[3]\n",
    "norm_err = paramserror[0]\n",
    "mu_err = paramserror[1]\n",
    "sigma_err = paramserror[2]\n",
    "background_err = paramserror[3]\n",
    "# tmu = fittedparam[0]\n",
    "# tsig = fittedparam[1]\n",
    "# tback = fittedparam[2]\n",
    "\n",
    "\n",
    "\n",
    "x = np.linspace(np.min(data), np.max(data), 1000)\n",
    "\n",
    "plt.figure()\n",
    "plt.title(\"Counts vs Values for SignalToBackground = \" + str(sig2back))\n",
    "plt.xlabel(\"Values\")\n",
    "plt.ylabel(\"Counts\")\n",
    "plt.xlim(lims)\n",
    "plt.hist(data, bins)\n",
    "plt.errorbar(bincenters, counts, yerr = err)\n",
    "plt.plot(x, gaussian(x, norm, mu, sigma, background), linewidth = 3, color='g', label = 'Fitted Gaussian')\n",
    "plt.legend()\n",
    "plt.show()"
   ]
  },
  {
   "cell_type": "code",
   "execution_count": 393,
   "metadata": {},
   "outputs": [
    {
     "name": "stdout",
     "output_type": "stream",
     "text": [
      "Parameters and their Errors\n",
      "Norm factor: 102.30553017956363 +/- 6.6972217684198485\n",
      "Mean: 9.884511444630999 +/- 0.06487598421862505\n",
      "Sigma: 1.0020958198911847 +/- 0.068690613531736\n",
      "Background:  47.609477851877344 +/- 0.6487957477155936\n"
     ]
    }
   ],
   "source": [
    "print(\"Parameters and their Errors\")\n",
    "print('Norm factor:', norm, \"+/-\", norm_err)\n",
    "print('Mean:', mu, \"+/-\", mu_err)\n",
    "print(\"Sigma:\", sigma, \"+/-\", sigma_err)\n",
    "print(\"Background: \", background, \"+/-\", background_err)"
   ]
  },
  {
   "cell_type": "code",
   "execution_count": 401,
   "metadata": {},
   "outputs": [
    {
     "name": "stdout",
     "output_type": "stream",
     "text": [
      "Estimated events in signal: 1023.1044296245309 +/- 6.729237893800919\n"
     ]
    }
   ],
   "source": [
    "# Best estimate for number of eventsin signal\n",
    "# total events - background*bins should readily filter out the noise\n",
    "Estimated_signal_events = np.sum(counts) - background*len(bincenters)\n",
    "#error propagation\n",
    "error = np.sqrt(mu_err**2 + sigma_err**2 + background_err**2 + norm_err**2)\n",
    "\n",
    "print('Estimated events in signal:', Estimated_signal_events, \"+/-\", error)"
   ]
  },
  {
   "cell_type": "markdown",
   "metadata": {},
   "source": [
    "### 5c. "
   ]
  },
  {
   "cell_type": "markdown",
   "metadata": {
    "flags": [
     "problems",
     "solutions"
    ]
   },
   "source": [
    "What is the $\\chi^2$ per degree of freedom for your fit?  What does this number tell you about how well your fit describes the data?"
   ]
  },
  {
   "cell_type": "markdown",
   "metadata": {},
   "source": [
    "Reduced $\\chi^2$ is defined as\n",
    "$$ \\chi^2_{red} = \\frac{1}{d} \\sum_i \\frac{(Obs_i - Exp_i)^2}{\\sigma_i^2}$$\n",
    "where d is the degree of freedom"
   ]
  },
  {
   "cell_type": "code",
   "execution_count": 376,
   "metadata": {
    "scrolled": true
   },
   "outputs": [
    {
     "data": {
      "text/plain": [
       "1.2161647847037593"
      ]
     },
     "execution_count": 376,
     "metadata": {},
     "output_type": "execute_result"
    }
   ],
   "source": [
    "fittedvals = gaussian(bincenters, norm, mu, sigma, background)\n",
    "err = np.sqrt(counts)\n",
    "chi2 = 0\n",
    "for i in range(len(fittedvals)):\n",
    "    chi2 += ((counts[i] - fittedvals[i])**2)/(err[i]**2)\n",
    "\n",
    "df = len(fittedvals) - len(fittedparam)\n",
    "reduced_chi2 = chi2/df\n",
    "print('Reduced Chi_2: ', reduced_chi2)"
   ]
  },
  {
   "cell_type": "markdown",
   "metadata": {},
   "source": [
    "A $\\chi_{red}^2$ of $\\approx 1$ indicates a good fit of the model to the data. Thus, because the above $\\chi_{red}^2$ is close to 1, it means the model is a good fit."
   ]
  },
  {
   "cell_type": "markdown",
   "metadata": {},
   "source": [
    "### 5d. "
   ]
  },
  {
   "cell_type": "markdown",
   "metadata": {
    "flags": [
     "problems",
     "solutions"
    ]
   },
   "source": [
    "If a signal of size $N_S^{meas}$ has a fitted uncertainty $\\sigma_S$, the signficance of the measurement is defined to be\n",
    "$$\n",
    "S^{meas} \\equiv \\frac{N_S^{meas}}{\\sigma_S}\n",
    "$$\n",
    "When the size of the data sample is large enough that Gaussian uncertainties are appropriate, a rule of thumb can be used to give a crude estimate of the expected significance $S^{expected}$ of the measurement. This predicted signficance depends on the number of signal events ($N_{S}$) and is the number of background events populating the region **beneath the signal** ($N_B$):\n",
    "$$\n",
    "S^{expected}  \\approx  \\frac{N_S}{N_S+N_B}\n",
    "$$\n",
    "\n",
    "Repeat the above exercise changing both the number of events in your signal and the signalToBackground ratio.  Plot the values of the measured significance  $S^{meas}$ \n",
    "obtained from your fits as a function of $\\frac{N_S}{\\sqrt{N_S+N_B}}$.  How do your results compare to the simple rule of thumb quoted above?"
   ]
  },
  {
   "cell_type": "code",
   "execution_count": 408,
   "metadata": {},
   "outputs": [],
   "source": [
    "seed = 12345\n",
    "S_exps = []\n",
    "S_meass = []\n",
    "for i in range(1,100):\n",
    "    sig2back = i/100\n",
    "    seed += 1\n",
    "    for j in range(2,4):\n",
    "        nSigEvents = 10**j\n",
    "        temp_data, S_exp = makeData(sig2back, nSigEvents, seed)\n",
    "        S_exps.append(S_exp)\n",
    "        nbins = int(len(temp_data)/5)\n",
    "        counts, binEdges = np.histogram(temp_data, nbins)\n",
    "        bincenters = 0.5*(binEdges[1:] + binEdges[:-1])\n",
    "        fittedparam, m = curve_fit(gaussian, bincenters, counts, p0 = [nSigEvents/10, 10, 1, nSigEvents/20])\n",
    "        perror = np.sqrt(np.diag(m))\n",
    "        total_err = np.sqrt(perror[0]**2 + perror[1]**2 + perror[2]**2 + perror[3]**2) \n",
    "        mu = fittedparam[1]\n",
    "        sigma = np.abs(fittedparam[2])\n",
    "        background = fittedparam[3]\n",
    "        N_meas = np.sum(counts) - background*len(bincenters)\n",
    "        S_meas = N_meas/total_err\n",
    "        S_meass.append(S_meas)\n",
    "\n"
   ]
  },
  {
   "cell_type": "code",
   "execution_count": 410,
   "metadata": {},
   "outputs": [
    {
     "data": {
      "image/png": "[encoded data removed]",
      "text/plain": [
       "<Figure size 432x288 with 1 Axes>"
      ]
     },
     "metadata": {
      "needs_background": "light"
     },
     "output_type": "display_data"
    }
   ],
   "source": [
    "plt.figure()\n",
    "plt.xlabel('S_exp')\n",
    "plt.ylabel(\"S_meas\")\n",
    "plt.title(\"Measured Significance vs. Expected Significance\")\n",
    "plt.scatter(S_exps, S_meass)\n",
    "plt.show()"
   ]
  },
  {
   "cell_type": "code",
   "execution_count": 411,
   "metadata": {},
   "outputs": [
    {
     "data": {
      "image/png": "[encoded data removed]",
      "text/plain": [
       "<Figure size 432x288 with 1 Axes>"
      ]
     },
     "metadata": {
      "needs_background": "light"
     },
     "output_type": "display_data"
    }
   ],
   "source": [
    "plt.figure()\n",
    "plt.xlabel('S_exp')\n",
    "plt.ylabel(\"S_meas\")\n",
    "plt.title(\"Measured Significance vs. Expected Significance\")\n",
    "plt.plot(S_exps, S_meass)\n",
    "plt.show()"
   ]
  },
  {
   "cell_type": "code",
   "execution_count": null,
   "metadata": {},
   "outputs": [],
   "source": []
  }
 ],
 "metadata": {
  "kernelspec": {
   "display_name": "Python 3",
   "language": "python",
   "name": "python3"
  },
  "language_info": {
   "codemirror_mode": {
    "name": "ipython",
    "version": 3
   },
   "file_extension": ".py",
   "mimetype": "text/x-python",
   "name": "python",
   "nbconvert_exporter": "python",
   "pygments_lexer": "ipython3",
   "version": "3.7.1"
  }
 },
 "nbformat": 4,
 "nbformat_minor": 4
}
