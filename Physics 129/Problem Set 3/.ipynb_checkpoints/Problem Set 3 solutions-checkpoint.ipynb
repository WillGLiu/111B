{
 "cells": [
  {
   "cell_type": "markdown",
   "metadata": {},
   "source": [
    "# Problem Set 3 solutions"
   ]
  },
  {
   "cell_type": "markdown",
   "metadata": {},
   "source": [
    "## Question 1: Relativistic Expressions for Accelerator Performance"
   ]
  },
  {
   "cell_type": "markdown",
   "metadata": {},
   "source": [
    "Learning objectives\n",
    "\n",
    "In this question you will:\n",
    "\n",
    "    Derive the expressions for the center-of-mass energy at colliders and in fixed target experiments\n",
    "    Show that when the masses of the beam and target can be neglected, the expressions reduce to a simple form\n"
   ]
  },
  {
   "cell_type": "markdown",
   "metadata": {},
   "source": [
    "In the pdf file for Lecture 4, page 6 defines the configuration of the beams for colliding beam and fixed target experiments and gives expressions for the center-of-mass energy  $\\sqrt{s}$in the limit where the mass of the beam particle(s) is small compared to its energy."
   ]
  },
  {
   "cell_type": "markdown",
   "metadata": {},
   "source": [
    "### 1a."
   ]
  },
  {
   "cell_type": "markdown",
   "metadata": {},
   "source": [
    "Explicitly derive the expressions for the center-of-mass energy for the collider and fixed target case NOT assuming that the masses of the colliding particles are small."
   ]
  },
  {
   "cell_type": "markdown",
   "metadata": {},
   "source": [
    "**Collider case:**\n",
    "\\begin{eqnarray*}\n",
    "s & = & \\left ( p_1 + p_2 \\right )^2 \\\\\n",
    "& = & \\left (E_1 + E_2 \\right)^2 - \\left ( \\vec p_1+ \\vec p_2 \\right )^2 \\\\\n",
    "& = & E_1^2 + 2 E_1 E_2 + E_2^2 - \\vec p_1^2 - 2 \\vec p_1 \\cdot \\vec p_2 - \\vec p_2^2 \\\\\n",
    "& = & E_1^2 - \\vec p_1^2 + E_2^2 -\\vec p_2^2 + 2 E_1 E_2 - 2 \\vec p_1 \\cdot \\vec p_2 \\\\\n",
    "& = & m_1^2 + m_2^2 + 2 E_1 E_2 - 2 \\vec p_1 \\cdot \\vec p_2\\\\\n",
    "& = & m_1^2 + m_2^2 + 2 E_1E_2 + 2 \\left | \\vec p_1\\right |\\;\\left |\\vec p_2 \\right | \\\\\n",
    "\\end{eqnarray*}\n",
    "where the final line uses the fact that the two collider beams are colliding head-on.  Note, we could write $|\\vec p| = \\sqrt{E^2-m^2}$ to remove the momentum from the equation.  Then, in the limit $m_1\\rightarrow 0 $ and $m_2\\rightarrow 0$ we get:\n",
    "$$\n",
    "s = 2E_1 E_2 + 2 E_1 E_2 = e E_1 E_2\n",
    "$$\n",
    "which is the expression quoted in class\n",
    "\n",
    "**Fixed Target case**\n",
    "The target is at rest so its four vector is (m_{target},0,0,0).  Therefore:\n",
    "\\begin{eqnarray*}\n",
    "s & = & \\left ( E_{beam}+m_{target} \\right )^2 - \\left (\\vec p_{beam} + 0 \\right )^2\\\\\n",
    "& = & E_{beam}^2 + 2 m_{target} E_{beam} + m_{target}^2 - \\vec p_{beam}^2 \\\\\n",
    "& = & m_{beam}^2 + 2 m_{target} E_{beam} \\\\\n",
    "\\end{eqnarray*}\n",
    "In the limit where $m_{beam} << E_{beam}$, this reduces to\n",
    "$$\n",
    "s = 2 m_{target} E_{beam}\n",
    "$$\n",
    "which is the expression quoted in class"
   ]
  },
  {
   "cell_type": "markdown",
   "metadata": {},
   "source": [
    "## Question 2: Cherenkov Imaging "
   ]
  },
  {
   "cell_type": "markdown",
   "metadata": {},
   "source": [
    "### Learning objectives\n",
    "In this question you will:\n",
    "\n",
    "- Review the expression that determines when Cherenkov light is emitted and how the angle of the Cherenkov cone is related to a particle's speed and the index of refraction of the medium\n",
    "- Apply the concepts of resolution and of confidence level to the case of a Cherenkov detector"
   ]
  },
  {
   "cell_type": "markdown",
   "metadata": {},
   "source": [
    "In BaBar, the DIRC detector identifies charged    particles (eg distinguishes $\\pi^\\pm$ from $K^\\pm$)  by reconstructing Cherenkov rings produced in a thin quartz bar. The index of refraction of quartz is n = 1.2. "
   ]
  },
  {
   "cell_type": "markdown",
   "metadata": {},
   "source": [
    "### 2a. "
   ]
  },
  {
   "cell_type": "markdown",
   "metadata": {},
   "source": [
    "What is the minimum momentum below which $K^+$  do not produce Cherenkov light?"
   ]
  },
  {
   "cell_type": "markdown",
   "metadata": {},
   "source": [
    "The expression for the angle of the Cherenkov radiation is\n",
    "$$\n",
    "\\cos \\theta = \\frac{1}{n\\beta}\n",
    "$$\n",
    "Since $\\cos \\theta \\le 1$, \n",
    "$$\n",
    "\\beta \\ge \\frac{1}{n}\n",
    "$$\n",
    "to give Cherenkov light.  Using the relativistic expression for $\\beta$ in natural units:\n",
    "\n",
    "\\begin{eqnarray*}\n",
    "\\beta & = & \\frac{p}{E} \\\\\n",
    "&  = & \\frac{p}{\\sqrt{p^2+m^2}} \\\\\n",
    "\\frac{p}{\\sqrt{p^2+m^2}}  & \\ge & \\frac{1}{n}\\\\\n",
    "\\end{eqnarray*}\n",
    "\n",
    "The smallest momentum is then we have the equal sign above\n",
    "\\begin{eqnarray*}\n",
    "\\frac{p}{\\sqrt{p^2+m^2}}  & = & \\frac{1}{n}\\\\\n",
    "p^2 & = & \\frac{1}{n^2} \\left (p^2+m^2 \\right )\\\\\n",
    "p^2 \\left (1-\\frac{1}{n^2} \\right ) & = & \\frac{m^2}{n^2} \\\\\n",
    "p^2 & = & \\frac{m^2}{n^2\\left (1-\\frac{1}{n^2} \\right ) } \\\\\n",
    "p & = & \\frac{m}{n\\sqrt{1-\\frac{1}{n^2} }}\n",
    "\\end{eqnarray*}\n",
    "The mass of the $K^\\pm$ is 0.493 GeV so the minimum $p$ for Cherenkov light is\n",
    "$$\n",
    "p = 0.493/\\left ( 1.2\\sqrt{1-1.2^2} \\right ) = 0.74 \\;\\;{\\rm GeV}\n",
    "$$"
   ]
  },
  {
   "cell_type": "markdown",
   "metadata": {},
   "source": [
    "### 2b"
   ]
  },
  {
   "cell_type": "markdown",
   "metadata": {},
   "source": [
    "A charged particle is observed to have a momentum of 2.5 GeV.  What are the predicted angles of the Cherenkov cone produced if the particle is a $\\pi^\\pm$ and if it is a $K^\\pm$?"
   ]
  },
  {
   "cell_type": "markdown",
   "metadata": {},
   "source": [
    "For the kaon:\n",
    "\\begin{eqnarray*}\n",
    "\\cos \\theta & = & \\frac{1}{n\\beta} \\\\\n",
    "& = & \\frac{E}{1.2 p} \\\\\n",
    "& = & \\frac{\\sqrt{p^2+m_K^2}}{1.2\\times p} \\\\\n",
    "\\cos \\theta & = & 0.849 \\\\\n",
    "\\theta & = & 0.556\n",
    "\\end{eqnarray*}\n",
    "\n",
    "For the pion with mass = $0.1396$ GeV. we find:\n",
    "\\begin{eqnarray*}\n",
    "\\cos \\theta & = & 0.8346 \\\\\n",
    "\\theta & = & 0.583\n",
    "\\end{eqnarray*}\n",
    "\n",
    "So the difference in angle is $0.583-0.556=0.0273$ radians, or 27.3 mradians"
   ]
  },
  {
   "cell_type": "markdown",
   "metadata": {},
   "source": [
    "### 2c"
   ]
  },
  {
   "cell_type": "markdown",
   "metadata": {},
   "source": [
    "The angular resolution for the Cherenkov cone of the DIRC detector is approximately $\\sigma(\\theta_c ) = 2.5$~mrad.  This means that the measured Cherenkov angle  distributed about the true value such that\n",
    "$$\n",
    "    \\theta_c^{meas} - \\theta_c^{true} \\;\\; = \\;\\;  \\frac{1}{\\sigma_c \\sqrt{2\\pi}} \\exp \\left [-\\frac{1}{2\\sigma^2} \\right ]\n",
    "$$\n",
    "\n",
    "As the charged particle momentum increases, the Cherenkov angles for $\\pi^\\pm$ and $K^\\pm$ of the same momentum converge towards the same value.  The largest momentum for which the two hypothesis can be distinguished depends on $\\sigma_c$. Scientists use the term confidence level to describe how well we can tell two hypothesis apart  A 90\\%\\ confidence level separation means that it we start with equal populations in the two possibilities, we will choose the wrong hypothesis 10\\%\\ of the time. See, for example, the PDG review of statistics Figure 40.4 and Table 40.1.  From that table, you learn that a 90\\%\\ confidence level separation corresponds to  $1.64 \\sigma$ for a two-sided cut. Here, however, we are doing something slightly different.  If we have two Gaussians where one is centered at $\\theta=0$ and the other is centered at $\\theta=n\\sigma$ then the natural way to assign particles by species is to say all the measurements with $\\theta>n\\sigma/2$ belong to the Gaussian centered at $\\theta=n\\sigma$ and the others belong to the Gaussian centered at $\\theta=0$.  The probability of getting the wrong assignment with this strategty is called a one-sided confidence limit.  In our case, we must ask that $10\\% $ of the events be in one tail (so\n",
    "$20\\% $ in both tails).  That corresponds to having the distance be 1.28$\\sigma$ from each peak, or 2.56 $\\sigma$\n",
    "between the peaks, as shown here:"
   ]
  },
  {
   "cell_type": "markdown",
   "metadata": {},
   "source": [
    "<img src=\"tofCL.png\" alt=\"Drawing\" style=\"width: 600px;\"/>"
   ]
  },
  {
   "cell_type": "markdown",
   "metadata": {},
   "source": [
    "Here, the hatched regions correspond to the cases where the species are misidentified.\n",
    "\n",
    "Using this definition of confidence level, what is the maximum momentum for which  $\\pi^+$ and $K^+$ can be separated at the 90\\%\\ confidence level in the BaBar DIRC?"
   ]
  },
  {
   "cell_type": "markdown",
   "metadata": {},
   "source": [
    "Since the resolution is 2.5 mrad and we want a 90\\%\\ confidence limit separation, we want $2.56 \\times 2.5 = 6.4 $ mrad separation.  The easiest way to find this momentum is graphically."
   ]
  },
  {
   "cell_type": "code",
   "execution_count": 4,
   "metadata": {},
   "outputs": [
    {
     "data": {
      "image/png": "[encoded data removed]",
      "text/plain": [
       "<Figure size 432x288 with 1 Axes>"
      ]
     },
     "metadata": {
      "needs_background": "light"
     },
     "output_type": "display_data"
    }
   ],
   "source": [
    "import matplotlib.pyplot as plt\n",
    "import math\n",
    "import numpy as np\n",
    "def numSig(p):\n",
    "    betaPi = p/math.sqrt(p*p+0.13957*0.13957)\n",
    "    betaK = p/math.sqrt(p*p+0.493677*0.493677)\n",
    "    cosThetaPi = 1.0/(1.2*betaPi)\n",
    "    cosThetaK = 1.0/(1.2*betaK)\n",
    "    ns = (math.acos(cosThetaPi)-math.acos(cosThetaK))/0.00256\n",
    "    return ns\n",
    "\n",
    "pin = np.arange(3.0, 6.0, 0.1)\n",
    "ns = []\n",
    "for x in pin:\n",
    "    ns.append(numSig(x))\n",
    "    \n",
    "plt.plot(pin,ns)\n",
    "plt.xlabel(\"Momentum (GeV)\")\n",
    "plt.ylabel(\"Number of Sigma\")\n",
    "plt.show()"
   ]
  },
  {
   "cell_type": "markdown",
   "metadata": {},
   "source": [
    "So, the $\\pi$ and $K$ can be separated at 90\\% confidence level up to about 5 GeV"
   ]
  },
  {
   "cell_type": "markdown",
   "metadata": {},
   "source": [
    "## Question 3: Luminosity of a Collider "
   ]
  },
  {
   "cell_type": "markdown",
   "metadata": {},
   "source": [
    "(Thomson problem 1.11)  At the LEP $e^+e^-$ collider, which had a circumference of 27~km, the electron and positron beam currents were each 1.0 mAmps.  Each beam consisted of four equally spaced bunches of electrons/positrons.  The bunches had an effective area of $1.8\\times 10^{4}\\;\\;\\mu$m^2.  Calculate the instantaneous luminosity on the assumption that the beams collided head-on."
   ]
  },
  {
   "cell_type": "markdown",
   "metadata": {},
   "source": [
    "The instantaneous luminosity at a collider is\n",
    "$$\n",
    "{\\cal l} = f \\frac{n_1n_2}{4\\pi \\sigma_x\\sigma_y}\n",
    "$$\n",
    "There is some ambiguity as to how these $\\sigma$'s relate to the area of the beam.  We'll assume here that $\\sigma_x$ and $\\sigma_y$ correspond to the semi-major and semi-minor axes of the beam so that the area of the beam is\n",
    "$$\n",
    "A_{beam} = \\pi \\sigma_x \\sigma_y\n",
    "$$\n",
    "However, we will give full credit for any reasonable assumption for how the area is related to the $\\sigma$'s.\n",
    "\n",
    "If the number of electrons/positrons in each bunch is $n_e$ and each bunch circulates the ring at a frequency of $f_b = c/(27 \\times 10^3 ) = 11.1 $ kHZ, the bunch current $I$ is given by\n",
    "$$\n",
    "I = f_b \\times n_e e\n",
    "$$\n",
    "A current of 1 mA therefore corresponds to $n_e = 5.6 \\times  10^{11}$ 10^3 \\; {\\rm kper bunch,\n",
    "$$n_1 = n_2 = 5.6 \\times 10^{11}$$ \n",
    "With four bunches per beam, the bunch-crossing frequency of\n",
    "$$\n",
    "f = 4 \\cdot c/27000 = 4\\;{\\rm fb} = 44.4\\;{\\rm  kHz}\n",
    "$$\n",
    "The instantaneous luminosity is\n",
    "$$\n",
    "{\\cal L } = 44.4 \\times 10^{3} \\; {\\rm kHz} \\frac{ \\left (5.6\\times 10^{11} \\right)^2}\n",
    "{4 \\times 1.8\\times 10^{4}\\;\\;\\mu{\\rm m}^2} = 6 \\times 10^{32} = 2.4 \\times 10^{31}\\; {\\rm cm}^{-2} {\\rm s}^{-1}\n",
    "$$\n",
    "Looking at https://pdg.lbl.gov/2020/reviews/rpp2020-rev-hep-collider-params.pdf  Table 32.2, you will see that this result is in good agreement with the actual luminosity of LEP when running at the energy of the $Z$ boson"
   ]
  },
  {
   "cell_type": "markdown",
   "metadata": {},
   "source": [
    "## Question 4: Central Limit Theorem"
   ]
  },
  {
   "cell_type": "markdown",
   "metadata": {},
   "source": [
    "### Learning objectives\n",
    "In this question you will:\n",
    "\n",
    "- See that you can use $\\sigma$ as a measure of resolution even for distributions that are not Gaussian\n",
    "- Learn how to write a simple Monte Carlo and use it to reproduce an analytical result\n"
   ]
  },
  {
   "cell_type": "markdown",
   "metadata": {
    "flags": [
     "problems",
     "solutions"
    ]
   },
   "source": [
    "The [*Central Limit Theorem*](https://en.wikipedia.org/wiki/Central_limit_theorem) tells us  that \n",
    "the distribution of the sum (or average) of a large number of independent, identically \n",
    "distributed measurements will be approximately normal, regardless of the underlying distribution\n",
    "(subject to the condition that mean and variance of the underlying distribution are not infinite).\n",
    "We'll see how this works for the simplest pdf ([probability density function](https://www.khanacademy.org/math/statistics-probability/random-variables-stats-library/random-variables-continuous/v/probability-density-functions)), a random variable $x$ uniformly distributed:"
   ]
  },
  {
   "cell_type": "markdown",
   "metadata": {
    "flags": [
     "problems",
     "solutions"
    ]
   },
   "source": [
    "$$f(x) = \\begin{cases} \\frac{1}{b-a} &\\mbox{if } a \\leq x \\leq b \\\\ \n",
    "0 & \\mbox{otherwise} \\end{cases} $$"
   ]
  },
  {
   "cell_type": "markdown",
   "metadata": {},
   "source": [
    "### 4a. "
   ]
  },
  {
   "cell_type": "markdown",
   "metadata": {
    "flags": [
     "problems",
     "solutions"
    ]
   },
   "source": [
    "Show that the mean $\\mu\\equiv \\int_{\\infty}^{\\infty} x f(x) dx$ is $\\frac{b+a}{2}$ and the variance $\\sigma^2\\equiv  \\int_{\\infty}^{\\infty} x^2 f(x) dx- \\mu^2$ is $\\frac{(b-a)^2}{12}$ for the above distribution."
   ]
  },
  {
   "cell_type": "markdown",
   "metadata": {},
   "source": [
    "#### <font color='red'>Solution:</font>"
   ]
  },
  {
   "cell_type": "markdown",
   "metadata": {
    "flags": [
     "solutions"
    ]
   },
   "source": [
    " For the mean:\n",
    "      \\begin{eqnarray*}\n",
    "        \\mu & \\equiv & \\int_{\\infty}^{\\infty} x f(x) dx \\\\\n",
    "        & = & \\int_{0}^{1} \\frac{x}{b-a} dx \\\\\n",
    "        & = & \\frac{1}{2} \\frac{x^2}{b-a} \\big|_a^b  \\\\\n",
    "        & = & \\frac{1}{2} \\left ( \\frac{b^2 - a^2}{b-a} \\right ) \\\\\n",
    "        & = & \\frac{a+b}{2}\n",
    "      \\end{eqnarray*}\n",
    "      For the variance:\n",
    "      \\begin{eqnarray*}\n",
    "        \\sigma^2 & \\equiv & \\int_{\\infty}^{\\infty} x^2 f(x) dx- \\mu^2\\\\\n",
    "        & = & \\int_{0}^{1} x^2 dx - \\frac{1}{4}\\left (\\frac{b^2-a^2}{b-a} \\right )^2 \\\\\n",
    "        & = & \\frac{1}{3} x^3 \\big|_a^b - \\frac{1}{4} \\left (a+b \\right )^2\\\\\n",
    "        & = & \\frac{1}{3} \\left ( \\frac{b^3 - a^3}{b-a} \\right ) - \\frac{1}{4} \\left ( a+b \\right )^2 \\\\\n",
    "        & = & \\frac{a^2}{3} + \\frac{ab}{3} + \\frac{b^2}{3} -\\frac{a^2}{4} + \\frac{ab}{2} +\n",
    "        \\frac{b^2}{4} \\\\\n",
    "        & = & \\frac{1}{12} \\left( a^2 -2ab + b^2 \\right ) \\\\\n",
    "        & = & \\frac{1}{12} \\left( a-b \\right ) ^2\n",
    "      \\end{eqnarray*}\n"
   ]
  },
  {
   "cell_type": "markdown",
   "metadata": {},
   "source": [
    "### 4b. "
   ]
  },
  {
   "cell_type": "markdown",
   "metadata": {
    "flags": [
     "problems",
     "solutions"
    ]
   },
   "source": [
    "Let $a=0$ and $b=1$. Using your favorite random number generator, generate 1000 random numbers from the uniform distribution, $f(x)$.  Calculate the mean and variance of the numbers you generate.  Hint: You can use the NumPy (Numerical Python) library to generate random numbers from the (0,1) uniform distribution:"
   ]
  },
  {
   "cell_type": "code",
   "execution_count": 99,
   "metadata": {
    "flags": [
     "problems",
     "solutions"
    ]
   },
   "outputs": [
    {
     "name": "stdout",
     "output_type": "stream",
     "text": [
      "[0.50530506 0.18439254 0.51488023 0.81991371 0.89529383 0.78487876\n",
      " 0.71686778 0.98827103 0.22221948 0.95705558]\n"
     ]
    }
   ],
   "source": [
    "#Import the NumPy library as \"np\"\n",
    "import numpy as np\n",
    "\n",
    "#Use NumPy to generate a list (it's actually a numpy.ndarray) of 1000 random numbers\n",
    "samples = np.random.rand(1000)\n",
    "\n",
    "#Print the first 10 random numbers\n",
    "print(samples[0:10])"
   ]
  },
  {
   "cell_type": "markdown",
   "metadata": {
    "flags": [
     "problems",
     "solutions"
    ]
   },
   "source": [
    "Write your own functions to find the mean and variance of a list of numbers:"
   ]
  },
  {
   "cell_type": "code",
   "execution_count": null,
   "metadata": {
    "flags": [
     "problems",
     "solutions"
    ]
   },
   "outputs": [],
   "source": [
    "def find_mean(num_list):\n",
    "    \n",
    "    \"\"\"Your code here to calculate mean\"\"\"\n",
    "    \n",
    "    return mean\n",
    "\n",
    "def find_variance(num_list):\n",
    "    \n",
    "    \"\"\"Your code here to calculate variance\"\"\"\n",
    "    \n",
    "    return variance"
   ]
  },
  {
   "cell_type": "markdown",
   "metadata": {},
   "source": [
    "#### <font color='red'>Solution:</font>"
   ]
  },
  {
   "cell_type": "code",
   "execution_count": 100,
   "metadata": {
    "flags": [
     "solutions"
    ]
   },
   "outputs": [],
   "source": [
    "def find_mean(num_list):\n",
    "    return sum(num_list)/len(num_list)\n",
    "\n",
    "def find_variance(num_list):\n",
    "    average = find_mean(num_list)\n",
    "    variance = sum((average - value) ** 2 for value in num_list) / len(num_list)\n",
    "    return variance"
   ]
  },
  {
   "cell_type": "markdown",
   "metadata": {
    "flags": [
     "solutions"
    ]
   },
   "source": [
    "Feel free to compare against NumPy's built-in functions:"
   ]
  },
  {
   "cell_type": "code",
   "execution_count": 101,
   "metadata": {
    "flags": [
     "solutions"
    ]
   },
   "outputs": [
    {
     "name": "stdout",
     "output_type": "stream",
     "text": [
      "np values of mean:  0.49860792871841114  and variance:  0.08437073153209712\n",
      "My values of mean:  0.4986079287184117  and variance:  0.08437073153209715\n"
     ]
    }
   ],
   "source": [
    "#NumPy's functions\n",
    "print(\"np values of mean: \",np.mean(samples),\" and variance: \",np.var(samples))\n",
    "\n",
    "#Your functions\n",
    "print(\"My values of mean: \",find_mean(samples),\" and variance: \",find_variance(samples))"
   ]
  },
  {
   "cell_type": "markdown",
   "metadata": {},
   "source": [
    "### 4c. "
   ]
  },
  {
   "cell_type": "markdown",
   "metadata": {
    "flags": [
     "problems",
     "solutions"
    ]
   },
   "source": [
    "Do these numerical results agree with the analytical results you found above?"
   ]
  },
  {
   "cell_type": "markdown",
   "metadata": {},
   "source": [
    "#### <font color='red'>Solution:</font>"
   ]
  },
  {
   "cell_type": "markdown",
   "metadata": {
    "flags": [
     "solutions"
    ]
   },
   "source": [
    "The predicted mean is 0.5 and the predicted variance is \\frac{1}{12}=0.833, in good agreement with our numeric results"
   ]
  },
  {
   "cell_type": "markdown",
   "metadata": {},
   "source": [
    "### 4d. "
   ]
  },
  {
   "cell_type": "markdown",
   "metadata": {
    "flags": [
     "problems",
     "solutions"
    ]
   },
   "source": [
    "Make a histogram  with 100 bins where the lower edge of the first bin is at $x=0$ and the upper\n",
    "edge of the last is at $x=1$.  Fill your histogram with the random numbers you generated above."
   ]
  },
  {
   "cell_type": "markdown",
   "metadata": {
    "flags": [
     "problems",
     "solutions"
    ]
   },
   "source": [
    "We'll use the **matplotlib.pyplot** module to make several histograms throughout the assignment, so we should go ahead and import it now.  Making a histogram from a list of numbers is as simple as calling [plt.hist()](https://matplotlib.org/api/_as_gen/matplotlib.pyplot.hist.html), with the list as the input parameter.  There are many optional parameters, like the number of bins and the color of the bars.\n",
    "\n",
    "Since our histograms will share similar formatting, it's also useful to define a function rather than typing the same thing over and over.  For this homework, we'll supply the histogramming routine.  In the future, you will write this code yourself."
   ]
  },
  {
   "cell_type": "code",
   "execution_count": 102,
   "metadata": {
    "flags": [
     "problems",
     "solutions"
    ]
   },
   "outputs": [],
   "source": [
    "#Import the pyplot module of matplotlib as \"plt\"\n",
    "import matplotlib.pyplot as plt\n",
    "\n",
    "\n",
    "#Makes a histogram filled with the random numbers we generate\n",
    "def plot_histogram(samples,xtitle,ytitle, title, limits):\n",
    "    \n",
    "    #It would be nice to have the mean and standard deviation in the title, so let's get these\n",
    "    mean, sigma = np.mean(samples), np.sqrt(np.var(samples))\n",
    "    #Plot the histogram of the sampled data with 100 bins and a nice color\n",
    "    plt.hist(samples, bins=100, range=limits, color=(0,0.7,0.9))  #Set the color using (r,g,b) values or\n",
    "                                                                  #  use a built-in matplotlib color\"\"\" \n",
    "\n",
    "    #Add some axis labels and a descriptive title\n",
    "    plt.xlabel(xtitle)\n",
    "    plt.ylabel(ytitle)\n",
    "    plt.title(title+'\\n $\\mu={0:.3f},\\ \\sigma={1:.3f}$'.format(mean,sigma) )\n",
    "\n",
    "    #Get rid of the extra white space on the left/right edges (you can delete these two lines without a problem)\n",
    "    xmin, xmax, ymin, ymax = plt.axis()\n",
    "    plt.axis([limits[0],limits[1],ymin,ymax])\n",
    "\n",
    "    #Not necessarily needed in a Jupyter notebook, but it doesn't hurt\n",
    "    plt.show()"
   ]
  },
  {
   "cell_type": "markdown",
   "metadata": {
    "flags": [
     "problems",
     "solutions"
    ]
   },
   "source": [
    "Take some time to play with the plot formatting and choose a [color](https://matplotlib.org/2.0.2/api/colors_api.html) you like for the bars.  Then call the function with your random samples."
   ]
  },
  {
   "cell_type": "markdown",
   "metadata": {},
   "source": [
    "#### <font color='red'>Solution:</font>"
   ]
  },
  {
   "cell_type": "code",
   "execution_count": 103,
   "metadata": {
    "flags": [
     "solutions"
    ]
   },
   "outputs": [
    {
     "data": {
      "image/png": "[encoded data removed]",
      "text/plain": [
       "<Figure size 432x288 with 1 Axes>"
      ]
     },
     "metadata": {
      "needs_background": "light"
     },
     "output_type": "display_data"
    }
   ],
   "source": [
    "plot_histogram(samples,\"x value\",\"Number of Entries\",\"Randomly Distributed Numbers 0:1\",[0.0,1.0])"
   ]
  },
  {
   "cell_type": "markdown",
   "metadata": {},
   "source": [
    "### 4e. "
   ]
  },
  {
   "cell_type": "markdown",
   "metadata": {
    "flags": [
     "problems",
     "solutions"
    ]
   },
   "source": [
    "Now suppose you make an ensemble of 1000 pseudoexperiments where each pseduoexperiment consists of $N$ uniformly distributed random numbers.  For each pseudoexperiment, define the measurement $S$ to be\n",
    "\n",
    "$$\n",
    "S \\equiv \\frac{1}{N} \\sum_1^N x_i\n",
    "$$\n",
    "\n",
    "Make histograms of $S$ with the same $x-$axis as above for the cases $N=2$, $N=5$\n",
    "and $N=10$.  Determine the mean and the $\\sigma$ of the distributions displayed in\n",
    "these histograms.  "
   ]
  },
  {
   "cell_type": "code",
   "execution_count": 42,
   "metadata": {
    "flags": [
     "problems",
     "solutions"
    ]
   },
   "outputs": [],
   "source": [
    "#Calculates and returns S as defined above\n",
    "def pseudoexperiment(N):\n",
    "    samples = np.random.rand(N)  #samples = [x_1, x_2, ... x_N]\n",
    "    s = 0  #replace this with your calculation of s\n",
    "    \n",
    "    \"\"\"Your code here\"\"\"\n",
    "    \n",
    "    return s\n",
    "\n",
    "#Performs each pseudoexperiment 1000 times and plot a histogram of the results\n",
    "def run_pseudoexperiments(N):\n",
    "    s_list = []\n",
    "    #run the ensemble of 1000 pseudoexperiments and store measurements\n",
    "    for i in range(1000):\n",
    "        s_list.append(pseudoexperiment(N))\n",
    "    #plot a histogram of these 1000 mesa\n",
    "    plot_histogram(s_list,\"Mean Value of x\",\"Number of Entries\",\"1000 PseudoExperiments, each with \"+str(N)+\" Randomly Distributed x values\",[0.0,1.0])"
   ]
  },
  {
   "cell_type": "code",
   "execution_count": 43,
   "metadata": {
    "flags": [
     "problems",
     "solutions"
    ]
   },
   "outputs": [],
   "source": [
    "# Uncomment this and run it after you have completed the code above\n",
    "#for N in [2,5,10]:\n",
    "#    run_pseudoexperiments(N)"
   ]
  },
  {
   "cell_type": "markdown",
   "metadata": {
    "flags": [
     "problems",
     "solutions"
    ]
   },
   "source": [
    "In each case, compare the $\\sigma$ you obtain to what you would predict if you assumed the experiments followed a normal distribution."
   ]
  },
  {
   "cell_type": "markdown",
   "metadata": {},
   "source": [
    "#### <font color='red'>Solution:</font>"
   ]
  },
  {
   "cell_type": "code",
   "execution_count": 104,
   "metadata": {
    "flags": [
     "solutions"
    ]
   },
   "outputs": [
    {
     "data": {
      "image/png": "[encoded data removed]",
      "text/plain": [
       "<Figure size 432x288 with 1 Axes>"
      ]
     },
     "metadata": {
      "needs_background": "light"
     },
     "output_type": "display_data"
    },
    {
     "data": {
      "image/png": "[encoded data removed]",
      "text/plain": [
       "<Figure size 432x288 with 1 Axes>"
      ]
     },
     "metadata": {
      "needs_background": "light"
     },
     "output_type": "display_data"
    },
    {
     "data": {
      "image/png": "[encoded data removed]",
      "text/plain": [
       "<Figure size 432x288 with 1 Axes>"
      ]
     },
     "metadata": {
      "needs_background": "light"
     },
     "output_type": "display_data"
    }
   ],
   "source": [
    "#Calculates and returns S as defined above\n",
    "def pseudoexperiment(N):\n",
    "    samples = np.random.rand(N)  #samples = [x_1, x_2, ... x_N]\n",
    "    s = sum(samples)/len(samples)\n",
    "    return s\n",
    "\n",
    "for N in [2,5,10]:\n",
    "    run_pseudoexperiments(N)"
   ]
  },
  {
   "cell_type": "markdown",
   "metadata": {},
   "source": [
    "---"
   ]
  },
  {
   "cell_type": "markdown",
   "metadata": {},
   "source": [
    "## Question 5: Detector Resolution and Monte Carlo methods"
   ]
  },
  {
   "cell_type": "markdown",
   "metadata": {},
   "source": [
    "### Learning objectives\n",
    "In this question you will:\n",
    "\n",
    "- Understand what position resolution means using a silicon strip detector as an example\n",
    "- Demonstrate that you can use simulation to solve problems that are more complicated than what can be done analytically\n",
    "- Learn how noise affects measurements\n"
   ]
  },
  {
   "cell_type": "markdown",
   "metadata": {
    "flags": [
     "problems",
     "solutions"
    ]
   },
   "source": [
    "In this problem we will study how the position resolution of a detector depends upon the properties of that detector. For our example, we will consider a silicon strip detector. We will describe our detector as an $x$-$y$ plane segmented into strips, each of width $\\ell$ in the $y$-direction. When a track moving in the $z$-direction passes through the plane, it deposits energy in the detector and that energy is collected using charge sensitive ampliﬁers (one per strip). You many assume that the incident track is normal to the silicon plane. Looking down on the strip detector (so that the incident tracks are traveling into the page), the detector looks like this:"
   ]
  },
  {
   "cell_type": "markdown",
   "metadata": {
    "flags": [
     "problems",
     "solutions"
    ]
   },
   "source": [
    "<img src=\"strips.png\" alt=\"Drawing\" style=\"width: 600px;\"/>"
   ]
  },
  {
   "cell_type": "markdown",
   "metadata": {
    "flags": [
     "problems",
     "solutions"
    ]
   },
   "source": [
    "The position $x=0$, $y=0$ is taken to be the center of the middle strip."
   ]
  },
  {
   "cell_type": "markdown",
   "metadata": {},
   "source": [
    "### 5a. "
   ]
  },
  {
   "cell_type": "markdown",
   "metadata": {
    "flags": [
     "problems",
     "solutions"
    ]
   },
   "source": [
    "Suppose all the energy is deposited in a single strip (the strip the\n",
    "track passes through).  Find an expression for the position resolution\n",
    "of the detector as a function of $\\ell$. The position resolution is defined\n",
    "to be $\\sigma_x = \\sqrt{var[(x_{meas}-x_{true})]}$ where $x_{true}$ is the \n",
    "position where the track actually hit the detector.  Because we only\n",
    "know which strip is hit, in this example \n",
    "$x_{meas}$ is the center of the strip that is hit."
   ]
  },
  {
   "cell_type": "markdown",
   "metadata": {},
   "source": [
    "#### <font color='red'>Solution:</font>"
   ]
  },
  {
   "cell_type": "markdown",
   "metadata": {
    "flags": [
     "solutions"
    ]
   },
   "source": [
    "This is essentially the same as the Central Limit Theorem problem.  The expression for the variance is\n",
    "\n",
    "$$                                                                                \n",
    "\\sigma^2 = \\int (x-x_{meas})^2 f(x) dx                                                           \n",
    "$$\n",
    "\n",
    "where $f(x)$ is the probability distribution function for $x$.  If we let $x_{true}=x$ range from $-\\ell/2$ to  $\\ell/2$ then $x_{meas}$ always is 0 and $f(x) = 1/\\ell$.  Thus\n",
    "\n",
    "$$             \n",
    "\\sigma^2 = \\int_{-\\ell/2}^{\\ell/2} x^2 (1/\\ell) dx = \\frac{\\ell^2}{12}                   \n",
    "$$\n",
    "\n",
    "Thus $\\sigma = \\ell/\\sqrt{12}$."
   ]
  },
  {
   "cell_type": "markdown",
   "metadata": {},
   "source": [
    "### 5b. "
   ]
  },
  {
   "cell_type": "markdown",
   "metadata": {
    "flags": [
     "problems",
     "solutions"
    ]
   },
   "source": [
    "Suppose that \n",
    "the charge deposited in our detector spreads out due\n",
    "to physical effects such as diffusion. It is possible for more than\n",
    "one strip to register a signal.  Assume in this part that our electronics\n",
    "is binary (i.e. registers a 1 if the deposited energy on the\n",
    "strip is above a specified threshold\n",
    "and 0 otherwise). Assume the threshold on the electronics is\n",
    "such that particles hitting within\n",
    "a  distance of $\\pm \\ell/3 $ of the center of the strip only register on\n",
    "a single strip while all particles hitting further from the strip\n",
    "center register on two strips.\n",
    "\n",
    "What is the position resolution now? (Here, if\n",
    "only one strip is hit, $x_{meas}$ is the center of the strip.  If\n",
    "two strips are hit, then $x_{meas}$ is the common edge of the two\n",
    "hit strips).  **Note:** this is *not* an unrealistic example.  The ATLAS silicon\n",
    "strip detector has such binary readout."
   ]
  },
  {
   "cell_type": "markdown",
   "metadata": {},
   "source": [
    "#### <font color='red'>Solution:</font>"
   ]
  },
  {
   "cell_type": "markdown",
   "metadata": {
    "flags": [
     "solutions"
    ]
   },
   "source": [
    "The only difference from part (a) is that $x_{meas}=0$ for the inner two thirds of the strip and $x_{meas}= \\ell/2$ for the left sixth and $-\\ell/2$ for the right sixth.  So\n",
    "$$\n",
    "\\sigma^2 =\n",
    "\\int_{-\\ell/2}^{-\\ell/3} (x-(-\\ell/2))^2 (1/\\ell) dx +\n",
    "\\int_{-\\ell/3}^{ \\ell/3} x^2 (1/\\ell) dx +\n",
    "\\int_{ \\ell/3}^{ \\ell/2} (x-\\ell/2)^2 (1/\\ell) dx = \\frac{\\ell^2}{36}\n",
    "$$\n",
    "Thus $\\sigma = \\ell/6$        "
   ]
  },
  {
   "cell_type": "markdown",
   "metadata": {},
   "source": [
    "### 5c. "
   ]
  },
  {
   "cell_type": "markdown",
   "metadata": {
    "flags": [
     "problems",
     "solutions"
    ]
   },
   "source": [
    "So far, it has been possible to calculate the position resolution analytically. In cases where the detector response is more complicated, this may not be the case. Typically, physicists model detector performance using Monte Carlo simulations. In the remainder of this problem, you will write a simple simulation to determine the position resolution of a silicon detector.\n"
   ]
  },
  {
   "cell_type": "markdown",
   "metadata": {
    "flags": [
     "problems",
     "solutions"
    ]
   },
   "source": [
    "Let's begin by reproducing the analytic results obtained above.\n",
    "Consider a silicon strip detector that consisting of several strips of width $\\ell$.  \n",
    "Assume that the incident particles have a uniform distribution\n",
    "in $x$ with $-\\ell/2 < x < \\ell/2$ and all have $y=0$. (We'll just focus on this \"center strip\", so $x_{meas}$ can either be $-\\ell/2$, $0$, or $\\ell/2$ depending on where the particle hits.)\n",
    "Generate 10,000 such particles for\n",
    "the case described in part **2(a)** and for the case described\n",
    "in part **2(b)**.\n",
    "For each case, make a histogram of ($x_{meas}-x_{true}$) and \n",
    "verify that\n",
    "the resolution \n",
    "is consistent with that  obtained in problem **2**. \n",
    "\n",
    "You can use np.random.uniform() to sample from a uniform distribution with arbitrary bounds. We'd like 10,000 samples for this problem, so we set size = 10000. Note that we take $\\ell = 1$ for simplicity.\n"
   ]
  },
  {
   "cell_type": "code",
   "execution_count": 2,
   "metadata": {
    "flags": [
     "problems",
     "solutions"
    ]
   },
   "outputs": [],
   "source": [
    "import numpy as np\n",
    "samples = np.random.uniform(-0.5, 0.5, size=10000)"
   ]
  },
  {
   "cell_type": "markdown",
   "metadata": {
    "flags": [
     "problems",
     "solutions"
    ]
   },
   "source": [
    "For the case of **2(a)**, $x_{meas}=0$ (the center of the strip), so we can simply find the variance of these samples and take the square root to find the position resolution.  Note that this is really just a repetition of the first problem, but with our bounds shifted from (0,1) to (-0.5,0.5)."
   ]
  },
  {
   "cell_type": "markdown",
   "metadata": {},
   "source": [
    "#### <font color='red'>Solution:</font>"
   ]
  },
  {
   "cell_type": "code",
   "execution_count": 8,
   "metadata": {
    "flags": [
     "solutions"
    ]
   },
   "outputs": [],
   "source": [
    "#Import the pyplot module of matplotlib as \"plt\"\n",
    "import matplotlib.pyplot as plt\n",
    "\n",
    "\n",
    "#Makes a histogram filled with the random numbers we generate\n",
    "def plot_histogram(samples,xtitle,ytitle, title, limits):\n",
    "    \n",
    "    #It would be nice to have the mean and standard deviation in the title, so let's get these\n",
    "    mean, sigma = np.mean(samples), np.sqrt(np.var(samples))\n",
    "    #Plot the histogram of the sampled data with 100 bins and a nice color\n",
    "    plt.hist(samples, bins=100, range=limits, color=(0,0.7,0.9))  #Set the color using (r,g,b) values or\n",
    "                                                                  #  use a built-in matplotlib color\"\"\" \n",
    "\n",
    "    #Add some axis labels and a descriptive title\n",
    "    plt.xlabel(xtitle)\n",
    "    plt.ylabel(ytitle)\n",
    "    plt.title(title+'\\n $\\mu={0:.3f},\\ \\sigma={1:.3f}$'.format(mean,sigma) )\n",
    "\n",
    "    #Get rid of the extra white space on the left/right edges (you can delete these two lines without a problem)\n",
    "    xmin, xmax, ymin, ymax = plt.axis()\n",
    "    plt.axis([limits[0],limits[1],ymin,ymax])\n",
    "\n",
    "    #Not necessarily needed in a Jupyter notebook, but it doesn't hurt\n",
    "    plt.show()"
   ]
  },
  {
   "cell_type": "code",
   "execution_count": 4,
   "metadata": {
    "flags": [
     "solutions"
    ]
   },
   "outputs": [
    {
     "data": {
      "image/png": "[encoded data removed]",
      "text/plain": [
       "<Figure size 432x288 with 1 Axes>"
      ]
     },
     "metadata": {
      "needs_background": "light"
     },
     "output_type": "display_data"
    }
   ],
   "source": [
    "plot_histogram(samples,\"x value\",\"Number of Entries\",\"True minus Measured Position\",[-0.5,0.5])"
   ]
  },
  {
   "cell_type": "markdown",
   "metadata": {},
   "source": [
    "### 5d. "
   ]
  },
  {
   "cell_type": "markdown",
   "metadata": {
    "flags": [
     "problems",
     "solutions"
    ]
   },
   "source": [
    "For the case where two strips are sometimes hit, we need to consider the three different cases for $x_{meas}$."
   ]
  },
  {
   "cell_type": "code",
   "execution_count": 11,
   "metadata": {
    "flags": [
     "problems",
     "solutions"
    ]
   },
   "outputs": [],
   "source": [
    "#We'll call the quantity (x_meas - x_true) the \"error\" of the measurement\n",
    "errors = []\n",
    "\n",
    "#Go through each of our random samples and append (x_meas - x_true) to the error list\n",
    "for x_true in samples:\n",
    "    #particle hits the left third of strip\n",
    "    if x_true < -1/3:\n",
    "       x_meas =  # \"\"\"Your code here\"\"\"\n",
    "    #particle hits the right third of strip\n",
    "    elif x_true > 1/3:\n",
    "       x_meas = #\"\"\"Your code here\"\"\"\n",
    "    else:\n",
    "       x_meas = #\"\"\"Your code here\"\"\"\n",
    "        \n",
    "    errors.append(x_meas - x_true)\n",
    "\n",
    "plot_histogram(errors,\"x value\",\"Number of Entries\",\"Measured-True Position\",[-0.5,0.5])"
   ]
  },
  {
   "cell_type": "markdown",
   "metadata": {},
   "source": [
    "#### <font color='red'>Solution:</font>"
   ]
  },
  {
   "cell_type": "code",
   "execution_count": 107,
   "metadata": {
    "flags": [
     "solutions"
    ]
   },
   "outputs": [
    {
     "data": {
      "image/png": "[encoded data removed]",
      "text/plain": [
       "<Figure size 432x288 with 1 Axes>"
      ]
     },
     "metadata": {
      "needs_background": "light"
     },
     "output_type": "display_data"
    }
   ],
   "source": [
    "#We'll call the quantity (x_meas - x_true) the \"error\" of the measurement\n",
    "errors = []\n",
    "\n",
    "#Go through each of our random samples and append (x_meas - x_true) to the error list\n",
    "for x_true in samples:\n",
    "    #particle hits the left third of strip\n",
    "    if x_true < -1/3:\n",
    "        x_meas = -0.5\n",
    "    #particle hits the right third of strip\n",
    "    elif x_true > 1/3:\n",
    "        x_meas = 0.5\n",
    "    else:\n",
    "        x_meas = 0.0\n",
    "        \n",
    "    errors.append(x_meas - x_true)\n",
    "\n",
    "plot_histogram(errors,\"x value\",\"Number of Entries\",\"Randomly Distributed Numbers 0:1\",[-0.5,0.5])"
   ]
  },
  {
   "cell_type": "markdown",
   "metadata": {
    "flags": [
     "solutions"
    ]
   },
   "source": [
    "Note that this distribution has a rather funny shape, but the variance of 0.166 is much less than in the previous case (0.289). The diffusion helps us estimate the position."
   ]
  },
  {
   "cell_type": "code",
   "execution_count": null,
   "metadata": {
    "flags": [
     "solutions"
    ]
   },
   "outputs": [],
   "source": [
    "question answer=code"
   ]
  },
  {
   "cell_type": "markdown",
   "metadata": {
    "flags": [
     "solutions"
    ]
   },
   "source": [
    "Now, let us replace our binary electronics from part 2(b) with analog electronics (so that the magnitude of the charge deposited on the strip is recorded).  We will model the transverse spreading of the charge from our incident\n",
    "track using a Gaussian distribution with width $\\sigma_M$: \n",
    "\n",
    "$$ f(x)\\ dx = \\frac{1}{\\sigma_M\\sqrt{2\\pi}} \\exp(-(x-x_0)^2/2\\sigma_M^2)\\ dx$$\n",
    "\n",
    "where $f(x)$ is the charge deposited between position $x$ and $x+dx$ and $x_0$ is the point where the track hits the detector.\n",
    "Assume that the total energy deposited by each track is 1 MIP (a MIP is the energy deposited by a single minimum ionizing particle), that our analog electronics has a threshold of 0.2 MIP and that $\\sigma_M=\\ell$.  Also assume that the electronics has an intrinsic noise contribution $\\sigma_N=0.1$ MIP. (This means that the measurement of the charge on each strip is modified by adding a noise contribution that is distributed according\n",
    "to a Gaussian with mean 0 and variance $\\sigma_N^2$.  Assume that the\n",
    "noise on neighboring strips is uncorrelated.)\n",
    "\n",
    "Generate 10,000 particles and simulate the response of this\n",
    "silcon strip detector (**using 7 strips now**) to these particles.  From this simulation\n",
    "determine the position resolution of the silicon detector.\n",
    "Assume that in the analysis of these data the measured position of the particle is:\n",
    "$$\n",
    "x_{meas} = \\sum_{i=strips} q_i x_i\n",
    "$$\n",
    "where the index $i$ is the strip number, $q_i$ is the measured\n",
    "charge on the strip (set to zero for strips with charge below\n",
    "threshold) and $x_i$ is the position of the center of strip $i$.\n",
    "\n",
    "Once again, assume that the incident particles have a uniform distribution\n",
    "in $x$ with $-\\ell/2 < x < \\ell/2$."
   ]
  },
  {
   "cell_type": "markdown",
   "metadata": {
    "flags": [
     "solutions"
    ]
   },
   "source": [
    "We'll take $\\sigma_M = \\ell = 1$ for simplicity.  To keep track of our detector geometry, we'll first create a list of each strip's centers along with a list of its left/right bounds.  "
   ]
  },
  {
   "cell_type": "code",
   "execution_count": 108,
   "metadata": {
    "flags": [
     "solutions"
    ]
   },
   "outputs": [
    {
     "name": "stdout",
     "output_type": "stream",
     "text": [
      "[-3, -2, -1, 0, 1, 2, 3] [[-3.5, -2.5], [-2.5, -1.5], [-1.5, -0.5], [-0.5, 0.5], [0.5, 1.5], [1.5, 2.5], [2.5, 3.5]]\n"
     ]
    }
   ],
   "source": [
    "num_strips = 7  #Keep this odd so the problem is symmetric\n",
    "centers = []\n",
    "bounds = []\n",
    "\n",
    "for i in range(-int(num_strips/2),int(num_strips/2)+1):\n",
    "    centers.append(i)\n",
    "    bounds.append([i-0.5, i+0.5])\n",
    "    \n",
    "print(centers, bounds)"
   ]
  },
  {
   "cell_type": "markdown",
   "metadata": {
    "flags": [
     "solutions"
    ]
   },
   "source": [
    "Next, we'll use the error function to integrate over the Gaussian distribution while finding the charge deposited on each strip.  We'll also implement the weighted sum in finding the measured position."
   ]
  },
  {
   "cell_type": "code",
   "execution_count": null,
   "metadata": {
    "collapsed": true,
    "flags": [
     "solutions"
    ],
    "jupyter": {
     "outputs_hidden": true
    }
   },
   "outputs": [],
   "source": [
    "#Import the error function to help integrate the gaussian distribution\n",
    "from math import erf\n",
    "\n",
    "#Finds the charge deposited on strip i with a hit at location x\n",
    "def get_charge(i,x):\n",
    "    charge=0 # replace this with your code below\n",
    "    \"\"\"Your code here.  Using the error function erf() is convenient/fast, but\n",
    "       feel free to use an integration package like scipy.integrate or write your\n",
    "       own numerical integration function.  The left and right bound of each strip\n",
    "       is contained in bounds[i][0] and bounds[i][1], respectively. \"\"\"\n",
    "    \n",
    "    return charge\n",
    "\n",
    "#Finds the measured particle position                           \n",
    "def find_x_meas(charges, cutoff):\n",
    "    xmeas = 0 # replace this with your code below\n",
    "    \"\"\"Your code here.  Use the weighted sum definition given in the problem statement.\n",
    "       Note that x_i = centers[i].\"\"\"\n",
    "    \n",
    "    return xmeas"
   ]
  },
  {
   "cell_type": "markdown",
   "metadata": {
    "flags": [
     "solutions"
    ]
   },
   "source": [
    "Finally, we'll write a function that finds the position resolution for any intrinsic noise and charge threshold."
   ]
  },
  {
   "cell_type": "code",
   "execution_count": 109,
   "metadata": {
    "flags": [
     "solutions"
    ]
   },
   "outputs": [],
   "source": [
    "#Noise, cutoff corresponds to sigma_N, threshold described in the problem statement\n",
    "def test_analog_electronics(noise, cutoff):\n",
    "    samples = np.random.uniform(-0.5,0.5, size=10000)\n",
    "    errors = []\n",
    "    for x_true in samples:\n",
    "        #Calculate the charge deposited on each detector strip\n",
    "        charges = []\n",
    "        for i in range(num_strips):\n",
    "            charges.append(get_charge(i,x_true))\n",
    "\n",
    "        #Add intrinsic noise to the electronics\n",
    "        charges += np.random.normal(0, noise, num_strips)\n",
    "\n",
    "        #Find the measured position of the particle\n",
    "        x_meas = find_x_meas(charges, cutoff)\n",
    "\n",
    "        errors.append(x_meas - x_true)\n",
    "    \n",
    "    return errors"
   ]
  },
  {
   "cell_type": "markdown",
   "metadata": {
    "flags": [
     "solutions"
    ]
   },
   "source": [
    "First run the test_analog_electronics($\\sigma_N$, cutoff) function with $\\sigma_N =0.05$ and cutoff $= 0.2$ MIP.  How does the position resolution of the detector change as you increase/decrease these two parameters? (Note: physicists often characterize the the threshold in terms of how units of $\\sigma_N$.  For example, the parameters above correspond to a threshold of $4\\simga_N$.  Consider when exploring these parameters, describing the theshold in this way)"
   ]
  },
  {
   "cell_type": "markdown",
   "metadata": {
    "flags": [
     "solutions"
    ]
   },
   "source": [
    "flags: solutions"
   ]
  },
  {
   "cell_type": "code",
   "execution_count": 141,
   "metadata": {
    "flags": [
     "solutions"
    ]
   },
   "outputs": [
    {
     "data": {
      "image/png": "[encoded data removed]",
      "text/plain": [
       "<Figure size 432x288 with 1 Axes>"
      ]
     },
     "metadata": {
      "needs_background": "light"
     },
     "output_type": "display_data"
    },
    {
     "data": {
      "image/png": "[encoded data removed]",
      "text/plain": [
       "<Figure size 432x288 with 1 Axes>"
      ]
     },
     "metadata": {
      "needs_background": "light"
     },
     "output_type": "display_data"
    }
   ],
   "source": [
    "# Import the error function to help integrate the gaussian distribution\n",
    "# erfc(x) is 1-erf(x)\n",
    "from math import erf, erfc\n",
    "import math\n",
    "\n",
    "#Finds the charge deposited on strip i with a hit at location x\n",
    "def get_charge(i,x):\n",
    "    # We need to find the strip boundaries relative to the x_true\n",
    "    lowEdge = bounds[i][0]-x\n",
    "    highEdge = bounds[i][1]-x\n",
    "    # Find the integrated charge to the right of the lower edge of strip i\n",
    "    # lowEdge negative means x  is to the right of the lower boundary of the strip\n",
    "    if lowEdge < 0:\n",
    "        chargeBelow = 0.5*erfc(abs(lowEdge))\n",
    "    else:\n",
    "        chargeBelow = 0.5+0.5*erf(lowEdge)\n",
    "    # Find the integrated charge to the left of the upper edge of strip i\n",
    "    # highEdge positive means x is to the right of the upper boundary of the strip\n",
    "    if highEdge > 0:\n",
    "        chargeAbove = 0.5*erfc(highEdge)\n",
    "    else:\n",
    "        chargeAbove = 0.5+0.5*erf(abs(highEdge))\n",
    "    charge = 1.0-chargeBelow-chargeAbove\n",
    "    return charge\n",
    "\n",
    "#Finds the measured particle position                           \n",
    "def find_x_meas(charges, cutoff):\n",
    "    xsum = 0.0\n",
    "    chargeSeen = 0.0\n",
    "    for i in range(7):\n",
    "        if charges[i]>cutoff:\n",
    "            xsum += charges[i]*centers[i]\n",
    "            chargeSeen += charges[i]\n",
    "    if chargeSeen > 0:\n",
    "        xmeas = xsum/chargeSeen\n",
    "    else:\n",
    "        xmeas = 0.0\n",
    "        \n",
    "    return xmeas\n",
    "\n",
    "#Noise, cutoff corresponds to sigma_N, threshold described in the problem statement\n",
    "def test_analog_electronics(noise, cutoff):\n",
    "    samples = np.random.uniform(-0.5,0.5, size=10000)\n",
    "    errors = []\n",
    "    for x_true in samples:\n",
    "        #Calculate the charge deposited on each detector strip\n",
    "        charges = []\n",
    "        for i in range(num_strips):\n",
    "            charges.append(get_charge(i,x_true))\n",
    "\n",
    "        #Add intrinsic noise to the electronics\n",
    "        charges += np.random.normal(0, noise, num_strips)\n",
    "\n",
    "        #Find the measured position of the particle\n",
    "        x_meas = find_x_meas(charges, cutoff)\n",
    "        errors.append(x_meas - x_true)\n",
    "    \n",
    "    return errors\n",
    "sigmaNoise = 0.05\n",
    "threshold = 0.20\n",
    "errors = test_analog_electronics(sigmaNoise,threshold)\n",
    "plot_histogram(errors,\"Measured x - True x\",\"Number of Entries\",\"sigmaNoise\"+format(sigmaNoise,\"5.4\")+\" threshold: \"+format(threshold,\"5.4\"),[-0.5,0.5])\n",
    "\n",
    "scanNoise = []\n",
    "nSigMultipliers = np.arange(5,1,-0.2)\n",
    "#for i in np.arange(4,1,-0.1):\n",
    "#    nSigMultipliers.append(i)\n",
    "for sigmaNoise in [0.10, 0.05, 0.025]:\n",
    "    scanThresh = []\n",
    "    for nSig in nSigMultipliers:\n",
    "        threshold = nSig*sigmaNoise\n",
    "        errors = test_analog_electronics(sigmaNoise,threshold)\n",
    "        scanThresh.append(math.sqrt(np.var(errors)))\n",
    "    scanNoise.append(scanThresh)\n",
    "\n",
    "plt.plot(nSigMultipliers,scanNoise[0],'ro')\n",
    "plt.plot(nSigMultipliers,scanNoise[1],'bo')\n",
    "plt.plot(nSigMultipliers,scanNoise[2],'go')\n",
    "plt.xlabel(\"Threshold (units: # sigmaNoise)\")\n",
    "plt.ylabel(\"Resolution\")\n",
    "plt.title(\"SigmaNoise = 0.10 (red), 0.05 (blue), 0.025 (green)\")\n",
    "plt.ylim((0.0,1.2*max(scanNoise[0])))\n",
    "plt.show()\n",
    "#        plot_histogram(errors,\"Measured x - True x\",\"Number of Entries\",\"sigmaNoise: \"+format(sigmaNoise,\"5.4\")+\" threshold: \"+format(threshold,\"5.4\"),[-0.5,0.5])"
   ]
  },
  {
   "cell_type": "markdown",
   "metadata": {
    "flags": [
     "solutions"
    ]
   },
   "source": [
    "From the plot above, we see that as expected, the resolution degrades with increasing $\\sigma_N$.  For a given value of $\\sigma_N$ the best resolution occurs for thresholds between 2.5 and 3 times\n",
    "$\\sigma_N$.  For lower thresholds, we include signals that come largely from noise.  For higher thresholds, we start to loose real signal.  However, if the noise is low enough, the change of reolution with threshold becomes less important."
   ]
  }
 ],
 "metadata": {
  "kernelspec": {
   "display_name": "Python 3",
   "language": "python",
   "name": "python3"
  },
  "language_info": {
   "codemirror_mode": {
    "name": "ipython",
    "version": 3
   },
   "file_extension": ".py",
   "mimetype": "text/x-python",
   "name": "python",
   "nbconvert_exporter": "python",
   "pygments_lexer": "ipython3",
   "version": "3.7.1"
  }
 },
 "nbformat": 4,
 "nbformat_minor": 4
}
