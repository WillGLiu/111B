{
 "cells": [
  {
   "cell_type": "markdown",
   "metadata": {},
   "source": [
    "# Problem Set 2 solutions"
   ]
  },
  {
   "cell_type": "markdown",
   "metadata": {},
   "source": [
    "## Question 1: Relativity and Particle Decays"
   ]
  },
  {
   "cell_type": "markdown",
   "metadata": {},
   "source": [
    "### Learning objectives\n",
    "In this question you will:\n",
    "\n",
    "- Review relativistic expressions relevant for determining the mass and lifetime of a particle from its decay products\n",
    "- gain experience in using python to analyze data provided in a text file\n"
   ]
  },
  {
   "cell_type": "markdown",
   "metadata": {},
   "source": [
    "### 1a. "
   ]
  },
  {
   "cell_type": "markdown",
   "metadata": {
    "flags": [
     "problems",
     "solutions"
    ]
   },
   "source": [
    "The decays of particles with lifetimes longer than $\\sim 0.5$ ps can be observed in high resolution particle detectors. BY measuring many such decays, properties such as the decaying particle's mass and lifetime can be determined."
   ]
  },
  {
   "cell_type": "markdown",
   "metadata": {
    "flags": [
     "problems",
     "solutions"
    ]
   },
   "source": [
    "The file decayData.dat contains a set of simulated observations of particle decays that come from one specific species of hadron, which we designate particle $X$. The $X$ is observed through its decay $ X \\rightarrow p \\pi^{-} $ where the $p$ is a proton.  All the  $X$ particles are produced at the origin $(x=0,y=0,z-0)$ but they have with a range of momenta.  The position of the decay and the momentum of the proton and $\\pi^-$ are measured.\n",
    "\n",
    "\n",
    "The following code reads this data file and puts the data into a form that can be easily used in python:"
   ]
  },
  {
   "cell_type": "code",
   "execution_count": 4,
   "metadata": {
    "flags": [
     "problems",
     "solutions"
    ]
   },
   "outputs": [],
   "source": [
    "import math\n",
    "import numpy as np\n",
    "import matplotlib.pyplot as plt\n",
    "from scipy.optimize import curve_fit\n",
    "\n",
    "# Parse the input file.\n",
    "file = \"decayData.dat\"\n",
    "\n",
    "#Each row corresponds to one event. The columns are:\n",
    "# x-position of the decay vertex in cm\n",
    "# y-position of the decay vertex in cm\n",
    "# z-position of the decay vertex in cm\n",
    "# species of first particle (always a proton)\n",
    "# p1x: x-momentum of the proton produced in the decay in GeV\n",
    "# p1y: y-momentum of the proton produced in the decay in GeV\n",
    "# p1z: z-momentum of the proton produced in the decay in GeV\n",
    "# species of second particle (always a pi^-)\n",
    "# p2x: x-momentum of the pi^- produced in the decay in GeV\n",
    "# p2x: y-momentum of the pi^- produced in the decay in GeV\n",
    "# p2x: z-momentum of the pi^- produced in the decay in GeV\n",
    "\n",
    "\n",
    "inMeta = False\n",
    "vx = []\n",
    "vy = []\n",
    "vz = []\n",
    "p1x = []\n",
    "p1y = []\n",
    "p1z = []\n",
    "p2x = []\n",
    "p2y = []\n",
    "p2z = []\n",
    "\n",
    "\n",
    "inMeta = True\n",
    "for line in open(file,\"r\"):\n",
    "    line = line.strip()\n",
    "    info = line.split(\",\")    \n",
    "    if inMeta and (\"<metadata>\" in info[0]):\n",
    "        inMeta = True\n",
    "    elif inMeta and (\"</metadata>\" in info[0]):\n",
    "        inMeta = False\n",
    "    elif not inMeta:\n",
    "        vx.append(float(info[0]))\n",
    "        vy.append(float(info[1]))\n",
    "        vz.append(float(info[2]))\n",
    "        p1x.append(float(info[4]))\n",
    "        p1y.append(float(info[5]))\n",
    "        p1z.append(float(info[6]))\n",
    "        p2x.append(float(info[8]))\n",
    "        p2y.append(float(info[9]))\n",
    "        p2z.append(float(info[10]))\n",
    "massPiInGeV = 0.13957\n",
    "massProtonInGeV = 0.93827"
   ]
  },
  {
   "cell_type": "markdown",
   "metadata": {
    "flags": [
     "problems",
     "solutions"
    ]
   },
   "source": [
    "Verify that all these events correspond to the decay of a particle of a specific species by making a histogram of the invariant mass of the decays."
   ]
  },
  {
   "cell_type": "code",
   "execution_count": null,
   "metadata": {
    "flags": [
     "problems",
     "solutions"
    ]
   },
   "outputs": [],
   "source": [
    "PUT ANSWER HERE"
   ]
  },
  {
   "cell_type": "markdown",
   "metadata": {},
   "source": [
    "#### <font color='red'>Solution:</font>"
   ]
  },
  {
   "cell_type": "code",
   "execution_count": 17,
   "metadata": {
    "flags": [
     "solutions"
    ]
   },
   "outputs": [
    {
     "name": "stdout",
     "output_type": "stream",
     "text": [
      "The Average Mass = 1.1156460781296806\n"
     ]
    },
    {
     "data": {
      "image/png": "[encoded data removed]",
      "text/plain": [
       "<Figure size 432x288 with 1 Axes>"
      ]
     },
     "metadata": {
      "needs_background": "light"
     },
     "output_type": "display_data"
    }
   ],
   "source": [
    "particleMass = []\n",
    "E1 = []\n",
    "E2 = []\n",
    "for i in range(len(p1x)):\n",
    "    E1.append(math.sqrt(massProtonInGeV**2 + p1x[i]**2 + p1y[i]**2 + p1z[i]**2) )\n",
    "    E2.append(math.sqrt(massPiInGeV**2 + p2x[i]**2+p2y[i]**2+p2z[i]**2))\n",
    "    particleMass.append(math.sqrt((E1[i]+E2[i])**2-(p1x[i]+p2x[i])**2-(p1y[i]+p2y[i])**2-(p1z[i]+p2z[i])**2))\n",
    "\n",
    "theMass = sum(particleMass)/len(particleMass)\n",
    "print(\"The Average Mass =\", theMass)\n",
    "\n",
    "import matplotlib.pyplot as plt\n",
    "plt.hist(particleMass,bins=100,range=(1.00,1.2),facecolor='green')\n",
    "# Label the x and y axes and add a title\n",
    "plt.xlabel('Mass(pPi) [GeV]')\n",
    "plt.ylabel('Number of Events')\n",
    "plt.title(\"Measured Invariant Mass\")\n",
    "plt.show()"
   ]
  },
  {
   "cell_type": "markdown",
   "metadata": {
    "flags": [
     "solutions"
    ]
   },
   "source": [
    "All the decays have an invariant mass of 1.1155 GeV indicating that they are all consistent with coming from the same species of particle.  From the particle data book, you can deduce that the particle is a $\\Lambda^0$"
   ]
  },
  {
   "cell_type": "markdown",
   "metadata": {},
   "source": [
    "### 1b. "
   ]
  },
  {
   "cell_type": "markdown",
   "metadata": {
    "flags": [
     "problems",
     "solutions"
    ]
   },
   "source": [
    "Using these data, determine the livetime of the $X$ particle.  What evidence do you have that the $X$ has a decay distribution consistent with a single species with one lifetime?"
   ]
  },
  {
   "cell_type": "code",
   "execution_count": null,
   "metadata": {
    "flags": [
     "problems",
     "solutions"
    ]
   },
   "outputs": [],
   "source": [
    "PUT ANSWER HERE"
   ]
  },
  {
   "cell_type": "markdown",
   "metadata": {},
   "source": [
    "#### <font color='red'>Solution:</font>"
   ]
  },
  {
   "cell_type": "code",
   "execution_count": 44,
   "metadata": {
    "flags": [
     "solutions"
    ]
   },
   "outputs": [
    {
     "name": "stdout",
     "output_type": "stream",
     "text": [
      "Lifetime in cm (ctau) =  7.985848216543455\n"
     ]
    }
   ],
   "source": [
    "# The data file gives the position of the decay vertex.  We need to turn this into a proper distance\n",
    "# using the relativistic boost factor gamms\n",
    "properDistance = []\n",
    "for i in range(len(p1x)):\n",
    "    dist = math.sqrt(vx[i]**2+vy[i]**2+vz[i]**2)\n",
    "    # Relativistic gamma = E/m \n",
    "    gamma = (E1[i]+E2[i])/theMass\n",
    "    properDistance.append(dist/gamma)\n",
    "    \n",
    "# If the decay is exponential, the lifetime (here measured as $c\\tau$ in units of cm) is just the average of the\n",
    "# proper distance\n",
    "ctau = sum(properTime)/len(properTime)\n",
    "print(\"Lifetime in cm (ctau) = \",ctau)"
   ]
  },
  {
   "cell_type": "markdown",
   "metadata": {
    "flags": [
     "solutions"
    ]
   },
   "source": [
    "Note:  This is consistent with the expected lifetime for a $\\Lambda^0$"
   ]
  },
  {
   "cell_type": "code",
   "execution_count": 43,
   "metadata": {
    "flags": [
     "solutions"
    ]
   },
   "outputs": [
    {
     "name": "stdout",
     "output_type": "stream",
     "text": [
      "Lifetime in cm (ctau) =  7.985848216543455\n"
     ]
    },
    {
     "data": {
      "image/png": "[encoded data removed]",
      "text/plain": [
       "<Figure size 432x288 with 1 Axes>"
      ]
     },
     "metadata": {
      "needs_background": "light"
     },
     "output_type": "display_data"
    },
    {
     "name": "stdout",
     "output_type": "stream",
     "text": [
      "The distribution is a straight line on a log plot, so it is exponential\n"
     ]
    }
   ],
   "source": [
    "# There are several ways to demonstrate that the decay is consistent with a single exponential\n",
    "#\n",
    "# First method: plot the decay rate using a log scale for the y-axis.  An exponential should look like a straight line\n",
    "# Make a histogram of the proper distance\n",
    "plt.hist(properDistance,bins=15,range=(0,40.0),facecolor='green')\n",
    "plt.yscale('log')\n",
    "# Label the x and y axes and add a title\n",
    "plt.xlabel('Proper Decay Distance [cm]')\n",
    "plt.ylabel('Number of Events')\n",
    "plt.show()\n",
    "\n",
    "print(\"The distribution is a straight line on a log plot, so it is exponential\")"
   ]
  },
  {
   "cell_type": "code",
   "execution_count": 49,
   "metadata": {
    "flags": [
     "solutions"
    ]
   },
   "outputs": [
    {
     "data": {
      "image/png": "[encoded data removed]",
      "text/plain": [
       "<Figure size 432x288 with 1 Axes>"
      ]
     },
     "metadata": {
      "needs_background": "light"
     },
     "output_type": "display_data"
    },
    {
     "name": "stdout",
     "output_type": "stream",
     "text": [
      "Average proper distance of decays =  7.985848216543455\n",
      "Fitted lifetime = 7.8916533553760955\n"
     ]
    }
   ],
   "source": [
    "# Second method:  Fit the decay distribution to an exponential\n",
    "# Make a histogram of the proper distance\n",
    "(entries,bins,patches) = plt.hist(properDistance,bins=15,range=(0,40.0),facecolor='green')\n",
    "# Label the x and y axes and add a title\n",
    "plt.xlabel('Proper Decay Distance [cm]')\n",
    "plt.ylabel('Number of Events')\n",
    "\n",
    "#\n",
    "# We now will fit the histogrammed data to an exponential\n",
    "def expo_model(x,a,b):\n",
    "    return a*np.exp(-x/b)\n",
    "\n",
    "# Warning:  The sqrt of N errors only works if the number of entries in the bin is bigger then 10!\n",
    "bincenters = np.array([0.5 * (bins[i] + bins[i+1]) for i in range(len(bins)-1)])\n",
    "binErrors = np.array([max(math.sqrt(entries[i]),1.6) for i in range(len(bins)-1)])\n",
    "from scipy.optimize import curve_fit\n",
    "popt, pcov = curve_fit(expo_model, xdata=bincenters, ydata=entries, p0=[entries[0],sum(properDistance)/len(properDistance)], sigma=binErrors)\n",
    "\n",
    "# Add the fit function as a curve\n",
    "Y = np.zeros(len(bins))\n",
    "for j in range(len(bins)):\n",
    "    Y[j] = expo_model(bins[j],popt[0],popt[1])\n",
    "plt.plot(bins,Y, linewidth=2)\n",
    "plt.show()\n",
    "print(\"Average proper distance of decays = \",sum(properTime)/len(properTime))\n",
    "print(\"Fitted lifetime =\",popt[1])"
   ]
  },
  {
   "cell_type": "markdown",
   "metadata": {
    "flags": [
     "solutions"
    ]
   },
   "source": [
    "The average proper distance is consistent with what we would expect for a $\\Lambda^0$ decay.  Also, the fitted liefeime is consistent with what we get from a simple average, indicating that a single exponential is pretty good.\n",
    "WARNING:  You should NOT use sqrt(N) as the error bar unless N is large.  For this problem, you should really use a binned likelihood fit instead."
   ]
  },
  {
   "cell_type": "markdown",
   "metadata": {},
   "source": [
    "---"
   ]
  },
  {
   "cell_type": "markdown",
   "metadata": {},
   "source": [
    "## Question 2: $\\pi^0$ Decay"
   ]
  },
  {
   "cell_type": "markdown",
   "metadata": {},
   "source": [
    "### Learning objectives\n",
    "In this question you will:\n",
    "\n",
    "- Review basic concepts of Special Relativity and Lorentz Boosts\n",
    "- Apply these concepts to the case of $\\pi^0\\rightarrow \\gamma \\gamma$ decay\n",
    "- Learn techniques needed to simulate the decay of an ensemble of  $\\pi^0$s with non-zero momentum\n"
   ]
  },
  {
   "cell_type": "markdown",
   "metadata": {
    "flags": [
     "problems",
     "solutions"
    ]
   },
   "source": [
    "*Adapted from Perkins $4^{th}$ Edition Problem 1.4*\n",
    "\n",
    "In this problem you will derive an expression for the distribution of photon energies produced in the decays of $\\pi^0$s that are moving with fixed momentum.  Then, you will learn how to create a simulated sample of such $\\pi^0$ decays.   Note: In this problem, we will use natural units where $\\hbar=c=1$."
   ]
  },
  {
   "cell_type": "markdown",
   "metadata": {},
   "source": [
    "### 2a. "
   ]
  },
  {
   "cell_type": "markdown",
   "metadata": {
    "flags": [
     "problems",
     "solutions"
    ]
   },
   "source": [
    "A particle beam consists of $\\pi^0$'s all with energy $E_{lab}$ and all traveling in the $+z$ direction. Find an expression for the energy of the photons produced from the $\\pi^0$ decays as a function of $m_\\pi$, $E_{lab}$ and $\\theta^*$ (the angle of emission  of the  photon with respect to the $z$-axis in the pion rest frame).  Using this expression, show that the lab energy spectrum of the photons is flat, extending from $E_{lab}\\left (1+\\beta \\right )/2$ to $E_{lab}\\left (1-\\beta \\right )/2$, where $\\beta$ is the velocity of the $\\pi^0$ in the lab frame."
   ]
  },
  {
   "cell_type": "markdown",
   "metadata": {},
   "source": [
    "#### <font color='red'>Solution:</font>"
   ]
  },
  {
   "cell_type": "markdown",
   "metadata": {
    "flags": [
     "solutions"
    ]
   },
   "source": [
    "In the rest frame of the $\\pi^0$, the two photons are back-to-back and each have energy $E_1 = E_2 = \\frac{m_\\pi}{2}$.  We can therefore write the momenta of the photons in the $\\pi^0$ rest frame as:\n",
    "\n",
    "\\begin{eqnarray*}\n",
    "\\vec p_1 & = & \\frac{m_\\pi}{2} \\left [ \\sin\\theta^*\\cos \\phi^* \\hat x + \\sin\\theta^* \\sin\\phi^* \\hat y + \\cos\\theta^* \\hat z   \\right ], \\\\\n",
    "\\vec p_2 & = & - \\vec p_1.\n",
    "\\end{eqnarray*}\n",
    "\n",
    "We now want to boost to the lab frame.  The boost is along the z-direction, so the $x$ and $y$ components of the momentum are not changed by the transform.  The energy and z component are transformed:\n",
    "\\begin{eqnarray*}\n",
    "E' & = & \\gamma \\left (E -\\beta p_z \\right ) \\\\\n",
    "p_x' & = & p_x  \\\\\n",
    "p_y' & = & p_y \\\\\n",
    "p_z' & = & \\gamma \\left (p_z - \\beta E \\right ) \n",
    "\\end{eqnarray*}\n",
    "\n",
    "Relativity tells us energy of a $\\pi^0$ in the beam is $E_{lab}=\\gamma m_\\pi$.  The energy of the two photons in the lab frame are therefore:\n",
    "\n",
    "\\begin{eqnarray*}\n",
    "E_1 & = & \\frac{E_{lab}}{m_\\pi} \\left ( \\frac{m_\\pi}{2} - \\beta \\frac{m_\\pi}{2} \\cos \\theta^* \\right )  = \\frac{E_{lab}}{2} \\left (1-\\beta \\cos \\theta^* \\right )\\\\\n",
    "E_2 & = & \\frac{E_{lab}}{m_\\pi} \\left ( \\frac{m_\\pi}{2} + \\beta \\frac{m_\\pi}{2} \\cos \\theta^* \\right ) = \\frac{E_{lab}}{2}\\left (1+\\beta \\cos \\theta^* \\right )\n",
    "\\end{eqnarray*}\n",
    "\n",
    "But since the decay of the $\\pi^0$ is isotropic in its rest frame, the $\\cos\\theta^*$ distribution is flat between -1 and 1.  Therefore from the expression above the distribution of the energy of each of the photons is flat and extends from $E_{lab}\\left (1+\\beta \\right )/2$ to $E_{lab}\\left (1-\\beta \\right )/2$."
   ]
  },
  {
   "cell_type": "markdown",
   "metadata": {},
   "source": [
    "### 2b. "
   ]
  },
  {
   "cell_type": "markdown",
   "metadata": {
    "flags": [
     "problems",
     "solutions"
    ]
   },
   "source": [
    "Find an expression for the disparity $D$ (the ratio of the energy of the higher energy photon to the energy of the lower energy) and show that in the relativistic limit $\\beta\\approx 1$, $D>3$ in half the decays and $D>7$ in one quarter"
   ]
  },
  {
   "cell_type": "markdown",
   "metadata": {},
   "source": [
    "#### <font color='red'>Solution:</font>"
   ]
  },
  {
   "cell_type": "markdown",
   "metadata": {
    "flags": [
     "solutions"
    ]
   },
   "source": [
    "Using the expressions for the energy derived above and the definition of $D$ given above:\n",
    "\n",
    "$$                                                                                                               D = \\frac{E_{lab} \\left ( 1+\\beta \\cos \\theta^* \\right ) } {E_{lab} \\left (1-\\beta \\cos \\theta^* \\right ) } = \\frac{1+\\beta \\cos \\theta^* }{1-\\beta \\cos \\theta^*}                         \n",
    "$$\n",
    "\n",
    "where $0 \\le \\cos\\theta^* \\le 1$ to ensure that the higher energy photon is in the numerator.\n",
    "\n",
    "We can find the value of $\\cos\\theta^*$ that corresponds to a given value $D$ of disparity:\n",
    "\n",
    "\\begin{eqnarray*}\n",
    "D & = &  \\frac{1+\\beta \\cos \\theta^*}{1-\\beta \\cos \\theta^*}\\\\\n",
    "D -D\\beta\\cos\\theta^* & = & 1 + \\beta \\cos\\theta^* \\\\\n",
    "D-1 & = & \\beta\\left ( D+1 \\right ) \\cos \\theta^* \\\\\n",
    "\\cos \\theta^* & = & \\frac{D-1}{\\beta(D+1)}\\approx \\frac{D-1}{D+1}\n",
    "\\end{eqnarray*}\n",
    "\n",
    "Thus $D=3$ corresponds to $\\cos \\theta^* = \\frac{2}{4}=\\frac{1}{2}$ and $D=7$ corresponds to $\\cos\\theta^* = \\frac{6}{8}=\\frac{3}{4}$.   Since $\\cos \\theta^*$ is distributed uniformly, we can find the fraction of events with $D>3$ is $1-\\frac{1}{2}=\\frac{1}{2}$ and the fraction of events with $D>7$ is $1-\\frac{3}{4} = \\frac{1}{4}$ in the relativstic limit.\n"
   ]
  },
  {
   "cell_type": "markdown",
   "metadata": {},
   "source": [
    "### 2c. "
   ]
  },
  {
   "cell_type": "markdown",
   "metadata": {
    "flags": [
     "problems",
     "solutions"
    ]
   },
   "source": [
    "It is often useful for physicists to simulate experimental data.  Such simulations allow us generate an ensemble of events corresponding to a given physical process and to study them.  Generated events can be passed through a simulated detector that has imperfections (finite resolution, missing channels, incomplete angular coverage, etc) and the effect of such imperfections on our measurements can be assessed.  This problem is our first example of creating such simulated data.  Our simulation will be quite simple but the concepts developed here will be used through the semester."
   ]
  },
  {
   "cell_type": "markdown",
   "metadata": {
    "flags": [
     "problems",
     "solutions"
    ]
   },
   "source": [
    "Assume we have a beam of 10000 $\\pi^0$ all with energy 5 GeV.  Simulate the decay of these pions and plot (histogram) the following distributions:\n",
    "- The energies of the photons produced in the $\\pi^0$ decay\n",
    "- The disparity of the decays\n",
    "- The angles $\\theta$ between the momenta of the photons and that of the $\\pi^0$ in the lab frame.\n",
    "    \n",
    "Hints: \n",
    "- For each decay, first simulate the decay in the pion center of mass and then Lorentz boost to the lab frame \n",
    "- Since in the rest frame of the pion, the decay is isotropic, the distribution of $\\cos \\theta^*$ is uniformly distributed.  If for each event you pull a random number uniformly distributed between 0 and 1 and set $\\cos \\theta^* $ for that event equal to the random number, the decays will have the right distribution.\n",
    "- In principle, you could find the $\\phi^*$ angle for each decay by pulling a second uniformly distributed random number, but for this problem you will not need the $x$ and $y$ components of the photon momentum separately so you don't need to do this."
   ]
  },
  {
   "cell_type": "markdown",
   "metadata": {},
   "source": [
    "#### <font color='red'>Solution:</font>"
   ]
  },
  {
   "cell_type": "code",
   "execution_count": 1,
   "metadata": {
    "flags": [
     "solutions"
    ]
   },
   "outputs": [],
   "source": [
    "import numpy as np\n",
    "import matplotlib.pyplot as plt\n",
    "%matplotlib inline\n",
    "\n",
    "# set pi^0 mass; use GeV for everything (remember h=c=1)\n",
    "mass = 0.1349770\n",
    "\n",
    "def piZeroDecay(piEnergy, nevents):\n",
    "    \"\"\"Compute the lab-frame energies and angles of pi^0 decay photons. \n",
    "    Randomly picks cos(Theta*) for the pi^0 decays and then boosts the \n",
    "    photons from the pi^0 rest frame to the lab frame.\n",
    "    \n",
    "    Parameters\n",
    "    ==========\n",
    "    piEnergy : float\n",
    "      the energy of the pi^0 in the lab frame in GeV\n",
    "      \n",
    "    nevents : int\n",
    "      number of decays to simulate\n",
    "      \n",
    "    Returns\n",
    "    =======\n",
    "    Elab1 : array\n",
    "      1-d array of length nevents representing higher-energy photon lab \n",
    "      frame energies\n",
    "      \n",
    "    Elab2 : array\n",
    "      1-d array of length nevents representing lower-energy photon lab \n",
    "      frame energies\n",
    "      \n",
    "    ThetaLab1 : array\n",
    "      1-d array of length nevents representing angles (in radians) between \n",
    "      higher-energy photon and pi^0 momenta\n",
    "      \n",
    "    ThetaLab2 : array\n",
    "      1-d array of length nevents representing angles (in radians) between \n",
    "      lower-energy photon and pi^0 momenta\n",
    "    \"\"\"\n",
    "    \n",
    "    # Calculate Lorentz variables gamma and beta\n",
    "    gamma = piEnergy/mass\n",
    "    beta = (1-gamma**-2)**.5\n",
    "    \n",
    "    # Throw random number to pick Cos(Theta*)\n",
    "    # Note: We only bother to throw 0<cos(Theta*)<1 since it makes it easier to assign which photon is higher energy\n",
    "    cosThetastar = np.random.rand(nevents)\n",
    "    # Calculate photon energies in lab frame\n",
    "    # Note: we have defined things so that photon 1 has the higher energy\n",
    "    Elab1 = 0.5*piEnergy*(1+beta*cosThetastar)\n",
    "    Elab2 = 0.5*piEnergy*(1-beta*cosThetastar)\n",
    "    \n",
    "    # calculate theta  in the lab frame for each photon.  To do this note that the x and y components of the photon momentum\n",
    "    # are not affected by the boost.  Define pT=sqrt(px^2+py^2)=mass/2 sin(Theta*)\n",
    "    pT = 0.5 * mass * np.sin(np.arccos(cosThetastar))\n",
    "    ThetaLab1 = np.arcsin(pT/Elab1)\n",
    "    ThetaLab2 = np.arcsin(pT/Elab2)\n",
    "    \n",
    "    return Elab1, Elab2, ThetaLab1, ThetaLab2"
   ]
  },
  {
   "cell_type": "code",
   "execution_count": 2,
   "metadata": {
    "flags": [
     "solutions"
    ]
   },
   "outputs": [
    {
     "data": {
      "text/plain": [
       "Text(0.5, 1.0, 'Photon Energy in Lab Frame for 5 GeV $\\\\pi^0$ Decays')"
      ]
     },
     "execution_count": 2,
     "metadata": {},
     "output_type": "execute_result"
    },
    {
     "data": {
      "image/png": "[encoded data removed]",
      "text/plain": [
       "<Figure size 432x288 with 1 Axes>"
      ]
     },
     "metadata": {
      "needs_background": "light"
     },
     "output_type": "display_data"
    }
   ],
   "source": [
    "requestedEnergy = 5  # energy in GeV\n",
    "nevents = 10000        # number of events to simulate\n",
    "\n",
    "E1, E2, ThetaLab1, ThetaLab2 = piZeroDecay(requestedEnergy, nevents)\n",
    "gammaEnergy = np.concatenate((E1,E2)) #array of photon energies\n",
    "disparity = E1/E2\n",
    "\n",
    "# Fill the histogram.  The hist function returns entries per bin, bin boundaries and\n",
    "# the objects representing the plotted patches\n",
    "n, bins, patchs = plt.hist(gammaEnergy,bins=10,range=(0.0,requestedEnergy),facecolor='yellow')\n",
    "\n",
    "# The code below draws error bars with size sqrt(number of events)\n",
    "bin_centers = 0.5*(bins[1:] + bins[:-1])\n",
    "plt.errorbar(bin_centers,n,xerr=None,yerr=n**0.5,fmt='o',ecolor='black',markerfacecolor='black')\n",
    "\n",
    "# Label the x and y axes and add a title\n",
    "plt.xlabel('Photon Energy [GeV]')\n",
    "plt.ylabel('Number of Photons')\n",
    "name = \"Photon Energy in Lab Frame for \"+str(requestedEnergy)+r\" GeV $\\pi^0$ Decays\"\n",
    "plt.title(name)"
   ]
  },
  {
   "cell_type": "code",
   "execution_count": 3,
   "metadata": {
    "flags": [
     "solutions"
    ]
   },
   "outputs": [
    {
     "data": {
      "text/plain": [
       "Text(0.5, 1.0, 'Disparity for 5 GeV $\\\\pi^0$ Decays')"
      ]
     },
     "execution_count": 3,
     "metadata": {},
     "output_type": "execute_result"
    },
    {
     "data": {
      "image/png": "[encoded data removed]",
      "text/plain": [
       "<Figure size 432x288 with 1 Axes>"
      ]
     },
     "metadata": {
      "needs_background": "light"
     },
     "output_type": "display_data"
    }
   ],
   "source": [
    "# Fill the histogram.  Note: np.clip() makes the last bin an overflow bin\n",
    "maxRange=50\n",
    "plt.hist(np.clip(disparity,1.0,maxRange),bins=100,range=(1.0,maxRange),facecolor='green')\n",
    "# Label the x and y axes and add a title\n",
    "plt.xlabel('disparity')\n",
    "plt.ylabel('Number of Events')\n",
    "name = \"Disparity for \"+str(requestedEnergy)+r\" GeV $\\pi^0$ Decays\"\n",
    "plt.title(name)"
   ]
  },
  {
   "cell_type": "code",
   "execution_count": 4,
   "metadata": {
    "flags": [
     "solutions"
    ]
   },
   "outputs": [
    {
     "data": {
      "text/plain": [
       "<matplotlib.legend.Legend at 0x11406f7d0>"
      ]
     },
     "execution_count": 4,
     "metadata": {},
     "output_type": "execute_result"
    },
    {
     "data": {
      "image/png": "[encoded data removed]",
      "text/plain": [
       "<Figure size 432x288 with 1 Axes>"
      ]
     },
     "metadata": {
      "needs_background": "light"
     },
     "output_type": "display_data"
    }
   ],
   "source": [
    "# Fill the histogram.  Note: np.clip() makes the last bin an overflow bin\n",
    "\n",
    "# Convert radians to milli-radians for easier plotting\n",
    "plt.hist(ThetaLab1*1e3,bins=100,range=(0,300),alpha=0.8,label=\"high-energy photon\")\n",
    "plt.hist(ThetaLab2*1e3,bins=100,range=(0,300),alpha=0.8,label=\"low-energy photon\")\n",
    "\n",
    "# Label the x and y axes and add a title\n",
    "plt.xlabel(r'$\\theta$ [milli-radian]')\n",
    "plt.ylabel('Number of Events')\n",
    "name = r\"$\\theta$ for \"+str(requestedEnergy)+r\" GeV $\\pi^0$ Decays\"\n",
    "plt.title(name)\n",
    "plt.legend(frameon=False)"
   ]
  },
  {
   "cell_type": "markdown",
   "metadata": {},
   "source": [
    "### 2d. "
   ]
  },
  {
   "cell_type": "markdown",
   "metadata": {
    "flags": [
     "problems",
     "solutions"
    ]
   },
   "source": [
    "Modify your simulation so that instead of having a fixed energy beam, the $\\pi^0$ energy is uniformly distributed between 1 and 20 GeV.  Make a 2D histogram of the opening angle between the two photons (measured in milli-radians) as a function of the $\\pi^0$ energy."
   ]
  },
  {
   "cell_type": "markdown",
   "metadata": {},
   "source": [
    "#### <font color='red'>Solution:</font>"
   ]
  },
  {
   "cell_type": "code",
   "execution_count": 5,
   "metadata": {
    "flags": [
     "solutions"
    ]
   },
   "outputs": [
    {
     "data": {
      "text/plain": [
       "Text(0.5, 1.0, 'Opening Angle for 1.0 to 20.0 GeV $\\\\pi^0$ Decays')"
      ]
     },
     "execution_count": 5,
     "metadata": {},
     "output_type": "execute_result"
    },
    {
     "data": {
      "image/png": "[encoded data removed]",
      "text/plain": [
       "<Figure size 432x288 with 1 Axes>"
      ]
     },
     "metadata": {
      "needs_background": "light"
     },
     "output_type": "display_data"
    }
   ],
   "source": [
    "bounds = 1,20 #range of pion energies\n",
    "# This gives a flat distribution of energy between energy bounds\n",
    "energies = bounds[0] + (bounds[1]-bounds[0])*np.random.rand(nevents)\n",
    "E1, E2, ThetaLab1, ThetaLab2 = piZeroDecay(energies,nevents)\n",
    "\n",
    "#since the photons must have opposite phi, the angle between them is the sum of their thetas\n",
    "openingAngles = (ThetaLab1+ThetaLab2)*1e3\n",
    "\n",
    "plt.scatter(energies,openingAngles,s=2) # s controls the size of the points that are draw.                                                               \n",
    "plt.xlabel('Pion Energy [GeV]')\n",
    "plt.ylabel('Opening Angle [milli-radian]')\n",
    "plt.ylim([0,200])\n",
    "name = r\"Opening Angle for %.1f to %.1f GeV $\\pi^0$ Decays\"%bounds\n",
    "plt.title(name)"
   ]
  },
  {
   "cell_type": "markdown",
   "metadata": {},
   "source": [
    "### 2e. "
   ]
  },
  {
   "cell_type": "markdown",
   "metadata": {
    "flags": [
     "problems",
     "solutions"
    ]
   },
   "source": [
    "In the ATLAS detector, photons are identifed in the electromagnetic calorimeter by looking for a narrow energy cluster. Assume that two photons will be *merged* into a single cluster if their opening angles differ by more than 75 milli-radians.  Using your scatter plot above, estimate the maximum energy $\\pi^0$ for which the decay photons can be cleanly separated. (Note: the ATLAS detector is more complicated than the description presented in this problem, having different granularities in $\\theta$ and $\\phi$ directions.  Moreover, the experiment can *identify* $\\pi^0$ at higher energies than suggested here by looking at the width of the merged energy deposit from the two clusters.)"
   ]
  },
  {
   "cell_type": "markdown",
   "metadata": {},
   "source": [
    "#### <font color='red'>Solution:</font>"
   ]
  },
  {
   "cell_type": "markdown",
   "metadata": {
    "flags": [
     "solutions"
    ]
   },
   "source": [
    "Looking at the plot above, ATLAS can on cleanly separate photons from pions with energy about 3.5 GeV"
   ]
  },
  {
   "cell_type": "markdown",
   "metadata": {},
   "source": [
    "## Question 3: Mandelstam Variables"
   ]
  },
  {
   "cell_type": "markdown",
   "metadata": {},
   "source": []
  },
  {
   "cell_type": "markdown",
   "metadata": {},
   "source": [
    "### 3a. "
   ]
  },
  {
   "cell_type": "markdown",
   "metadata": {},
   "source": [
    "Show that $s$ is the square of the center-or-mass energy of the system $1+2$"
   ]
  },
  {
   "cell_type": "markdown",
   "metadata": {},
   "source": [
    "In the center of mass frame $\\vec p_1 = - \\vec p_2$.  So:\n",
    "\\begin{eqnarray*}\n",
    "s & \\equiv & \\left (p_1+p_2 \\right )^2 \\\\\n",
    "& = & \\left ( E_1 +E_2 \\right )^2 - \\left (\\vec p_1 + \\vec \\_2 \\right )^2 \\\\\n",
    "& = & \\left ( E_1 +E_2 \\right )^2\n",
    "\\end{eqnarray*}\n",
    "Thus, $s$ is the square of the center of mass energy"
   ]
  },
  {
   "cell_type": "markdown",
   "metadata": {},
   "source": [
    "### 3b. "
   ]
  },
  {
   "cell_type": "markdown",
   "metadata": {},
   "source": [
    "Show that $$s+t+u = m_1^2+m_2^2+m_3^2+m_4^2$$"
   ]
  },
  {
   "cell_type": "markdown",
   "metadata": {},
   "source": [
    "\\begin{eqnarray*}\n",
    "s + t + u & = & \n",
    "\\left (p_1+p_2 \\right )^2 + \\left (p_1 - p_3 \\right )^2 + \\left (p_1-p_4 \\right )^2 \\\\\n",
    "& = & p_1^2 + p_2^2 + 2 p_1 \\cdot p_2 + p_1^2 + p_3^2 - 2 p_1 \\cdot p_3 + p_1^2 + p_4^2 - 2 p_1 \\cdot p_4 \\\\\n",
    "& = & 3 p_1^2 + p_2^2 + p_3^2 + p_4^2 + 2p_1 \\cdot \\left (p_2-p_3-p_4 \\right )\\\\\n",
    "& = & 3p_1^2 + p_2^2 + p_3^2 + p_4^2 -2 p_1^2\\\\\n",
    "& = & p_1^2 + p_2^2 + p_3^2 + p_4^2 \\\\\n",
    "& = & m_1^2 + m_2^2 + m_3^2 + m_4^2\n",
    "\\end{eqnarray*}\n"
   ]
  },
  {
   "cell_type": "markdown",
   "metadata": {},
   "source": [
    "## Question 4: $\\beta$-decay and the uncertainty principle"
   ]
  },
  {
   "cell_type": "markdown",
   "metadata": {},
   "source": [
    "\\begin{eqnarray*}\n",
    "\\Delta x \\Delta p & \\ge &  \\hbar\\\\\n",
    "\\Delta p & \\ge & \\frac{\\hbar}{\\Delta x} \\\\\n",
    "\\Delta pc & \\ge & \\frac{\\hbar c } {\\Delta x} \\\\\n",
    "& \\ge & \\frac{197 \\;\\;{\\rm MeV\\; fm}}{1\\;{\\rm fm}}\\\\\n",
    "& \\ge & 197 \\;{\\rm MeV}\n",
    "\\end{eqnarray*}\n",
    "The endpoint of the tritium $\\beta$-decay spectrum is only about 18 keV, much smaller than the value obtained from the uncertainty principle.  Thus, the electron cannot be bound in the nucleus and must be produced in a decay"
   ]
  },
  {
   "cell_type": "markdown",
   "metadata": {},
   "source": [
    "## Question 5: Kinematics in 2-body particle decays"
   ]
  },
  {
   "cell_type": "markdown",
   "metadata": {},
   "source": [
    "\\begin{eqnarray*}\n",
    "m_a^2 & = & E_a^2 - \\vec p_a^2 \\\\\n",
    "& = & \\left ( E_1+E_2 \\right ) ^2 - \\left ( \\vec p_1 + \\vec p_2 \\right)^2 \\\\\n",
    "& = & E_1^2 + E_2^2 + 2 E_1 E_2 - \\left ( p_1^2 + p_2^2 + 2 \\vec p_1 \\cdot \\vec p_2\\right ) \\\\\n",
    "& = & E_1^2 - \\vec p_1^2 + E_2^2 - \\vec p_2^2 + 2 E_1E_2 \\left (1-\n",
    "\\frac{\\left |\\vec p_1 \\right | \\left |\\vec p_2 \\right |}{E_1E_2} \\cos \\theta \\right)\\\\\n",
    "& = & E_1^2 - \\vec p_1^2 + E_2^2 - \\vec p_2^2 + 2 E_1E_2 \\left (1-\n",
    "\\beta_1\\beta_2 \\cos \\theta \\right)\\\\\n",
    "\\end{eqnarray*}"
   ]
  },
  {
   "cell_type": "code",
   "execution_count": null,
   "metadata": {},
   "outputs": [],
   "source": []
  }
 ],
 "metadata": {
  "kernelspec": {
   "display_name": "Python 3",
   "language": "python",
   "name": "python3"
  },
  "language_info": {
   "codemirror_mode": {
    "name": "ipython",
    "version": 3
   },
   "file_extension": ".py",
   "mimetype": "text/x-python",
   "name": "python",
   "nbconvert_exporter": "python",
   "pygments_lexer": "ipython3",
   "version": "3.7.1"
  }
 },
 "nbformat": 4,
 "nbformat_minor": 4
}
