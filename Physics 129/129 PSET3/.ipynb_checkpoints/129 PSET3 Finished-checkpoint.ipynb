{
 "cells": [
  {
   "cell_type": "markdown",
   "metadata": {},
   "source": [
    "# Problem Set 3 "
   ]
  },
  {
   "cell_type": "markdown",
   "metadata": {},
   "source": [
    "## Question 1: Relativistic Expressions for Accelerator Performance (10 points)"
   ]
  },
  {
   "cell_type": "markdown",
   "metadata": {},
   "source": [
    "### Learning objectives\n",
    "In this question you will:\n",
    "\n",
    "- Derive the expressions for the center-of-mass energy at colliders and in fixed target experiments\n",
    "- Show that when the masses of the beam and target can be neglected, the expressions reduce to a simple form"
   ]
  },
  {
   "cell_type": "markdown",
   "metadata": {},
   "source": [
    "In the pdf file for Lecture 6, page 6 defines the configuration of the beams for colliding beam and fixed target experiments and gives expressions for the center-of-mass energy $\\sqrt{s}$ in the limit where the mass of the beam particle(s) is small compared to its energy."
   ]
  },
  {
   "cell_type": "markdown",
   "metadata": {},
   "source": [
    "### 1a."
   ]
  },
  {
   "cell_type": "markdown",
   "metadata": {},
   "source": [
    "Explicitly derive the expressions for the center-of-mass energy for the collider and fixed target case NOT assuming that the masses of the colliding particles are small."
   ]
  },
  {
   "cell_type": "markdown",
   "metadata": {},
   "source": [
    "In general,\n",
    "$$s = (p_1 + p_2)^2 = (\\sum_{i=1}^2 E_i)^2 - (\\sum_{i=1}^2 p_i)^2$$\n",
    "Note: $p$ is four vector, $\\vec{p}$ is 3-vector <br/>\n",
    "Fixed target case:\n",
    "$$s_{fixed} = (E_{beam} + m_{targ})^2 - \\vec{p_{tot}}^2$$\n",
    "$$s_{fixed} = (E_{beam}^2 + 2m_{targ}E_{beam} + m_{targ}^2) - (E_{beam}^2 - m_{targ}^2)$$\n",
    "$$s_{fixed} = 2m_{targ}^2 + 2m_{targ}E_{beam}$$\n",
    "$$E_{cm}^{fixed} = \\sqrt{s_{fixed}} = \\sqrt{ 2m_{targ}^2 + 2m_{targ}E_{beam}}$$\n",
    "Collider Case:\n",
    "$$s_c = (p_1 + p_2)^2 $$\n",
    "$$s_c = p_1^2 + p_2^2 + 2p_1p_2$$\n",
    "$$s_c = m_1^2 + m_2^2 + 2(E_1 E_2 + 2\\vec{p_1}\\cdot \\vec{p_2})$$\n",
    "$$s_c = m_1^2 + m_2^2 + 2(E_1 E_2 + 2(E_1 - m_1)(E_2 - m_2))$$\n",
    "$$s_c = m_1^2 + m_2^2 + 2E_1 E_2 + 2E_1 E_2 - 2m_2 E_1 - 2m_1 E_2 + 2m_1 m_2$$\n",
    "$$E_{cm}^{collider} = \\sqrt{s_c} = \\sqrt{m_1^2 + m_2^2 + 4E_1 E_2 - 2m_2 E_1 - 2m_1 E_2 + 2m_1 m_2}$$"
   ]
  },
  {
   "cell_type": "markdown",
   "metadata": {},
   "source": [
    "### 1b. "
   ]
  },
  {
   "cell_type": "markdown",
   "metadata": {},
   "source": [
    "Using your result from 1a and appropriate approximations, derive the expressions quoted in class:\n",
    "$$E_{cm}^{collider} = \\sqrt{4E_1E_2} {\\; \\rm and \\;} E_{cm}^{fixed\\; target} = \\sqrt{2m_{target}E_{beam}}$$"
   ]
  },
  {
   "cell_type": "markdown",
   "metadata": {},
   "source": [
    "Using the results from 1a, approximate the masses of the particles as small $(m << 1)$. Then: <br/>\n",
    "Fixed: $m^2 << m$\n",
    "$$E_{cm}^{fixed} = \\sqrt{ 2m_{targ}^2 + 2m_{targ}E_{beam}} \\approx \\sqrt{ 2m_{targ}E_{beam}}$$\n",
    "Colldier: $m_i << E_i$\n",
    "$$E_{cm}^{collider} = \\sqrt{m_1^2 + m_2^2 + 4E_1 E_2 - 2m_2 E_1 - 2m_1 E_2 + 2m_1 m_2} \\approx \\sqrt{ 4E_1E_2}$$\n"
   ]
  },
  {
   "cell_type": "markdown",
   "metadata": {},
   "source": [
    "## Question 2: Cherenkov Imaging (10 points)"
   ]
  },
  {
   "cell_type": "markdown",
   "metadata": {},
   "source": [
    "### Learning objectives\n",
    "In this question you will:\n",
    "\n",
    "- Review the expression that determines when Cherenkov light is emitted and how the angle of the Cherenkov cone is related to a particle's speed and the index of refraction of the medium\n",
    "- Apply the concepts of resolution and of confidence level to the case of a Cherenkov detector"
   ]
  },
  {
   "cell_type": "markdown",
   "metadata": {},
   "source": [
    "In BaBar, the DIRC detector identifies charged    particles (eg distinguishes $\\pi^\\pm$ from $K^\\pm$)  by reconstructing Cherenkov rings produced in a thin quartz bar. The index of refraction of quartz is n = 1.2. "
   ]
  },
  {
   "cell_type": "markdown",
   "metadata": {},
   "source": [
    "### 2a. "
   ]
  },
  {
   "cell_type": "markdown",
   "metadata": {},
   "source": [
    "What is the minimum momentum below which $K^+$  do not produce Cherenkov light?"
   ]
  },
  {
   "cell_type": "code",
   "execution_count": 1,
   "metadata": {},
   "outputs": [],
   "source": [
    "import numpy as np"
   ]
  },
  {
   "cell_type": "code",
   "execution_count": 4,
   "metadata": {},
   "outputs": [
    {
     "name": "stdout",
     "output_type": "stream",
     "text": [
      "Minimum momentum = 0.7442460802855831 GeV/c\n"
     ]
    }
   ],
   "source": [
    "# according to PDG:\n",
    "# mK == mass of charged K\n",
    "mK = 0.493677 #GeV/c^2\n",
    "# minimum velocity for Cherenkov light: vp >= c/n\n",
    "n = 1.2\n",
    "c = 1 # units of c established\n",
    "vp = c/1.2 \n",
    "# p = gamma m v\n",
    "beta = vp/c\n",
    "gamma = 1/(np.sqrt(1 - (beta)**2))\n",
    "\n",
    "pmin = gamma*mK*vp # units: GeV/c^2 * c = GeV/c\n",
    "print('Minimum momentum =', pmin,'GeV/c')"
   ]
  },
  {
   "cell_type": "markdown",
   "metadata": {},
   "source": [
    "### 2b"
   ]
  },
  {
   "cell_type": "markdown",
   "metadata": {},
   "source": [
    "A charged particle is observed to have a momentum of 2.5 GeV.  What are the predicted angles of the Cherenkov cone produced if the particle is a $\\pi^\\pm$ and if it is a $K^\\pm$?"
   ]
  },
  {
   "cell_type": "code",
   "execution_count": 17,
   "metadata": {},
   "outputs": [
    {
     "name": "stdout",
     "output_type": "stream",
     "text": [
      "If pion: 0.5833338498396993 rad\n",
      "If Kaon: 0.5559001794626739 rad\n"
     ]
    }
   ],
   "source": [
    "# 2.5 GeV/c = p = gamma m v\n",
    "# gamma is a function of v; rearranging to solve for v:\n",
    "def get_v(p, m):\n",
    "    c = 1\n",
    "    factor = 1 + (p**2)/((m**2)*(c**2)) # unitless factor to be divided\n",
    "    return np.sqrt(((p**2)/(m**2))/factor) # checked units: returns in units of c, which is perfect\n",
    "\n",
    "pcharged = 2.5 # GeV/c\n",
    "\n",
    "# K+/-\n",
    "\n",
    "vK = get_v(pcharged, mK)\n",
    "betaK = vK/c # which is the same number, but accounts for units properly (beta = unitless)\n",
    "\n",
    "# pi+/-\n",
    "\n",
    "mpi = 0.139570 # GeV/c^2\n",
    "vpi = get_v(pcharged, mpi)\n",
    "betapi = vpi/c\n",
    "\n",
    "# emission angle formula: cos(theta) = 1/(n*beta)\n",
    "angleK = np.arccos(1/(n*betaK))\n",
    "anglepi = np.arccos(1/(n*betapi))\n",
    "\n",
    "print('If pion:', anglepi, 'rad')\n",
    "print('If Kaon:', angleK, 'rad')"
   ]
  },
  {
   "cell_type": "markdown",
   "metadata": {},
   "source": [
    "### 2c"
   ]
  },
  {
   "cell_type": "markdown",
   "metadata": {},
   "source": [
    "The angular resolution for the Cherenkov cone of the DIRC detector is approximately $\\sigma(\\theta_c ) = 2.5$~mrad.  This means that the measured Cherenkov angle  distributed about the true value such that\n",
    "$$\n",
    "    \\theta_c^{meas} - \\theta_c^{true} \\;\\; = \\;\\;  \\frac{1}{\\sigma_c \\sqrt{2\\pi}} \\exp \\left [-\\frac{1}{2\\sigma^2} \\right ]\n",
    "$$\n",
    "\n",
    "As the charged particle momentum increases, the Cherenkov angles for $\\pi^\\pm$ and $K^\\pm$ of the same momentum converge towards the same value.  The largest momentum for which the two hypothesis can be distinguished depends on $\\sigma_c$. Scientists use the term confidence level to describe how well we can tell two hypothesis apart  A 90\\%\\ confidence level separation means that it we start with equal populations in the two possibilities, we will choose the wrong hypothesis 10\\%\\ of the time. See, for example, the PDG review of statistics Figure 40.4 and Table 40.1.  From that table, you learn that a 90\\%\\ confidence level separation corresponds to  $1.64 \\sigma$ for a two-sided cut. Here, however, we are doing something slightly different.  If we have two Gaussians where one is centered at $\\theta=0$ and the other is centered at $\\theta=n\\sigma$ then the natural way to assign particles by species is to say all the measurements with $\\theta>n\\sigma/2$ belong to the Gaussian centered at $\\theta=n\\sigma$ and the others belong to the Gaussian centered at $\\theta=0$.  The probability of getting the wrong assignment with this strategty is called a one-sided confidence limit.  In our case, we must ask that $10\\% $ of the events be in one tail (so\n",
    "$20\\% $ in both tails).  That corresponds to having the distance be 1.28$\\sigma$ from each peak, or 2.56 $\\sigma$\n",
    "between the peaks, as shown here:"
   ]
  },
  {
   "cell_type": "markdown",
   "metadata": {},
   "source": [
    "<img src=\"tofCL.png\" alt=\"Drawing\" style=\"width: 600px;\"/>"
   ]
  },
  {
   "cell_type": "markdown",
   "metadata": {},
   "source": [
    "Here, the hatched regions correspond to the cases where the species are misidentified.\n",
    "\n",
    "Using this definition of confidence level, what is the maximum momentum for which  $\\pi^+$ and $K^+$ can be separated at the 90\\%\\ confidence level in the BaBar DIRC?"
   ]
  },
  {
   "cell_type": "code",
   "execution_count": 28,
   "metadata": {},
   "outputs": [
    {
     "name": "stdout",
     "output_type": "stream",
     "text": [
      "Maximum momentum that maintains 90% confidence level: 5.1441441441441444 GeV/c\n"
     ]
    }
   ],
   "source": [
    "sigmac = 2.5/1000 # units of rad\n",
    "diff = sigmac*2.56 # minimum difference for 90% confidence interval\n",
    "\n",
    "# scan through possible p values to find the best one that matches the requirements\n",
    "def get_max_p(scanmin, scanmax, difference,m1,m2,n):\n",
    "    c = 1\n",
    "    ps = np.linspace(scanmin, scanmax,1000)\n",
    "    success = []\n",
    "    for p in ps:\n",
    "        v1 = get_v(p, m1)\n",
    "        beta1 = v1/c\n",
    "        v2 = get_v(p, m2)\n",
    "        beta2 = v2/c\n",
    "        \n",
    "        angle1 = np.arccos(1/(n*beta1))\n",
    "        angle2 = np.arccos(1/(n*beta2))\n",
    "        current_diff = np.abs(angle1-angle2)\n",
    "        #print(current_diff)\n",
    "        \n",
    "        if current_diff >= difference:\n",
    "            success.append(p)\n",
    "    \n",
    "    success = np.array(success)\n",
    "    #print(success)\n",
    "    maxp = np.max(success)\n",
    "    \n",
    "    return maxp\n",
    "\n",
    "maxvalue = get_max_p(1,10,diff,mK,mpi,n)\n",
    "\n",
    "print('Maximum momentum that maintains 90% confidence level:',maxvalue,'GeV/c')"
   ]
  },
  {
   "cell_type": "markdown",
   "metadata": {},
   "source": [
    "## Question 3: Luminosity of a Collider (10 points)"
   ]
  },
  {
   "cell_type": "markdown",
   "metadata": {},
   "source": [
    "(Thomson problem 1.11)  At the LEP $e^+e^-$ collider, which had a circumference of 27~km, the electron and positron beam currents were each 1.0 mAmps.  Each beam consisted of four equally spaced bunches of electrons/positrons.  The bunches had an effective area of $1.8\\times 10^{4}\\;\\;\\mu$m.  Calculate the instantaneous luminosity on the assumption that the beams collided head-on."
   ]
  },
  {
   "cell_type": "code",
   "execution_count": 44,
   "metadata": {},
   "outputs": [
    {
     "name": "stdout",
     "output_type": "stream",
     "text": [
      "Luminosity: 6.201476583261849e+34 m^-2 s^-1\n"
     ]
    }
   ],
   "source": [
    "nbunches = 4\n",
    "Aeff = 1.8 * (10**4) # units: micrometers^2\n",
    "I = 0.001 #amps\n",
    "# current density\n",
    "j = I/Aeff # amps/um^2 = C/s*um^2\n",
    "# but also j = q*(rho)*v (where v = c in this case)\n",
    "# we're looking for rho, the numberdensity, so rho = I/A*c*q\n",
    "q = 1.602*(10**(-19)) # Coulombs\n",
    "actualc = 3*(10**8) # m/s\n",
    "# converting to meters^2\n",
    "Aeffm2 = Aeff * (10**(-12))\n",
    "\n",
    "rho = I/(Aeffm2*actualc*q)\n",
    "# N = rho * volume, volume = Aeff * length (27km)\n",
    "V = Aeffm2*27000\n",
    "N = V*rho\n",
    "\n",
    "# frequency = 1 collision/ time, where time\n",
    "time = 27*1000/actualc # seconds\n",
    "freq = 1/time # 1/seconds, or Hz\n",
    "\n",
    "# finally, for L:\n",
    "L = (freq * nbunches * N * N)/(4*np.pi*Aeffm2)\n",
    "print(\"Luminosity:\", L, \"m^-2 s^-1\")"
   ]
  },
  {
   "cell_type": "markdown",
   "metadata": {},
   "source": [
    "## Question 4: Central Limit Theorem (30 points)"
   ]
  },
  {
   "cell_type": "markdown",
   "metadata": {},
   "source": [
    "### Learning objectives\n",
    "In this question you will:\n",
    "\n",
    "- See that you can use $\\sigma$ as a measure of resolution even for distributions that are not Gaussian\n",
    "- Learn how to write a simple Monte Carlo and use it to reproduce an analytical result\n"
   ]
  },
  {
   "cell_type": "markdown",
   "metadata": {
    "flags": [
     "problems",
     "solutions"
    ]
   },
   "source": [
    "The [*Central Limit Theorem*](https://en.wikipedia.org/wiki/Central_limit_theorem) tells us  that \n",
    "the distribution of the sum (or average) of a large number of independent, identically \n",
    "distributed measurements will be approximately normal, regardless of the underlying distribution\n",
    "(subject to the condition that mean and variance of the underlying distribution are not infinite).\n",
    "We'll see how this works for the simplest pdf ([probability density function](https://www.khanacademy.org/math/statistics-probability/random-variables-stats-library/random-variables-continuous/v/probability-density-functions)), a random variable $x$ uniformly distributed:"
   ]
  },
  {
   "cell_type": "markdown",
   "metadata": {
    "flags": [
     "problems",
     "solutions"
    ]
   },
   "source": [
    "$$f(x) = \\begin{cases} \\frac{1}{b-a} &\\mbox{if } a \\leq x \\leq b \\\\ \n",
    "0 & \\mbox{otherwise} \\end{cases} $$"
   ]
  },
  {
   "cell_type": "markdown",
   "metadata": {},
   "source": [
    "### 4a. "
   ]
  },
  {
   "cell_type": "markdown",
   "metadata": {
    "flags": [
     "problems",
     "solutions"
    ]
   },
   "source": [
    "Show that the mean $\\mu\\equiv \\int_{\\infty}^{\\infty} x f(x) dx$ is $\\frac{b+a}{2}$ and the variance $\\sigma^2\\equiv  \\int_{\\infty}^{\\infty} x^2 f(x) dx- \\mu^2$ is $\\frac{(b-a)^2}{12}$ for the above distribution."
   ]
  },
  {
   "cell_type": "markdown",
   "metadata": {},
   "source": [
    "The bounds can be simplified by the \"f = 0 if otherwise\" constraint. Therefore, given b > a,\n",
    "$$\\mu = \\int_{\\infty}^{\\infty} x f(x) dx = \\int_{a}^{b}x \\frac{1}{b-a} dx = \\frac{x^2}{2}\\frac{1}{b-a}$$\n",
    "Evaluating at $x=b$ and $x=a$ and then taking the difference, we have:\n",
    "$$\\mu = \\frac{b^2 - a^2}{2(b-a)} = \\frac{b+a}{2}$$\n",
    "Using similar logic for variance:\n",
    "$$\\sigma^2 =\\int_{\\infty}^{\\infty} x^2 f(x) dx- \\mu^2 = \\int_{a}^b x^2 \\frac{1}{b-a} dx - \\frac{(b+a)^2}{4}$$ <br/>\n",
    "$$\\sigma^2 = \\frac{(b^3 - a^3)}{3(b-a)} - \\frac{(b+a)^2}{4} = \\frac{a^2 + ab + b^2}{3} - \\frac{a^2 + 2ab + b^2 }{4}$$ <br/>\n",
    "$$\\sigma^2 = \\frac{a^2 - 2ab + b^2}{12}$$ <br/>\n",
    "$$\\therefore \\sigma^2 = \\frac{(b-a)^2}{12}$$"
   ]
  },
  {
   "cell_type": "markdown",
   "metadata": {},
   "source": [
    "### 4b. "
   ]
  },
  {
   "cell_type": "markdown",
   "metadata": {
    "flags": [
     "problems",
     "solutions"
    ]
   },
   "source": [
    "Let $a=0$ and $b=1$. Using your favorite random number generator, generate 1000 random numbers from the uniform distribution, $f(x)$.  Calculate the mean and variance of the numbers you generate.  Hint: You can use the NumPy (Numerical Python) library to generate random numbers from the (0,1) uniform distribution:"
   ]
  },
  {
   "cell_type": "code",
   "execution_count": 45,
   "metadata": {
    "flags": [
     "problems",
     "solutions"
    ]
   },
   "outputs": [
    {
     "name": "stdout",
     "output_type": "stream",
     "text": [
      "[0.70398486 0.52604354 0.07593052 0.94666912 0.38158277 0.73864901\n",
      " 0.56360295 0.25830431 0.88836987 0.24791697]\n"
     ]
    }
   ],
   "source": [
    "#Import the NumPy library as \"np\"\n",
    "import numpy as np\n",
    "\n",
    "#Use NumPy to generate a list (it's actually a numpy.ndarray) of 1000 random numbers\n",
    "samples = np.random.rand(1000)\n",
    "\n",
    "#Print the first 10 random numbers\n",
    "print(samples[0:10])"
   ]
  },
  {
   "cell_type": "markdown",
   "metadata": {
    "flags": [
     "problems",
     "solutions"
    ]
   },
   "source": [
    "Write your own functions to find the mean and variance of a list of numbers:"
   ]
  },
  {
   "cell_type": "code",
   "execution_count": 53,
   "metadata": {
    "flags": [
     "problems",
     "solutions"
    ]
   },
   "outputs": [],
   "source": [
    "# I assume I was supposed to write my own rather than just slot in \"np.mean\" and \"np.var\" here, so\n",
    "\n",
    "def find_mean(num_list):\n",
    "    \n",
    "    length = len(num_list)\n",
    "    total = np.sum(num_list)\n",
    "    mean = total/length\n",
    "    \n",
    "    return mean\n",
    "\n",
    "def find_variance(num_list):\n",
    "    \n",
    "    length = len(num_list)\n",
    "    mean = find_mean(num_list)\n",
    "    diffs = []\n",
    "    for item in num_list:\n",
    "        diffs.append((item - mean)**2)\n",
    "    \n",
    "    numerator = np.sum(diffs)\n",
    "    \n",
    "    return numerator/(length - 1)"
   ]
  },
  {
   "cell_type": "code",
   "execution_count": 54,
   "metadata": {},
   "outputs": [
    {
     "data": {
      "text/plain": [
       "0.07975816222110041"
      ]
     },
     "execution_count": 54,
     "metadata": {},
     "output_type": "execute_result"
    }
   ],
   "source": [
    "np.var(samples)"
   ]
  },
  {
   "cell_type": "code",
   "execution_count": 55,
   "metadata": {},
   "outputs": [
    {
     "name": "stdout",
     "output_type": "stream",
     "text": [
      "Numpy result for mean: 0.5084939900094709\n",
      "My function result for mean: 0.5084939900094709\n",
      "Numpy variance: 0.07975816222110041\n",
      "My function result for variance: 0.07983800022132173\n"
     ]
    }
   ],
   "source": [
    "# Compare between my function and numpy's:\n",
    "\n",
    "print(\"Numpy result for mean:\",np.mean(samples))\n",
    "print(\"My function result for mean:\",find_mean(samples))\n",
    "\n",
    "print(\"Numpy variance:\", np.var(samples))\n",
    "print('My function result for variance:', find_variance(samples))"
   ]
  },
  {
   "cell_type": "markdown",
   "metadata": {},
   "source": [
    "### 4c. "
   ]
  },
  {
   "cell_type": "markdown",
   "metadata": {
    "flags": [
     "problems",
     "solutions"
    ]
   },
   "source": [
    "Do these numerical results agree with the analytical results you found above?"
   ]
  },
  {
   "cell_type": "code",
   "execution_count": 56,
   "metadata": {},
   "outputs": [
    {
     "name": "stdout",
     "output_type": "stream",
     "text": [
      "Analytical mean: 0.5\n",
      "Analytical var: 0.08333333333333333\n",
      "The numerical results agree with the analytical results well; they will get closer to the analytical result as the number of samples increases\n"
     ]
    }
   ],
   "source": [
    "# Analytical results:\n",
    "a = 0\n",
    "b = 1\n",
    "Amean = (b+a)/2\n",
    "Avar = (b-a)/12\n",
    "\n",
    "print(\"Analytical mean:\", Amean)\n",
    "print(\"Analytical var:\", Avar)\n",
    "\n",
    "print(\"The numerical results agree with the analytical results well; they will get closer to the analytical result as the number of samples increases\")"
   ]
  },
  {
   "cell_type": "markdown",
   "metadata": {},
   "source": [
    "### 4d. "
   ]
  },
  {
   "cell_type": "markdown",
   "metadata": {
    "flags": [
     "problems",
     "solutions"
    ]
   },
   "source": [
    "Make a histogram  with 100 bins where the lower edge of the first bin is at $x=0$ and the upper\n",
    "edge of the last is at $x=1$.  Fill your histogram with the random numbers you generated above."
   ]
  },
  {
   "cell_type": "markdown",
   "metadata": {
    "flags": [
     "problems",
     "solutions"
    ]
   },
   "source": [
    "We'll use the **matplotlib.pyplot** module to make several histograms throughout the assignment, so we should go ahead and import it now.  Making a histogram from a list of numbers is as simple as calling [plt.hist()](https://matplotlib.org/api/_as_gen/matplotlib.pyplot.hist.html), with the list as the input parameter.  There are many optional parameters, like the number of bins and the color of the bars.\n",
    "\n",
    "Since our histograms will share similar formatting, it's also useful to define a function rather than typing the same thing over and over.  For this homework, we'll supply the histogramming routine.  In the future, you will write this code yourself."
   ]
  },
  {
   "cell_type": "code",
   "execution_count": 63,
   "metadata": {
    "flags": [
     "problems",
     "solutions"
    ]
   },
   "outputs": [],
   "source": [
    "#Import the pyplot module of matplotlib as \"plt\"\n",
    "import matplotlib.pyplot as plt\n",
    "\n",
    "\n",
    "#Makes a histogram filled with the random numbers we generate\n",
    "def plot_histogram(samples,xtitle,ytitle, title, limits):\n",
    "    \n",
    "    #It would be nice to have the mean and standard deviation in the title, so let's get these\n",
    "    mean, sigma = np.mean(samples), np.sqrt(np.var(samples))\n",
    "    #Plot the histogram of the sampled data with 100 bins and a nice color\n",
    "    plt.hist(samples, bins=100, range=limits, color=(0,0.5,0.8))  #Set the color using (r,g,b) values or\n",
    "                                                                  #  use a built-in matplotlib color\"\"\" \n",
    "\n",
    "    #Add some axis labels and a descriptive title\n",
    "    plt.xlabel(xtitle)\n",
    "    plt.ylabel(ytitle)\n",
    "    plt.title(title+'\\n $\\mu={0:.3f},\\ \\sigma={1:.3f}$'.format(mean,sigma) )\n",
    "\n",
    "    #Get rid of the extra white space on the left/right edges (you can delete these two lines without a problem)\n",
    "    xmin, xmax, ymin, ymax = plt.axis()\n",
    "    plt.axis([limits[0],limits[1],ymin,ymax])\n",
    "\n",
    "    #Not necessarily needed in a Jupyter notebook, but it doesn't hurt\n",
    "    plt.show()\n",
    "    \n",
    "    return mean, sigma"
   ]
  },
  {
   "cell_type": "markdown",
   "metadata": {
    "flags": [
     "problems",
     "solutions"
    ]
   },
   "source": [
    "Take some time to play with the plot formatting and choose a [color](https://matplotlib.org/2.0.2/api/colors_api.html) you like for the bars.  Then call the function with your random samples."
   ]
  },
  {
   "cell_type": "code",
   "execution_count": 64,
   "metadata": {},
   "outputs": [
    {
     "data": {
      "image/png": "[encoded data removed]",
      "text/plain": [
       "<Figure size 432x288 with 1 Axes>"
      ]
     },
     "metadata": {
      "needs_background": "light"
     },
     "output_type": "display_data"
    },
    {
     "data": {
      "text/plain": [
       "(0.5084939900094709, 0.28241487606197446)"
      ]
     },
     "execution_count": 64,
     "metadata": {},
     "output_type": "execute_result"
    }
   ],
   "source": [
    "plot_histogram(samples, xtitle = 'Values', ytitle = 'Counts', title='Histogram of uniform distribution',\n",
    "              limits = [0,1])"
   ]
  },
  {
   "cell_type": "markdown",
   "metadata": {},
   "source": [
    "### 4e. "
   ]
  },
  {
   "cell_type": "markdown",
   "metadata": {
    "flags": [
     "problems",
     "solutions"
    ]
   },
   "source": [
    "Now suppose you make an ensemble of 1000 pseudoexperiments where each pseduoexperiment consists of $N$ uniformly distributed random numbers.  For each pseudoexperiment, define the measurement $S$ to be\n",
    "\n",
    "$$\n",
    "S \\equiv \\frac{1}{N} \\sum_1^N x_i\n",
    "$$\n",
    "\n",
    "Make histograms of $S$ with the same $x-$axis as above for the cases $N=2$, $N=5$\n",
    "and $N=10$.  Determine the mean and the $\\sigma$ of the distributions displayed in\n",
    "these histograms.  "
   ]
  },
  {
   "cell_type": "code",
   "execution_count": 66,
   "metadata": {
    "flags": [
     "problems",
     "solutions"
    ]
   },
   "outputs": [],
   "source": [
    "#Calculates and returns S as defined above\n",
    "def pseudoexperiment(N):\n",
    "    samples = np.random.rand(N)  #samples = [x_1, x_2, ... x_N]\n",
    "    \n",
    "    # s = 0  replace this with your calculation of s\n",
    "    \n",
    "    s = np.sum(samples)/N\n",
    "    \n",
    "    return s\n",
    "\n",
    "#Performs each pseudoexperiment 1000 times and plot a histogram of the results\n",
    "def run_pseudoexperiments(N):\n",
    "    s_list = []\n",
    "    #run the ensemble of 1000 pseudoexperiments and store measurements\n",
    "    for i in range(1000):\n",
    "        s_list.append(pseudoexperiment(N))\n",
    "    #plot a histogram of these 1000 mesa\n",
    "    mean, sigma = plot_histogram(s_list,\"Mean Value of x\",\"Number of Entries\",\"1000 PseudoExperiments, each with \"+str(N)+\" Randomly Distributed x values\",[0.0,1.0])\n",
    "    \n",
    "    return mean,sigma"
   ]
  },
  {
   "cell_type": "code",
   "execution_count": 69,
   "metadata": {
    "flags": [
     "problems",
     "solutions"
    ]
   },
   "outputs": [
    {
     "data": {
      "image/png": "[encoded data removed]",
      "text/plain": [
       "<Figure size 432x288 with 1 Axes>"
      ]
     },
     "metadata": {
      "needs_background": "light"
     },
     "output_type": "display_data"
    },
    {
     "name": "stdout",
     "output_type": "stream",
     "text": [
      "Mean: 0.5077287318570084\n",
      "Sigma: 0.2048964751493592\n"
     ]
    },
    {
     "data": {
      "image/png": "[encoded data removed]",
      "text/plain": [
       "<Figure size 432x288 with 1 Axes>"
      ]
     },
     "metadata": {
      "needs_background": "light"
     },
     "output_type": "display_data"
    },
    {
     "name": "stdout",
     "output_type": "stream",
     "text": [
      "Mean: 0.49997242480791126\n",
      "Sigma: 0.12827138046413356\n"
     ]
    },
    {
     "data": {
      "image/png": "[encoded data removed]",
      "text/plain": [
       "<Figure size 432x288 with 1 Axes>"
      ]
     },
     "metadata": {
      "needs_background": "light"
     },
     "output_type": "display_data"
    },
    {
     "name": "stdout",
     "output_type": "stream",
     "text": [
      "Mean: 0.4903760529830898\n",
      "Sigma: 0.0930375328186929\n"
     ]
    }
   ],
   "source": [
    "# not sure if it was required to print out the mean and sigma since plot_histogram does that already\n",
    "# but I added it in the functions just in case\n",
    "means =[]\n",
    "stdevs = []\n",
    "for N in [2,5,10]:\n",
    "    m,s = run_pseudoexperiments(N)\n",
    "    print('Mean:', m)\n",
    "    print(\"Sigma:\", s)\n",
    "    means.append(m)\n",
    "    stdevs.append(s)"
   ]
  },
  {
   "cell_type": "markdown",
   "metadata": {
    "flags": [
     "problems",
     "solutions"
    ]
   },
   "source": [
    "\n",
    "In each case, compare the $\\sigma$ you obtain to what you would predict if you assumed the experiments followed a normal distribution."
   ]
  },
  {
   "cell_type": "markdown",
   "metadata": {},
   "source": [
    "If we assumed that these experiments followed a normal distribution, they would follow exactly these $sigma$ values. This is the main result of the Central limit theorem, which we just demonstrated above."
   ]
  },
  {
   "cell_type": "code",
   "execution_count": 74,
   "metadata": {
    "scrolled": true
   },
   "outputs": [
    {
     "name": "stdout",
     "output_type": "stream",
     "text": [
      "Sample size: 2\n",
      "Corresponding sigma: 0.2048964751493592\n",
      "Sample size: 4\n",
      "Corresponding sigma: 0.12827138046413356\n",
      "Sample size: 5\n",
      "Corresponding sigma: 0.0930375328186929\n"
     ]
    }
   ],
   "source": [
    "n = [2,4,5]\n",
    "for i in range(len(n)):\n",
    "    print('Sample size:', n[i])\n",
    "    print('Corresponding sigma:', stdevs[i])"
   ]
  },
  {
   "cell_type": "markdown",
   "metadata": {},
   "source": [
    "## Question 5: Detector Resolution and Monte Carlo methods (40 points)"
   ]
  },
  {
   "cell_type": "markdown",
   "metadata": {},
   "source": [
    "### Learning objectives\n",
    "In this question you will:\n",
    "\n",
    "- Understand what position resolution means using a silicon strip detector as an example\n",
    "- Demonstrate that you can use simulation to solve problems that are more complicated than what can be done analytically\n",
    "- Learn how noise affects measurements\n"
   ]
  },
  {
   "cell_type": "markdown",
   "metadata": {
    "flags": [
     "problems",
     "solutions"
    ]
   },
   "source": [
    "In this problem we will study how the position resolution of a detector depends upon the properties of that detector. For our example, we will consider a silicon strip detector. We will describe our detector as an $x$-$y$ plane segmented into strips, each of width $\\ell$ in the $y$-direction. When a track moving in the $z$-direction passes through the plane, it deposits energy in the detector and that energy is collected using charge sensitive ampliﬁers (one per strip). You many assume that the incident track is normal to the silicon plane. Looking down on the strip detector (so that the incident tracks are traveling into the page), the detector looks like this:"
   ]
  },
  {
   "cell_type": "markdown",
   "metadata": {
    "flags": [
     "problems",
     "solutions"
    ]
   },
   "source": [
    "<img src=\"strips.png\" alt=\"Drawing\" style=\"width: 600px;\"/>"
   ]
  },
  {
   "cell_type": "markdown",
   "metadata": {
    "flags": [
     "problems",
     "solutions"
    ]
   },
   "source": [
    "The position $x=0$, $y=0$ is taken to be the center of the middle strip."
   ]
  },
  {
   "cell_type": "markdown",
   "metadata": {},
   "source": [
    "### 5a. "
   ]
  },
  {
   "cell_type": "markdown",
   "metadata": {
    "flags": [
     "problems",
     "solutions"
    ]
   },
   "source": [
    "Suppose all the energy is deposited in a single strip (the strip the\n",
    "track passes through).  Find an expression for the position resolution\n",
    "of the detector as a function of $\\ell$. The position resolution is defined\n",
    "to be $\\sigma_x = \\sqrt{var[(x_{meas}-x_{true})]}$ where $x_{true}$ is the \n",
    "position where the track actually hit the detector.  Because we only\n",
    "know which strip is hit, in this example \n",
    "$x_{meas}$ is the center of the strip that is hit."
   ]
  },
  {
   "cell_type": "markdown",
   "metadata": {},
   "source": [
    "Assuming $x_{meas}$ and $x_{true}$ refer to the same strip per independent measurement, then we can\n",
    "think about this as a uniform distribution over a single strip of length $\\ell$. Using notation from the previous problem, we can use $b=\\ell/2$ and $a=-\\ell/2$. Thus:\n",
    "$$\\sigma^2 = \\frac{(b-a)^2}{12} \\rightarrow \\sigma = \\sqrt{\\frac{\\ell^2}{12}}$$\n",
    "Or that\n",
    "$$\\sigma_x = \\frac{\\ell}{\\sqrt{12}} \\approx 0.289 \\ell$$"
   ]
  },
  {
   "cell_type": "markdown",
   "metadata": {},
   "source": [
    "### 5b. "
   ]
  },
  {
   "cell_type": "markdown",
   "metadata": {
    "flags": [
     "problems",
     "solutions"
    ]
   },
   "source": [
    "Suppose that \n",
    "the charge deposited in our detector spreads out due\n",
    "to physical effects such as diffusion. It is possible for more than\n",
    "one strip to register a signal.  Assume in this part that our electronics\n",
    "is binary (i.e. registers a 1 if the deposited energy on the\n",
    "strip is above a specified threshold\n",
    "and 0 otherwise). Assume the threshold on the electronics is\n",
    "such that particles hitting within\n",
    "a  distance of $\\pm \\ell/3 $ of the center of the strip only register on\n",
    "a single strip while all particles hitting further from the strip\n",
    "center register on two strips.\n",
    "\n",
    "What is the position resolution now? (Here, if\n",
    "only one strip is hit, $x_{meas}$ is the center of the strip.  If\n",
    "two strips are hit, then $x_{meas}$ is the common edge of the two\n",
    "hit strips).  **Note:** this is *not* an unrealistic example.  The ATLAS silicon\n",
    "strip detector has such binary readout."
   ]
  },
  {
   "cell_type": "markdown",
   "metadata": {},
   "source": [
    "For one strip hit, $b-a = \\frac{2}{3} \\ell$. For each of the \"two-hit\" regions, $b-a = \\frac{1}{6} \\ell$. <br/>\n",
    "Actually, that's what I thought it would be based on the wording above, but that does not yield the correct value as the distribution in 5d. So I've come back to change the thought process, but I still think, based on the wording above and the given code from 5d, my initial model should work (but it doesn't for some reason). <br/> \n",
    "Instead, I'm going to say that the 3 regions are of equivalent length/spacing if we consider the whole bar (which is untrue actually. The middle region is 2/3, while each of the sides is 1/6 like I mentioned before). This way, we define separate variances, and can calculate the total variance by addition, and then find the standard deviation afterwards. Thus:\n",
    "$$\\sigma_1^2 = (\\frac{1}{3} \\ell)^2 \\frac{1}{12} = \\frac{1}{108} \\ell^2$$ <br/>\n",
    "$$\\sigma_1^2 = \\sigma_2^2 = \\sigma_3^2$$ <br/>\n",
    "$$\\sigma_x^2 = \\sigma_1^2 + \\sigma_2^2 + \\sigma_3^2 = \\frac{3}{108} = \\frac{1}{36} \\ell^2$$\n",
    "$$\\therefore \\sigma_x = \\frac{\\ell}{6} \\approx 0.167 \\ell$$\n",
    "As shown here, we've decreased $\\sigma_x$ without having to do any hardware improvements"
   ]
  },
  {
   "cell_type": "markdown",
   "metadata": {},
   "source": [
    "### 5c. "
   ]
  },
  {
   "cell_type": "markdown",
   "metadata": {
    "flags": [
     "problems",
     "solutions"
    ]
   },
   "source": [
    "So far, it has been possible to calculate the position resolution analytically. In cases where the detector response is more complicated, this may not be the case. Typically, physicists model detector performance using Monte Carlo simulations. In the remainder of this problem, you will write a simple simulation to determine the position resolution of a silicon detector.\n"
   ]
  },
  {
   "cell_type": "markdown",
   "metadata": {
    "flags": [
     "problems",
     "solutions"
    ]
   },
   "source": [
    "Let's begin by reproducing the analytic results obtained above.\n",
    "Consider a silicon strip detector that consisting of several strips of width $\\ell$.  \n",
    "Assume that the incident particles have a uniform distribution\n",
    "in $x$ with $-\\ell/2 < x < \\ell/2$ and all have $y=0$. (We'll just focus on this \"center strip\", so $x_{meas}$ can either be $-\\ell/2$, $0$, or $\\ell/2$ depending on where the particle hits.)\n",
    "Generate 10,000 such particles for\n",
    "the case described in part **2(a)** and for the case described\n",
    "in part **2(b)**.\n",
    "For each case, make a histogram of ($x_{meas}-x_{true}$) and \n",
    "verify that\n",
    "the resolution \n",
    "is consistent with that  obtained in problem **2**. \n",
    "\n",
    "You can use np.random.uniform() to sample from a uniform distribution with arbitrary bounds. We'd like 10,000 samples for this problem, so we set size = 10000. Note that we take $\\ell = 1$ for simplicity.\n"
   ]
  },
  {
   "cell_type": "code",
   "execution_count": 98,
   "metadata": {
    "flags": [
     "problems",
     "solutions"
    ]
   },
   "outputs": [],
   "source": [
    "import numpy as np\n",
    "samples = np.random.uniform(-0.5, 0.5, size=10000)"
   ]
  },
  {
   "cell_type": "markdown",
   "metadata": {
    "flags": [
     "problems",
     "solutions"
    ]
   },
   "source": [
    "For the case of **2(a)**, $x_{meas}=0$ (the center of the strip), so we can simply find the variance of these samples and take the square root to find the position resolution.  Note that this is really just a repetition of the first problem, but with our bounds shifted from (0,1) to (-0.5,0.5)."
   ]
  },
  {
   "cell_type": "code",
   "execution_count": 99,
   "metadata": {},
   "outputs": [
    {
     "name": "stdout",
     "output_type": "stream",
     "text": [
      "The position resolution of the sample, using the 5a model, is 0.28911046853464173\n"
     ]
    }
   ],
   "source": [
    "variance = np.var(samples)\n",
    "onestripres = np.sqrt(variance)\n",
    "print(\"The position resolution of the sample, using the 5a model, is\", onestripres)"
   ]
  },
  {
   "cell_type": "code",
   "execution_count": 100,
   "metadata": {},
   "outputs": [
    {
     "name": "stdout",
     "output_type": "stream",
     "text": [
      "Compare with the analytical result of 1/sqrt(12) or 0.2886751345948129\n"
     ]
    }
   ],
   "source": [
    "print(\"Compare with the analytical result of 1/sqrt(12) or\", 1/np.sqrt(12))"
   ]
  },
  {
   "cell_type": "markdown",
   "metadata": {},
   "source": [
    "### 5d. "
   ]
  },
  {
   "cell_type": "markdown",
   "metadata": {
    "flags": [
     "problems",
     "solutions"
    ]
   },
   "source": [
    "For the case where two strips are sometimes hit, we need to consider the three different cases for $x_{meas}$."
   ]
  },
  {
   "cell_type": "code",
   "execution_count": 96,
   "metadata": {
    "flags": [
     "problems",
     "solutions"
    ]
   },
   "outputs": [
    {
     "data": {
      "image/png": "[encoded data removed]",
      "text/plain": [
       "<Figure size 432x288 with 1 Axes>"
      ]
     },
     "metadata": {
      "needs_background": "light"
     },
     "output_type": "display_data"
    }
   ],
   "source": [
    "#We'll call the quantity (x_meas - x_true) the \"error\" of the measurement\n",
    "errors = []\n",
    "\n",
    "#Go through each of our random samples and append (x_meas - x_true) to the error list\n",
    "for x_true in samples:\n",
    "    #particle hits the left third of strip\n",
    "    if x_true < -1/3:\n",
    "        x_meas =  -0.5\n",
    "    #particle hits the right third of strip\n",
    "    elif x_true > 1/3:\n",
    "        x_meas = 0.5\n",
    "    # in this case, else would mean the middle 2/3s of the strip\n",
    "    else:\n",
    "        x_meas = 0\n",
    "        \n",
    "    errors.append(x_meas - x_true)\n",
    "\n",
    "meanx, sigmax = plot_histogram(errors,\"x value\",\"Number of Entries\",\"Measured-True Position\",[-0.5,0.5])"
   ]
  },
  {
   "cell_type": "code",
   "execution_count": 101,
   "metadata": {},
   "outputs": [
    {
     "name": "stdout",
     "output_type": "stream",
     "text": [
      "The overall position resolution is 0.16627822869207717\n",
      "Compare with the analytical result 1/6 or 0.16666666666666666\n"
     ]
    }
   ],
   "source": [
    "print(\"The overall position resolution is\", sigmax)\n",
    "print(\"Compare with the analytical result 1/6 or\", 1/6)"
   ]
  },
  {
   "cell_type": "code",
   "execution_count": null,
   "metadata": {},
   "outputs": [],
   "source": []
  }
 ],
 "metadata": {
  "kernelspec": {
   "display_name": "Python 3",
   "language": "python",
   "name": "python3"
  },
  "language_info": {
   "codemirror_mode": {
    "name": "ipython",
    "version": 3
   },
   "file_extension": ".py",
   "mimetype": "text/x-python",
   "name": "python",
   "nbconvert_exporter": "python",
   "pygments_lexer": "ipython3",
   "version": "3.7.1"
  }
 },
 "nbformat": 4,
 "nbformat_minor": 4
}
